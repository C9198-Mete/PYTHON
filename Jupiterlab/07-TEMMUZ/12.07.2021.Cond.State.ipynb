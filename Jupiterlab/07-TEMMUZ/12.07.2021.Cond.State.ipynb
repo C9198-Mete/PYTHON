{
 "cells": [
  {
   "cell_type": "markdown",
   "id": "add22b39-a839-445d-8f3a-3c5690520863",
   "metadata": {},
   "source": [
    "xxxxxxxxx   CONDITIONAL STATEMENTS   xxxxxxxxxxx\n"
   ]
  },
  {
   "cell_type": "code",
   "execution_count": 3,
   "id": "890d3946-0cad-48a6-8dc2-e2b47249602d",
   "metadata": {},
   "outputs": [
    {
     "output_type": "stream",
     "name": "stdout",
     "text": [
      "There is too much apple\n"
     ]
    }
   ],
   "source": [
    "apple = 13\n",
    "\n",
    "if apple > 10:\n",
    "    print(\"There is too much apple\")"
   ]
  },
  {
   "cell_type": "code",
   "execution_count": 4,
   "id": "641fa537-6615-467d-a7f7-1722a087b041",
   "metadata": {},
   "outputs": [
    {
     "name": "stdout",
     "output_type": "stream",
     "text": [
      "is x equal to y?                 : False\n",
      "is x not equal to y?             : True\n",
      "is x less than y?                : True\n",
      "is x greater than y?             : False\n",
      "is x less than or equal to y?    : True\n",
      "is x greater than or equal to y? : False\n"
     ]
    }
   ],
   "source": [
    "x = 6\n",
    "y = 9\n",
    "print (\"is x equal to y?                 :\" , x == y)\n",
    "print (\"is x not equal to y?             :\" , x != y)\n",
    "print (\"is x less than y?                :\" , x < y)\n",
    "print (\"is x greater than y?             :\" , x > y)\n",
    "print (\"is x less than or equal to y?    :\" , x <= y)\n",
    "print (\"is x greater than or equal to y? :\" , x >= y)\n"
   ]
  },
  {
   "cell_type": "code",
   "execution_count": 6,
   "id": "929899d7-8fd6-45a8-ac2a-39a93fd95310",
   "metadata": {},
   "outputs": [
    {
     "output_type": "stream",
     "name": "stdout",
     "text": [
      "Mesut\n"
     ]
    }
   ],
   "source": [
    "Fenerbahce = 29\n",
    "\n",
    "if Fenerbahce <= 28:\n",
    "    print(\"Dirar\")\n",
    "else:\n",
    "    print(\"Mesut\")"
   ]
  },
  {
   "cell_type": "code",
   "execution_count": 6,
   "id": "8fa659a7-cb41-454c-9c6f-1be87c618c98",
   "metadata": {},
   "outputs": [
    {
     "name": "stdout",
     "output_type": "stream",
     "text": [
      "Number is bigger than 3\n"
     ]
    }
   ],
   "source": [
    "number = 5\n",
    "if number <= 3:    \n",
    "    print(\"Number is smaller than or equal to 3\") \n",
    "else:  # Optional clause (you can only have one else)\n",
    "    print(\"Number is bigger than 3\")"
   ]
  },
  {
   "cell_type": "code",
   "execution_count": 11,
   "id": "646abcb7-0acc-42cf-b8a7-e2ddae2f7b3f",
   "metadata": {},
   "outputs": [
    {
     "name": "stdin",
     "output_type": "stream",
     "text": [
      "What is your age: 33\n"
     ]
    },
    {
     "name": "stdout",
     "output_type": "stream",
     "text": [
      "You are old\n"
     ]
    }
   ],
   "source": [
    "age = int(input(\"What is your age:\"))\n",
    "\n",
    "if age < 29 :\n",
    "    print(\"You are young\")\n",
    "elif age == 30 :\n",
    "    print(\"You are best\")\n",
    "else :\n",
    "    print(\"You are old\")"
   ]
  },
  {
   "cell_type": "code",
   "execution_count": 12,
   "id": "270a285a-9c2f-497a-81b4-7e04e2256f63",
   "metadata": {},
   "outputs": [
    {
     "name": "stdout",
     "output_type": "stream",
     "text": [
      "No such audience, stay at your home!\n"
     ]
    }
   ],
   "source": [
    "audience = \"baby\"\n",
    "\n",
    "if audience == \"kid\":\n",
    "    print(\"it is free to go to cinema\")\n",
    "elif audience == \"teen\":\n",
    "    print(\"discounted price!\")\n",
    "elif audience == \"adult\":\n",
    "    print(\"normal price\")\n",
    "else:\n",
    "    print(\"No such audience, stay at your home!\")"
   ]
  },
  {
   "cell_type": "code",
   "execution_count": 1,
   "id": "9e4b2628-6632-45ee-97b0-0d3468d601d7",
   "metadata": {},
   "outputs": [
    {
     "output_type": "stream",
     "name": "stdout",
     "text": [
      "A+\n"
     ]
    }
   ],
   "source": [
    "score = int(input(\"Enter your score:\"))\n",
    "\n",
    "if score >90 :\n",
    "    if score >= 95:\n",
    "        print(\"A+\")\n",
    "    else:\n",
    "        print(\"A\")\n",
    "elif score > 80 :\n",
    "    if score >= 85:\n",
    "        print(\"B+\")\n",
    "    else :\n",
    "        print(\"B\")\n",
    "elif score > 70 :\n",
    "    if score >= 75:\n",
    "        print(\"C+\")\n",
    "    else:\n",
    "        print(\"C\")\n",
    "else:\n",
    "    print(\"Your score below C\")"
   ]
  },
  {
   "cell_type": "code",
   "execution_count": 2,
   "id": "65dd1996-5bed-4a17-aa23-dc34dd499ca4",
   "metadata": {},
   "outputs": [
    {
     "output_type": "stream",
     "name": "stdout",
     "text": [
      "Your degree: A+\n"
     ]
    }
   ],
   "source": [
    "score = int (input(\"Enter your score :\"))\n",
    "\n",
    "if score >= 90:\n",
    "    if score >= 95:\n",
    "        Score_letter=\"A+\"\n",
    "    else:\n",
    "        Score_letter=\"A\"\n",
    "elif score >= 80:\n",
    "    if score >= 85:\n",
    "        Score_letter=\"B+\"\n",
    "    else:\n",
    "        Score_letter=\"B\"\n",
    "else:\n",
    "    Score_letter=\"below B\"\n",
    "\n",
    "print (\"Your degree: %s\" % Score_letter)"
   ]
  },
  {
   "cell_type": "code",
   "execution_count": 23,
   "id": "e4a814df-f807-456d-928f-3f96977f00b8",
   "metadata": {},
   "outputs": [
    {
     "name": "stdout",
     "output_type": "stream",
     "text": [
      "0\n",
      "1\n",
      "2\n",
      "3\n",
      "4\n",
      "5\n",
      "6\n",
      "Now, number is equal to 7\n"
     ]
    }
   ],
   "source": [
    "number = 0\n",
    "\n",
    "while number < 7 :\n",
    "    print(number)\n",
    "    number += 1\n",
    "print(\"Now, number is equal to 7\")"
   ]
  },
  {
   "cell_type": "code",
   "execution_count": 24,
   "id": "63d84769-2dfa-4998-9fa7-9c44df799138",
   "metadata": {},
   "outputs": [
    {
     "name": "stdout",
     "output_type": "stream",
     "text": [
      "Let's play the guessing game!\n"
     ]
    },
    {
     "name": "stdin",
     "output_type": "stream",
     "text": [
      "What number am I thinking of?   34\n"
     ]
    },
    {
     "name": "stdout",
     "output_type": "stream",
     "text": [
      "Little higher\n"
     ]
    },
    {
     "name": "stdin",
     "output_type": "stream",
     "text": [
      "What number am I thinking of?   38\n"
     ]
    },
    {
     "name": "stdout",
     "output_type": "stream",
     "text": [
      "Little higher\n"
     ]
    },
    {
     "name": "stdin",
     "output_type": "stream",
     "text": [
      "What number am I thinking of?   67\n"
     ]
    },
    {
     "name": "stdout",
     "output_type": "stream",
     "text": [
      "Little lower\n"
     ]
    },
    {
     "name": "stdin",
     "output_type": "stream",
     "text": [
      "What number am I thinking of?   45\n"
     ]
    },
    {
     "name": "stdout",
     "output_type": "stream",
     "text": [
      "Little lower\n"
     ]
    },
    {
     "name": "stdin",
     "output_type": "stream",
     "text": [
      "What number am I thinking of?   44\n"
     ]
    },
    {
     "name": "stdout",
     "output_type": "stream",
     "text": [
      "Are you a MINDREADER!!!\n"
     ]
    }
   ],
   "source": [
    "answer = 44\n",
    "\n",
    "question = 'What number am I thinking of?  '\n",
    "print (\"Let's play the guessing game!\")\n",
    "\n",
    "while True:\n",
    "    guess = int(input(question))\n",
    "\n",
    "    if guess < answer:\n",
    "        print('Little higher')\n",
    "    elif guess > answer:\n",
    "        print('Little lower')\n",
    "    else:  # guess == answer\n",
    "        print('Are you a MINDREADER!!!')\n",
    "        break"
   ]
  },
  {
   "cell_type": "code",
   "execution_count": 34,
   "id": "5272d7a7-5ca6-482c-8a08-77b04463db69",
   "metadata": {},
   "outputs": [
    {
     "name": "stdout",
     "output_type": "stream",
     "text": [
      "Rose\n",
      "Orchid\n",
      "Tulip\n"
     ]
    }
   ],
   "source": [
    "flowers = ['Rose', 'Orchid', 'Tulip']\n",
    "count1 = len(flowers)\n",
    "count2 = -count1\n",
    "\n",
    "while count1 > 0 :\n",
    "    print(flowers[count2])\n",
    "    count1 -= 1\n",
    "    count2 += 1\n",
    "    \n",
    "  \n",
    "    "
   ]
  },
  {
   "cell_type": "code",
   "execution_count": 35,
   "id": "8d80ecf3-1270-40f7-a884-c9eb9a8506d3",
   "metadata": {},
   "outputs": [
    {
     "name": "stdout",
     "output_type": "stream",
     "text": [
      "n1\n",
      "n2\n"
     ]
    }
   ],
   "source": [
    "for i in {'n1' : 'one', 'n2' : 'two'} : \n",
    "    print(i)"
   ]
  },
  {
   "cell_type": "code",
   "execution_count": 36,
   "id": "87161360-e6f5-49fa-9a8a-b18a3fee5e84",
   "metadata": {},
   "outputs": [
    {
     "name": "stdout",
     "output_type": "stream",
     "text": [
      "77\n"
     ]
    }
   ],
   "source": [
    "student_name = 'Arthur'\n",
    "\n",
    "marks = {'James': 90, 'Jules': 55, 'Arthur': 77}\n",
    "\n",
    "for student in marks:\n",
    "    if student == student_name:\n",
    "        print(marks[student])\n",
    "        break\n",
    "else:\n",
    "    print('No entry with that name found.')"
   ]
  },
  {
   "cell_type": "code",
   "execution_count": 37,
   "id": "b604c4d9-c079-4688-b907-991454f2ac0c",
   "metadata": {},
   "outputs": [
    {
     "name": "stdout",
     "output_type": "stream",
     "text": [
      "1\n",
      "4\n",
      "9\n",
      "16\n"
     ]
    }
   ],
   "source": [
    "iterable = [1, 2, 3, 4]\n",
    "\n",
    "for i in iterable :\n",
    "    print(i**2)"
   ]
  },
  {
   "cell_type": "code",
   "execution_count": 38,
   "id": "64e3c9f9-d173-4695-925b-8a097a2885d8",
   "metadata": {},
   "outputs": [
    {
     "name": "stdout",
     "output_type": "stream",
     "text": [
      "c\n",
      "l\n",
      "a\n",
      "r\n",
      "u\n",
      "s\n",
      "w\n",
      "a\n",
      "y\n"
     ]
    }
   ],
   "source": [
    "course = 'clarusway'\n",
    "\n",
    "for i in course :\n",
    "    print(i)"
   ]
  },
  {
   "cell_type": "code",
   "execution_count": 39,
   "id": "c3718966-4c52-4efe-88be-c07beb204de2",
   "metadata": {},
   "outputs": [
    {
     "name": "stdin",
     "output_type": "stream",
     "text": [
      "How many times should I say 'I love you' 4\n"
     ]
    },
    {
     "name": "stdout",
     "output_type": "stream",
     "text": [
      "I love you\n",
      "I love you\n",
      "I love you\n",
      "I love you\n"
     ]
    }
   ],
   "source": [
    "times = int(input(\"How many times should I say 'I love you'\"))\n",
    "\n",
    "for i in range(times):\n",
    "    print('I love you')"
   ]
  },
  {
   "cell_type": "code",
   "execution_count": 40,
   "id": "6588a0c1-93d0-4549-985b-743641743426",
   "metadata": {},
   "outputs": [
    {
     "name": "stdin",
     "output_type": "stream",
     "text": [
      "enter a number between 1-10 9\n"
     ]
    },
    {
     "name": "stdout",
     "output_type": "stream",
     "text": [
      "9x0 =  0\n",
      "9x1 =  9\n",
      "9x2 =  18\n",
      "9x3 =  27\n",
      "9x4 =  36\n",
      "9x5 =  45\n",
      "9x6 =  54\n",
      "9x7 =  63\n",
      "9x8 =  72\n",
      "9x9 =  81\n",
      "9x10 =  90\n"
     ]
    }
   ],
   "source": [
    "n = int(input('enter a number between 1-10'))\n",
    "\n",
    "for i in range(11):\n",
    "    print('{}x{} = '.format(n, i), n*i)"
   ]
  },
  {
   "cell_type": "code",
   "execution_count": 43,
   "id": "c1faad19-2494-4404-9a91-b069b4f796e0",
   "metadata": {},
   "outputs": [
    {
     "name": "stdin",
     "output_type": "stream",
     "text": [
      "enter a number between 1-10 5\n"
     ]
    },
    {
     "name": "stdout",
     "output_type": "stream",
     "text": [
      "5 x 0 = 0\n",
      "5 x 1 = 5\n",
      "5 x 2 = 10\n",
      "5 x 3 = 15\n",
      "5 x 4 = 20\n",
      "5 x 5 = 25\n",
      "5 x 6 = 30\n",
      "5 x 7 = 35\n",
      "5 x 8 = 40\n",
      "5 x 9 = 45\n",
      "5 x 10 = 50\n"
     ]
    }
   ],
   "source": [
    "n = int(input('enter a number between 1-10'))\n",
    "\n",
    "for i in range(11):\n",
    "    print(\"%d x %d = %d\" % (n, i, n*i))"
   ]
  },
  {
   "cell_type": "code",
   "execution_count": 49,
   "id": "f164a25c-57ba-4d96-bf8f-96ecf2535591",
   "metadata": {},
   "outputs": [
    {
     "name": "stdin",
     "output_type": "stream",
     "text": [
      "Please enter your saved amount:  400\n"
     ]
    },
    {
     "name": "stdout",
     "output_type": "stream",
     "text": [
      "Yippee! You can buy your PS4\n"
     ]
    }
   ],
   "source": [
    "ps4_price = 100\n",
    "saved_amount = int(input('Please enter your saved amount: '))\n",
    "\n",
    "if saved_amount > ps4_price :\n",
    "    print(\"Yippee! You can buy your PS4\")\n",
    "elif saved_amount <= ps4_price/2:\n",
    "    print(\"You must save more, keep saving!\")\n",
    "elif saved_amount > ps4_price/2:\n",
    "    print(\"You saved more than half, keep saving!\")\n"
   ]
  },
  {
   "cell_type": "code",
   "execution_count": 52,
   "id": "9ca739df-ce74-49a2-913b-cbb8cfefe7a1",
   "metadata": {},
   "outputs": [
    {
     "name": "stdin",
     "output_type": "stream",
     "text": [
      "Please enter the mark:  60\n"
     ]
    },
    {
     "name": "stdout",
     "output_type": "stream",
     "text": [
      "C(Medium)\n"
     ]
    }
   ],
   "source": [
    "math_mark = int(input('Please enter the mark: '))\n",
    "\n",
    "if math_mark >= 85:\n",
    "    print(\"A (Excellent)\")\n",
    "elif math_mark >= 70:\n",
    "    print(\"B (Good)\")\n",
    "elif math_mark >= 60:\n",
    "    print(\"C (Medium)\")\n",
    "elif math_mark >= 45:\n",
    "    print(\"D (Not Bad)\")\n",
    "else:\n",
    "    print(\"F (Failed)\")\n",
    "    "
   ]
  },
  {
   "cell_type": "code",
   "execution_count": 55,
   "id": "ca36a02d-d844-4e05-9214-1625038657d6",
   "metadata": {},
   "outputs": [
    {
     "name": "stdout",
     "output_type": "stream",
     "text": [
      "11\n"
     ]
    }
   ],
   "source": [
    "max = 8\n",
    "if 11 > max:\n",
    "    max = 11\n",
    "    print(max)\n"
   ]
  },
  {
   "cell_type": "code",
   "execution_count": 16,
   "id": "8cdf9e14-e8f0-45c2-a6f3-e380967fcea4",
   "metadata": {},
   "outputs": [
    {
     "output_type": "stream",
     "name": "stdout",
     "text": [
      "0\n1\n4\n9\n"
     ]
    }
   ],
   "source": [
    "\n",
    "\n",
    "number = int(input('Please enter a number: '))\n",
    "a = 0\n",
    "while a < number :\n",
    "    print((a )**2)\n",
    "    a += 1\n",
    "\n"
   ]
  },
  {
   "cell_type": "code",
   "execution_count": null,
   "id": "1952db1e-efa9-40d0-9e3e-8356ba7ec69c",
   "metadata": {},
   "outputs": [],
   "source": [
    "sample_list = [{\"section\":5, \"topic\":2}, 'clarusway', [1, 4], 2020, 3.14, 1+618j, False, (10, 20)]\n",
    "for i in sample_list:\n",
    "    print(\"The type of {} is\".format(i),type(i))\n",
    "    "
   ]
  },
  {
   "cell_type": "code",
   "execution_count": 82,
   "id": "1cef4fc2-a77b-4c67-882f-5e57a2f5a03b",
   "metadata": {},
   "outputs": [
    {
     "name": "stdin",
     "output_type": "stream",
     "text": [
      "Enter your name: mete\n"
     ]
    },
    {
     "name": "stdout",
     "output_type": "stream",
     "text": [
      "Hello, Joseph! The password is : W@12\n"
     ]
    }
   ],
   "source": [
    "name = str(input(\"Enter your name:\"))\n",
    "my_name = \"Mete\"\n",
    "if name.capitalize() == my_name:\n",
    "    print(\"Hello, Joseph! The password is : W@12\")\n",
    "else:\n",
    "    print(\"Hello, Amina! See you later.\")"
   ]
  },
  {
   "cell_type": "code",
   "execution_count": 14,
   "id": "5a0ebdc2-85fd-43f9-995b-d291781b20f9",
   "metadata": {},
   "outputs": [
    {
     "output_type": "stream",
     "name": "stdout",
     "text": [
      "[0, 1, 4, 9, 16, 25, 36, 49, 64, 81, 100, 121]\n"
     ]
    }
   ],
   "source": [
    "liste = list()\n",
    "x = 0\n",
    "while x < 12:\n",
    "    liste.append(x*x)\n",
    "    x += 1\n",
    "print(liste)"
   ]
  },
  {
   "cell_type": "code",
   "execution_count": 20,
   "id": "45008b8b-59b1-4cc5-9a04-2975162a2952",
   "metadata": {},
   "outputs": [],
   "source": [
    "if 0 :\n",
    "    print(\"hello\") # 0 false oldugu icin calismaz"
   ]
  },
  {
   "cell_type": "code",
   "execution_count": 21,
   "metadata": {},
   "outputs": [
    {
     "output_type": "stream",
     "name": "stdout",
     "text": [
      "hello\n"
     ]
    }
   ],
   "source": [
    "if 1:\n",
    "    print('hello') # 1 True oldugu icin calisir."
   ]
  },
  {
   "cell_type": "code",
   "execution_count": 24,
   "metadata": {},
   "outputs": [
    {
     "output_type": "stream",
     "name": "stdout",
     "text": [
      "Bon Appetit!\n"
     ]
    }
   ],
   "source": [
    "minced = True\n",
    "bread = True\n",
    "lettuce = True\n",
    "onion = True\n",
    "grocer = True\n",
    "hamburger = (minced and bread and grocer) and (lettuce or onion)\n",
    "if hamburger:\n",
    "    print(\"Bon Appetit!\")\n"
   ]
  },
  {
   "cell_type": "code",
   "execution_count": 25,
   "metadata": {},
   "outputs": [
    {
     "output_type": "stream",
     "name": "stdout",
     "text": [
      "We are the same!\n"
     ]
    }
   ],
   "source": [
    "a = \"TWELVE PLUS ONE\"\n",
    "b = \"ELEVEN PLUS TWO\"\n",
    "A = set(a)\n",
    "B = set(b)\n",
    "if A == B:\n",
    "    print(\"We are the same!\")"
   ]
  },
  {
   "cell_type": "code",
   "execution_count": 2,
   "metadata": {},
   "outputs": [
    {
     "output_type": "stream",
     "name": "stdout",
     "text": [
      "<class 'bool'>\nTrue\nYou entered True\n"
     ]
    }
   ],
   "source": [
    "a = input(\"Write Yes or No:\").capitalize().strip() == \"Yes\"\n",
    "print(type(a))\n",
    "print(a)\n",
    "print(\"You entered\", a)"
   ]
  },
  {
   "cell_type": "code",
   "execution_count": 33,
   "metadata": {},
   "outputs": [
    {
     "output_type": "stream",
     "name": "stdout",
     "text": [
      "5 is odd\n"
     ]
    }
   ],
   "source": [
    "a = int(input(\"enter a number:\"))\n",
    "if a % 2 == 0 :\n",
    "    print(a, \"is even\")\n",
    "else:\n",
    "    print(a, \"is odd\")"
   ]
  },
  {
   "cell_type": "code",
   "execution_count": 18,
   "metadata": {},
   "outputs": [
    {
     "output_type": "stream",
     "name": "stdout",
     "text": [
      "False\nFalse\nTrue\n"
     ]
    }
   ],
   "source": [
    "\n",
    "a = Left = set(\"qwertasdfgzxcvb\")\n",
    "b = Right = set(\"yuiophjklnm\")\n",
    "x = set(\"tester\")\n",
    "y = set(\"polly\")\n",
    "z = set(\"clarusway\")\n",
    "print(bool((x & a) and (x & b)))\n",
    "print(bool((y & a) and (y & b)))\n",
    "print(bool((z & a) and (z & b)))"
   ]
  },
  {
   "cell_type": "code",
   "execution_count": 17,
   "metadata": {},
   "outputs": [
    {
     "output_type": "stream",
     "name": "stdout",
     "text": [
      "Hello, Mete! The password is : W@12\n"
     ]
    }
   ],
   "source": [
    "name = input(\"Enter your name:\").capitalize()\n",
    "my_name = \"Mete\"\n",
    "if name == my_name:\n",
    "    print(\"Hello, {}! The password is : W@12\".format(my_name))\n",
    "else:\n",
    "    print(\"Hello, {}! See you later.\".format(name))"
   ]
  },
  {
   "source": [
    "name = str( input(\"Enter your name:\").capitalize())\n",
    "my_name = \"Mete\"\n",
    "if name == my_name:\n",
    "    print(\"Hello, %s! The password is : W@12\" % (my_name))\n",
    "else:\n",
    "    print(\"Hello, %s! See you later.\" % (name))"
   ],
   "cell_type": "code",
   "metadata": {},
   "execution_count": 16,
   "outputs": [
    {
     "output_type": "stream",
     "name": "stdout",
     "text": [
      "Hello, Ahmet! See you later.\n"
     ]
    }
   ]
  },
  {
   "cell_type": "code",
   "execution_count": 19,
   "metadata": {},
   "outputs": [
    {
     "output_type": "stream",
     "name": "stdout",
     "text": [
      "the most frequent number is 3 and it was 4 times repeated\n"
     ]
    }
   ],
   "source": [
    "numbers = [1, 3, 7, 4, 3, 0, 3, 6, 3]\n",
    "a = max(numbers, key=numbers.count)\n",
    "b = numbers.count(a)\n",
    "print(\"the most frequent number is\", a, \"and it was\", b, \"times repeated\")"
   ]
  },
  {
   "cell_type": "code",
   "execution_count": 25,
   "metadata": {},
   "outputs": [
    {
     "output_type": "execute_result",
     "data": {
      "text/plain": [
       "dict"
      ]
     },
     "metadata": {},
     "execution_count": 25
    }
   ],
   "source": [
    "a = set(\"1234\")\n",
    "a = {\"1\",\"2\",\"3\",\"4\"}\n",
    "b = set()\n",
    "c = {}\n",
    "type(c)"
   ]
  },
  {
   "cell_type": "code",
   "execution_count": 27,
   "metadata": {},
   "outputs": [
    {
     "output_type": "stream",
     "name": "stdout",
     "text": [
      "{'English', 'German'}\n"
     ]
    }
   ],
   "source": [
    "language = {'English', 'French', 'German'}\n",
    "language.remove(\"French\")\n",
    "print(language)"
   ]
  },
  {
   "cell_type": "code",
   "execution_count": 30,
   "metadata": {},
   "outputs": [
    {
     "output_type": "error",
     "ename": "KeyError",
     "evalue": "'fish'",
     "traceback": [
      "\u001b[1;31m---------------------------------------------------------------------------\u001b[0m",
      "\u001b[1;31mKeyError\u001b[0m                                  Traceback (most recent call last)",
      "\u001b[1;32m<ipython-input-30-e87f455a2123>\u001b[0m in \u001b[0;36m<module>\u001b[1;34m\u001b[0m\n\u001b[0;32m      1\u001b[0m \u001b[0manimal\u001b[0m \u001b[1;33m=\u001b[0m \u001b[1;33m{\u001b[0m\u001b[1;34m'cat'\u001b[0m\u001b[1;33m,\u001b[0m \u001b[1;34m'dog'\u001b[0m\u001b[1;33m,\u001b[0m \u001b[1;34m'rabbit'\u001b[0m\u001b[1;33m,\u001b[0m \u001b[1;34m'guinea pig'\u001b[0m\u001b[1;33m}\u001b[0m\u001b[1;33m\u001b[0m\u001b[1;33m\u001b[0m\u001b[0m\n\u001b[1;32m----> 2\u001b[1;33m \u001b[0manimal\u001b[0m\u001b[1;33m.\u001b[0m\u001b[0mremove\u001b[0m\u001b[1;33m(\u001b[0m\u001b[1;34m'fish'\u001b[0m\u001b[1;33m)\u001b[0m\u001b[1;33m\u001b[0m\u001b[1;33m\u001b[0m\u001b[0m\n\u001b[0m\u001b[0;32m      3\u001b[0m \u001b[0mprint\u001b[0m\u001b[1;33m(\u001b[0m\u001b[0manimal\u001b[0m\u001b[1;33m)\u001b[0m\u001b[1;33m\u001b[0m\u001b[1;33m\u001b[0m\u001b[0m\n",
      "\u001b[1;31mKeyError\u001b[0m: 'fish'"
     ]
    }
   ],
   "source": [
    "animal = {'cat', 'dog', 'rabbit', 'guinea pig'}\n",
    "animal.remove('fish')\n",
    "print(animal)"
   ]
  },
  {
   "cell_type": "code",
   "execution_count": 31,
   "metadata": {},
   "outputs": [
    {
     "output_type": "stream",
     "name": "stdout",
     "text": [
      "{'dog', 'cat', 'guinea pig', 'rabbit'}\n"
     ]
    }
   ],
   "source": [
    "animal = {'cat', 'dog', 'rabbit', 'guinea pig'}\n",
    "animal.discard('fish')\n",
    "print(animal)"
   ]
  },
  {
   "cell_type": "code",
   "execution_count": null,
   "metadata": {},
   "outputs": [],
   "source": []
  }
 ],
 "metadata": {
  "kernelspec": {
   "name": "python3",
   "display_name": "Python 3.8.8 64-bit ('base': conda)"
  },
  "language_info": {
   "codemirror_mode": {
    "name": "ipython",
    "version": 3
   },
   "file_extension": ".py",
   "mimetype": "text/x-python",
   "name": "python",
   "nbconvert_exporter": "python",
   "pygments_lexer": "ipython3",
   "version": "3.8.8"
  },
  "interpreter": {
   "hash": "9ec0352fc8b2167b425b7ba2d09447852104122f9fd4db7a161f99801416a680"
  }
 },
 "nbformat": 4,
 "nbformat_minor": 5
}