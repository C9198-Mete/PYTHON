{
 "metadata": {
  "language_info": {
   "codemirror_mode": {
    "name": "ipython",
    "version": 3
   },
   "file_extension": ".py",
   "mimetype": "text/x-python",
   "name": "python",
   "nbconvert_exporter": "python",
   "pygments_lexer": "ipython3",
   "version": "3.9.6"
  },
  "orig_nbformat": 4,
  "kernelspec": {
   "name": "python3",
   "display_name": "Python 3.9.6 64-bit"
  },
  "interpreter": {
   "hash": "c7c795ceb90a1e9ce126740c26b69a539ac4d6b6de3227ab1efd70667c579877"
  }
 },
 "nbformat": 4,
 "nbformat_minor": 2,
 "cells": [
  {
   "cell_type": "code",
   "execution_count": 3,
   "metadata": {},
   "outputs": [
    {
     "output_type": "stream",
     "name": "stdout",
     "text": [
      "34 is Even\n"
     ]
    }
   ],
   "source": [
    "a = int(input(\"enter a number:\"))\n",
    "if (a % 2) == 0:\n",
    "    print(\"{} is Even\".format(a))\n",
    "else:\n",
    "    print(\"{} is Odd\".format(a))"
   ]
  },
  {
   "cell_type": "code",
   "execution_count": 6,
   "metadata": {},
   "outputs": [],
   "source": [
    "a = int(input(\"enter a number:\"))\n",
    "if a > 0:\n",
    "    print(\"{} is positive\".format(a))\n",
    "elif a < 0:\n",
    "    print(\"{} is negative\".format(a))"
   ]
  },
  {
   "cell_type": "code",
   "execution_count": 8,
   "metadata": {},
   "outputs": [
    {
     "output_type": "stream",
     "name": "stdout",
     "text": [
      "34 bigger than 23\n"
     ]
    }
   ],
   "source": [
    "a = int(input(\"enter a first number:\"))\n",
    "b = int(input(\"enter a second number:\"))\n",
    "if a > b:\n",
    "    print(\"{} bigger than {}\".format(a,b))\n",
    "else:\n",
    "    print(\"{} bigger than {}\".format(b,a))"
   ]
  },
  {
   "cell_type": "code",
   "execution_count": 1,
   "metadata": {},
   "outputs": [
    {
     "output_type": "stream",
     "name": "stdout",
     "text": [
      "No\n"
     ]
    }
   ],
   "source": [
    "a = False # Value nun type i boolean ise sadece onu yazariz.\n",
    "if a:\n",
    "    print(\"Yes\")\n",
    "else:\n",
    "    print(\"No\")"
   ]
  },
  {
   "cell_type": "code",
   "execution_count": 8,
   "metadata": {},
   "outputs": [
    {
     "output_type": "stream",
     "name": "stdout",
     "text": [
      "The largest number is: 5\n"
     ]
    }
   ],
   "source": [
    "a = int(input(\"Enter a number:\"))\n",
    "b = int(input(\"Enter a number:\"))\n",
    "c = int(input(\"Enter a number:\"))\n",
    "if a > b and a > c:\n",
    "    larg_num = a\n",
    "elif b > a and b > c:\n",
    "    larg_num = b\n",
    "else:\n",
    "    larg_num = c\n",
    "print(\"The largest number is:\",larg_num)"
   ]
  },
  {
   "cell_type": "code",
   "execution_count": 9,
   "metadata": {},
   "outputs": [
    {
     "output_type": "stream",
     "name": "stdout",
     "text": [
      "0.0 is Zero\n"
     ]
    }
   ],
   "source": [
    "a = float(input(\"Enter a number:\"))\n",
    "if a > 0 :\n",
    "    print(a,\"is positive\")\n",
    "elif a < 0:\n",
    "    print(a,\"is negative\")\n",
    "else:\n",
    "    print(a,\"is Zero\")"
   ]
  },
  {
   "cell_type": "code",
   "execution_count": 10,
   "metadata": {},
   "outputs": [
    {
     "output_type": "stream",
     "name": "stdout",
     "text": [
      "uc\nkod sonu geldi.\n"
     ]
    }
   ],
   "source": [
    "x = 3\n",
    "if x == 3:\n",
    "    print(\"uc\")\n",
    "elif x == 4:\n",
    "    print(\"dort\")\n",
    "elif x == 5:\n",
    "    print(\"bes\")\n",
    "else:\n",
    "    print(\"sonsuz\")\n",
    "print(\"kod sonu geldi.\")"
   ]
  },
  {
   "cell_type": "code",
   "execution_count": 12,
   "metadata": {},
   "outputs": [
    {
     "output_type": "stream",
     "name": "stdout",
     "text": [
      "Your score below B\n"
     ]
    }
   ],
   "source": [
    "score = int(input(\"Enter your score:\"))\n",
    "\n",
    "if score >= 90 :\n",
    "    if score >= 95:\n",
    "        print(\"Your degree is A+\")\n",
    "    else:\n",
    "        print(\"Your degree is A\")\n",
    "elif score >= 80 :\n",
    "    if score >= 85:\n",
    "        print(\"Your degree is B+\")\n",
    "    else :\n",
    "        print(\"Your degree is B\")\n",
    "else:\n",
    "    print(\"Your score below B\")"
   ]
  },
  {
   "cell_type": "code",
   "execution_count": 13,
   "metadata": {},
   "outputs": [
    {
     "output_type": "stream",
     "name": "stdout",
     "text": [
      "10\n20\n"
     ]
    }
   ],
   "source": [
    "items = (10, 20)\n",
    "x, y = items\n",
    "print(x)\n",
    "print(y)"
   ]
  },
  {
   "cell_type": "code",
   "execution_count": 15,
   "metadata": {},
   "outputs": [
    {
     "output_type": "stream",
     "name": "stdout",
     "text": [
      "10\n30\n10 30 40\n"
     ]
    }
   ],
   "source": [
    "a, _, b, _ = (10, 20, 30, 40)\n",
    "print(a)\n",
    "print(b)\n",
    "print(a, b, _) # son degeri alir"
   ]
  },
  {
   "cell_type": "code",
   "execution_count": 17,
   "metadata": {},
   "outputs": [
    {
     "output_type": "stream",
     "name": "stdout",
     "text": [
      "11\n[33, 44, 55]\n"
     ]
    }
   ],
   "source": [
    "x, y, *z = (11, 22, 33, 44, 55)\n",
    "print(x)\n",
    "print(z)\n"
   ]
  },
  {
   "cell_type": "code",
   "execution_count": 18,
   "metadata": {},
   "outputs": [
    {
     "output_type": "stream",
     "name": "stdout",
     "text": [
      "[33, 44, 55, 66, 77]\n"
     ]
    }
   ],
   "source": [
    "x, y, *_= (11, 22, 33, 44, 55, 66, 77)\n",
    "print(_)"
   ]
  },
  {
   "cell_type": "code",
   "execution_count": 19,
   "metadata": {},
   "outputs": [
    {
     "output_type": "stream",
     "name": "stdout",
     "text": [
      "11\n22\n[33, 44, 55, 66]\n77\n"
     ]
    }
   ],
   "source": [
    "x, y, *z, t = (11, 22, 33, 44, 55, 66, 77)\n",
    "print(x)\n",
    "print(y)\n",
    "print(z)\n",
    "print(t)"
   ]
  },
  {
   "cell_type": "code",
   "execution_count": 24,
   "metadata": {},
   "outputs": [
    {
     "output_type": "stream",
     "name": "stdout",
     "text": [
      "3\n5\n"
     ]
    }
   ],
   "source": [
    "seq = [1, 1, 1, 2, 3, 4, 5, 3, 4, 5, 5, 4, 5, 2, 1, 2, 3, 3, 3]\n",
    "a = max(seq, key=seq.count)\n",
    "b = seq.count(a)\n",
    "print(a)\n",
    "print(b)"
   ]
  },
  {
   "cell_type": "code",
   "execution_count": null,
   "metadata": {},
   "outputs": [],
   "source": []
  }
 ]
}