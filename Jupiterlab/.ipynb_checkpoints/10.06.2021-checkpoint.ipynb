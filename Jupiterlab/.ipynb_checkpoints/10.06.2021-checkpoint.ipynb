{
 "cells": [
  {
   "cell_type": "code",
   "execution_count": 1,
   "id": "5702257f-8f2c-4da6-9ec4-e86ebce84685",
   "metadata": {},
   "outputs": [
    {
     "name": "stdout",
     "output_type": "stream",
     "text": [
      "48\n"
     ]
    }
   ],
   "source": [
    "print(6*8)"
   ]
  },
  {
   "cell_type": "code",
   "execution_count": 2,
   "id": "0f80cb1b-f5df-4b66-9294-c97e59c896f8",
   "metadata": {},
   "outputs": [
    {
     "name": "stdout",
     "output_type": "stream",
     "text": [
      "hello\n",
      "\n",
      "72\n",
      "90\n"
     ]
    }
   ],
   "source": [
    "# Bu benim alanim\n",
    "print(\"hello\")\n",
    "print()\n",
    "print(8*9) # burasi babamin yasi\n",
    "# problem 1\n",
    "x = 9\n",
    "y = 10\n",
    "print(x*y)"
   ]
  },
  {
   "cell_type": "code",
   "execution_count": null,
   "id": "b9bef832-78b8-4321-a5cb-05189af83ea0",
   "metadata": {},
   "outputs": [],
   "source": []
  }
 ],
 "metadata": {
  "kernelspec": {
   "display_name": "Python 3",
   "language": "python",
   "name": "python3"
  },
  "language_info": {
   "codemirror_mode": {
    "name": "ipython",
    "version": 3
   },
   "file_extension": ".py",
   "mimetype": "text/x-python",
   "name": "python",
   "nbconvert_exporter": "python",
   "pygments_lexer": "ipython3",
   "version": "3.8.8"
  }
 },
 "nbformat": 4,
 "nbformat_minor": 5
}
