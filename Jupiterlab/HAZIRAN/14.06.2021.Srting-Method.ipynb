{
 "cells": [
  {
   "cell_type": "code",
   "execution_count": 34,
   "id": "5f0367b3-651f-44e9-93d0-68c90876661d",
   "metadata": {},
   "outputs": [
    {
     "name": "stdout",
     "output_type": "stream",
     "text": [
      "Hello Muhammed AkcinAkcin\n"
     ]
    }
   ],
   "source": [
    "first_name = 'Muhammed'\n",
    "last_name = 'Akcin'\n",
    "\n",
    "print('Hello '+ first_name +' '+ last_name + last_name)\n"
   ]
  },
  {
   "cell_type": "code",
   "execution_count": 33,
   "id": "a871ee76-53cd-4545-a942-7886f3a64321",
   "metadata": {
    "tags": []
   },
   "outputs": [
    {
     "name": "stdout",
     "output_type": "stream",
     "text": [
      "BENIM ADIM MUHAMMED AKCIN\n",
      "benim adim muhammed akcin\n",
      "Benim adim muhammed akcin\n",
      "1\n"
     ]
    }
   ],
   "source": [
    "x = 'Benim adim Muhammed Akcin'\n",
    "print(x.upper())\n",
    "print(x.lower())\n",
    "print(x.capitalize())\n",
    "print(x.count('A'))"
   ]
  },
  {
   "cell_type": "code",
   "execution_count": 1,
   "id": "55aadc91-7781-4a87-be6d-e4edf96ae461",
   "metadata": {},
   "outputs": [
    {
     "ename": "SyntaxError",
     "evalue": "cannot assign to literal (<ipython-input-1-979e8bb4f671>, line 1)",
     "output_type": "error",
     "traceback": [
      "\u001b[1;36m  File \u001b[1;32m\"<ipython-input-1-979e8bb4f671>\"\u001b[1;36m, line \u001b[1;32m1\u001b[0m\n\u001b[1;33m    2 = \"ARI\"\u001b[0m\n\u001b[1;37m    ^\u001b[0m\n\u001b[1;31mSyntaxError\u001b[0m\u001b[1;31m:\u001b[0m cannot assign to literal\n"
     ]
    }
   ],
   "source": [
    "2 = \"ARI\"\n",
    "print(2)"
   ]
  },
  {
   "cell_type": "code",
   "execution_count": null,
   "id": "8b64f547-c848-4a36-abc0-a5b23237cccb",
   "metadata": {},
   "outputs": [],
   "source": []
  },
  {
   "cell_type": "code",
   "execution_count": 2,
   "id": "cbb1271d-9a18-4459-a02b-f11281e56332",
   "metadata": {},
   "outputs": [
    {
     "name": "stdout",
     "output_type": "stream",
     "text": [
      "ARI\n"
     ]
    }
   ],
   "source": [
    "test = \"ARI\"\n",
    "print(test)"
   ]
  },
  {
   "cell_type": "code",
   "execution_count": 3,
   "id": "11567d1f-ba1d-4794-a011-afa364828fcb",
   "metadata": {},
   "outputs": [
    {
     "ename": "SyntaxError",
     "evalue": "invalid syntax (<ipython-input-3-ed0c01b27eef>, line 1)",
     "output_type": "error",
     "traceback": [
      "\u001b[1;36m  File \u001b[1;32m\"<ipython-input-3-ed0c01b27eef>\"\u001b[1;36m, line \u001b[1;32m1\u001b[0m\n\u001b[1;33m    Test A = 'ALi'\u001b[0m\n\u001b[1;37m         ^\u001b[0m\n\u001b[1;31mSyntaxError\u001b[0m\u001b[1;31m:\u001b[0m invalid syntax\n"
     ]
    }
   ],
   "source": [
    "Test A = 'ALi'\n",
    "print(Test A)"
   ]
  },
  {
   "cell_type": "code",
   "execution_count": 11,
   "id": "a0a15c1b-d875-47f8-bbe8-c2b49588401b",
   "metadata": {},
   "outputs": [
    {
     "name": "stdout",
     "output_type": "stream",
     "text": [
      "same same same\n",
      "same\n",
      "same\n",
      "same\n"
     ]
    }
   ],
   "source": [
    "a = c = b = \"same\"\n",
    "print(a, b, c)\n",
    "print(a)\n",
    "print(b)\n",
    "print(c)"
   ]
  },
  {
   "cell_type": "code",
   "execution_count": 6,
   "id": "2c3351cb-2a82-45ad-8a89-54da115ab14c",
   "metadata": {},
   "outputs": [
    {
     "name": "stdout",
     "output_type": "stream",
     "text": [
      "31 28 31 30 31 30 31 31 31\n"
     ]
    }
   ],
   "source": [
    "january = march = may = july = september = december = 31\n",
    "april = june = 30\n",
    "february = 28\n",
    "print(january, february, march, april, may, june, july, september, december)"
   ]
  },
  {
   "cell_type": "code",
   "execution_count": 8,
   "id": "3ecb6791-7885-443d-a451-92106df5c47a",
   "metadata": {},
   "outputs": [
    {
     "name": "stdout",
     "output_type": "stream",
     "text": [
      "43 34 None 27\n"
     ]
    }
   ],
   "source": [
    "sam = 43\n",
    "bratt = 34\n",
    "john = None\n",
    "steve = 27\n",
    "print(sam, bratt, john, steve)"
   ]
  },
  {
   "cell_type": "code",
   "execution_count": 9,
   "id": "f98a3db1-5fa0-46fa-9214-763c003da458",
   "metadata": {},
   "outputs": [
    {
     "name": "stdout",
     "output_type": "stream",
     "text": [
      "clarusway.com\n"
     ]
    }
   ],
   "source": [
    "website = \"apple.com\"\n",
    "website = \"clarusway.com\"\n",
    "print(website)"
   ]
  },
  {
   "cell_type": "code",
   "execution_count": 2,
   "id": "844814e2-1c35-4628-b6e8-afe06d303eed",
   "metadata": {},
   "outputs": [
    {
     "name": "stdout",
     "output_type": "stream",
     "text": [
      "nba\n",
      "Fetih\n",
      "Fetih\n"
     ]
    }
   ],
   "source": [
    "x = \"clarusway\"\n",
    "y = \"Fetih\"\n",
    "x = y\n",
    "z = y \n",
    "x = \"nba\"\n",
    "print(x)\n",
    "print(z)\n",
    "print(y)"
   ]
  },
  {
   "cell_type": "code",
   "execution_count": 3,
   "id": "3d4d5751-dd4a-4f5e-992d-b42cfe75dd64",
   "metadata": {},
   "outputs": [
    {
     "ename": "SyntaxError",
     "evalue": "EOL while scanning string literal (<ipython-input-3-1868014f3dae>, line 4)",
     "output_type": "error",
     "traceback": [
      "\u001b[1;36m  File \u001b[1;32m\"<ipython-input-3-1868014f3dae>\"\u001b[1;36m, line \u001b[1;32m4\u001b[0m\n\u001b[1;33m    print(f'{a}, {b})\u001b[0m\n\u001b[1;37m                     ^\u001b[0m\n\u001b[1;31mSyntaxError\u001b[0m\u001b[1;31m:\u001b[0m EOL while scanning string literal\n"
     ]
    }
   ],
   "source": [
    "a = 10\n",
    "b = 15\n",
    "a = b\n",
    "print(f'{a}, {b})"
   ]
  },
  {
   "cell_type": "code",
   "execution_count": 17,
   "id": "d7586813-b6e5-4a19-9b86-57659c21b3a7",
   "metadata": {},
   "outputs": [
    {
     "name": "stdout",
     "output_type": "stream",
     "text": [
      "15\n"
     ]
    }
   ],
   "source": [
    "a = '15'\n",
    "b = a\n",
    "print(b)"
   ]
  },
  {
   "cell_type": "code",
   "execution_count": 18,
   "id": "42149902-2e26-452c-bc86-0c2d81f8faee",
   "metadata": {},
   "outputs": [
    {
     "name": "stdout",
     "output_type": "stream",
     "text": [
      "5\n",
      "3.2\n",
      "Helllo\n"
     ]
    }
   ],
   "source": [
    "a, b, c = 5, 3.2, \"Helllo\"\n",
    "print(a)\n",
    "print(b)\n",
    "print(c)"
   ]
  },
  {
   "cell_type": "code",
   "execution_count": 19,
   "id": "43e39a77-f90f-4953-89a8-8a3cfefc76c9",
   "metadata": {},
   "outputs": [
    {
     "name": "stdout",
     "output_type": "stream",
     "text": [
      "ali 44 green\n"
     ]
    }
   ],
   "source": [
    "man = \"andrew\"\n",
    "color = \"yellow\"\n",
    "age = 33\n",
    "man = \"ali\"\n",
    "color = \"green\"\n",
    "age = 44\n",
    "print(man, age, color)"
   ]
  },
  {
   "cell_type": "code",
   "execution_count": 27,
   "id": "6fcff28e-cfcf-4a5d-a476-57311a1f412b",
   "metadata": {
    "tags": []
   },
   "outputs": [
    {
     "name": "stdout",
     "output_type": "stream",
     "text": [
      "being a good person\n"
     ]
    },
    {
     "data": {
      "text/plain": [
       "(int, float, bool)"
      ]
     },
     "execution_count": 27,
     "metadata": {},
     "output_type": "execute_result"
    }
   ],
   "source": [
    "my_text = \"being a good person\"\n",
    "a = 15\n",
    "b = 3.15\n",
    "c = True\n",
    "print(my_text)\n",
    "type(a), type(b), type(c)\n"
   ]
  },
  {
   "cell_type": "code",
   "execution_count": 34,
   "id": "fcec99d5-8500-4026-90af-7c49aa099927",
   "metadata": {
    "tags": []
   },
   "outputs": [
    {
     "data": {
      "text/plain": [
       "'15'"
      ]
     },
     "execution_count": 34,
     "metadata": {},
     "output_type": "execute_result"
    }
   ],
   "source": [
    "a = 15\n",
    "str(a)\n"
   ]
  },
  {
   "cell_type": "code",
   "execution_count": 35,
   "id": "e3ba6fdf-9153-45a4-b274-baa8edea22e6",
   "metadata": {},
   "outputs": [
    {
     "data": {
      "text/plain": [
       "'Ben fenerbahceliyim'"
      ]
     },
     "execution_count": 35,
     "metadata": {},
     "output_type": "execute_result"
    }
   ],
   "source": [
    "a = \"Ben fenerbahceliyim\"\n",
    "a"
   ]
  },
  {
   "cell_type": "code",
   "execution_count": 36,
   "id": "c3c6e205-b544-43b8-94ae-1c54e03d99ce",
   "metadata": {},
   "outputs": [
    {
     "data": {
      "text/plain": [
       "str"
      ]
     },
     "execution_count": 36,
     "metadata": {},
     "output_type": "execute_result"
    }
   ],
   "source": [
    "type(a)"
   ]
  },
  {
   "cell_type": "code",
   "execution_count": 4,
   "id": "513c7c52-e127-4297-b2cd-3c916f7c6328",
   "metadata": {},
   "outputs": [
    {
     "name": "stdout",
     "output_type": "stream",
     "text": [
      "<class 'str'> <class 'int'>\n"
     ]
    }
   ],
   "source": [
    "str_sign = \"1923\"\n",
    "str_number = 217\n",
    "print(type(str_sign), type(str_number))"
   ]
  },
  {
   "cell_type": "code",
   "execution_count": 39,
   "id": "fea1b33b-0bd6-4228-a120-5ec94bd815fd",
   "metadata": {},
   "outputs": [
    {
     "name": "stdout",
     "output_type": "stream",
     "text": [
      "40\n",
      "-32\n"
     ]
    }
   ],
   "source": [
    "my_integer = 40\n",
    "negative_num = -32\n",
    "print(my_integer)\n",
    "print(negative_num)\n"
   ]
  },
  {
   "cell_type": "code",
   "execution_count": 40,
   "id": "a55489df-5cd3-4ed1-a069-bc029b721110",
   "metadata": {},
   "outputs": [
    {
     "data": {
      "text/plain": [
       "int"
      ]
     },
     "execution_count": 40,
     "metadata": {},
     "output_type": "execute_result"
    }
   ],
   "source": [
    "type(my_integer)"
   ]
  },
  {
   "cell_type": "code",
   "execution_count": 42,
   "id": "05f8cf72-e317-4f93-b56c-0b2ea8cb88d6",
   "metadata": {},
   "outputs": [
    {
     "name": "stdout",
     "output_type": "stream",
     "text": [
      "<class 'float'>\n"
     ]
    }
   ],
   "source": [
    "my_float = 4.99\n",
    "print(type(my_float))"
   ]
  },
  {
   "cell_type": "code",
   "execution_count": 43,
   "id": "c5ed6e1a-15a2-44da-a2fd-c80932ba2f9c",
   "metadata": {},
   "outputs": [
    {
     "data": {
      "text/plain": [
       "bool"
      ]
     },
     "execution_count": 43,
     "metadata": {},
     "output_type": "execute_result"
    }
   ],
   "source": [
    "b = True\n",
    "type(b)"
   ]
  },
  {
   "cell_type": "code",
   "execution_count": 44,
   "id": "0b18db03-244f-4dbb-902c-8e6f8773855a",
   "metadata": {},
   "outputs": [
    {
     "name": "stdout",
     "output_type": "stream",
     "text": [
      "<class 'str'>\n"
     ]
    }
   ],
   "source": [
    "my_data = \"i am string\"\n",
    "print(type(my_data))"
   ]
  },
  {
   "cell_type": "code",
   "execution_count": 45,
   "id": "4619f245-a667-428a-8611-153d09e0e65f",
   "metadata": {},
   "outputs": [
    {
     "data": {
      "text/plain": [
       "'15'"
      ]
     },
     "execution_count": 45,
     "metadata": {},
     "output_type": "execute_result"
    }
   ],
   "source": [
    "a = 15\n",
    "str(a)"
   ]
  },
  {
   "cell_type": "code",
   "execution_count": 46,
   "id": "dec84d80-8a85-486b-bde8-273f9f447c09",
   "metadata": {},
   "outputs": [
    {
     "data": {
      "text/plain": [
       "15"
      ]
     },
     "execution_count": 46,
     "metadata": {},
     "output_type": "execute_result"
    }
   ],
   "source": [
    "a = \"15\"\n",
    "int(a)"
   ]
  },
  {
   "cell_type": "code",
   "execution_count": 47,
   "id": "05eede23-fe72-459d-80cf-57c06bd26f3c",
   "metadata": {},
   "outputs": [
    {
     "data": {
      "text/plain": [
       "15.0"
      ]
     },
     "execution_count": 47,
     "metadata": {},
     "output_type": "execute_result"
    }
   ],
   "source": [
    "float(a)"
   ]
  },
  {
   "cell_type": "code",
   "execution_count": 49,
   "id": "eb1678ef-cd2c-4d00-b997-c23e993a1736",
   "metadata": {},
   "outputs": [
    {
     "name": "stdout",
     "output_type": "stream",
     "text": [
      "3\n",
      "3.14\n"
     ]
    }
   ],
   "source": [
    "a = 3.14\n",
    "print(int(a))\n",
    "print(str(a))"
   ]
  },
  {
   "cell_type": "code",
   "execution_count": 51,
   "id": "dfa45b38-3884-41f9-99fa-26c68d035f54",
   "metadata": {},
   "outputs": [
    {
     "name": "stdout",
     "output_type": "stream",
     "text": [
      "3.14\n",
      "3.14\n",
      "<class 'str'>\n"
     ]
    }
   ],
   "source": [
    "pi = 3.14\n",
    "convert_pi = str(pi)\n",
    "print(pi)\n",
    "print(convert_pi)\n",
    "print(type(convert_pi))"
   ]
  },
  {
   "cell_type": "code",
   "execution_count": 55,
   "id": "d5fe6256-d7cd-49e4-bc38-4a1e803218dd",
   "metadata": {},
   "outputs": [
    {
     "data": {
      "text/plain": [
       "3"
      ]
     },
     "execution_count": 55,
     "metadata": {},
     "output_type": "execute_result"
    }
   ],
   "source": [
    "pi = 3.14\n",
    "int(pi)\n",
    "\n"
   ]
  },
  {
   "cell_type": "code",
   "execution_count": 65,
   "id": "4d115c90-4589-4a96-8f27-9e0da81aaebc",
   "metadata": {},
   "outputs": [
    {
     "data": {
      "text/plain": [
       "4"
      ]
     },
     "execution_count": 65,
     "metadata": {},
     "output_type": "execute_result"
    }
   ],
   "source": [
    "a = 4.7\n",
    "int(a)\n"
   ]
  },
  {
   "cell_type": "code",
   "execution_count": 63,
   "id": "7417e1da-0e9d-49cf-a884-395db40ab206",
   "metadata": {},
   "outputs": [
    {
     "data": {
      "text/plain": [
       "4.0"
      ]
     },
     "execution_count": 63,
     "metadata": {},
     "output_type": "execute_result"
    }
   ],
   "source": [
    "a = 4\n",
    "float(a)"
   ]
  },
  {
   "cell_type": "code",
   "execution_count": 64,
   "id": "10242148-0472-480e-9212-2a8875514dba",
   "metadata": {},
   "outputs": [
    {
     "data": {
      "text/plain": [
       "'4'"
      ]
     },
     "execution_count": 64,
     "metadata": {},
     "output_type": "execute_result"
    }
   ],
   "source": [
    "a = 4\n",
    "str(a)"
   ]
  },
  {
   "cell_type": "code",
   "execution_count": 69,
   "id": "1917e02d-f672-4c4b-b224-e84390dd6495",
   "metadata": {},
   "outputs": [
    {
     "name": "stdout",
     "output_type": "stream",
     "text": [
      "28\n",
      "36.5\n",
      "i m at_39\n"
     ]
    }
   ],
   "source": [
    "x = 39\n",
    "a = \"11\"\n",
    "b = \"2.5\"\n",
    "c = \"i m at_\"\n",
    "print(x - int(a))\n",
    "print(x - float(b))\n",
    "print(c + str(x))"
   ]
  },
  {
   "cell_type": "code",
   "execution_count": 70,
   "id": "12fde8bb-5424-410c-a4d4-1696d848bddd",
   "metadata": {},
   "outputs": [
    {
     "data": {
      "text/plain": [
       "'clarusway'"
      ]
     },
     "execution_count": 70,
     "metadata": {},
     "output_type": "execute_result"
    }
   ],
   "source": [
    "\"clarus\" + \"way\""
   ]
  },
  {
   "cell_type": "code",
   "execution_count": 71,
   "id": "0bcb28b9-b3f8-4639-925f-cf5ddd32ca09",
   "metadata": {},
   "outputs": [
    {
     "ename": "TypeError",
     "evalue": "can only concatenate str (not \"int\") to str",
     "output_type": "error",
     "traceback": [
      "\u001b[1;31m---------------------------------------------------------------------------\u001b[0m",
      "\u001b[1;31mTypeError\u001b[0m                                 Traceback (most recent call last)",
      "\u001b[1;32m<ipython-input-71-2f73d21e6516>\u001b[0m in \u001b[0;36m<module>\u001b[1;34m\u001b[0m\n\u001b[1;32m----> 1\u001b[1;33m \u001b[1;34m\"12\"\u001b[0m \u001b[1;33m+\u001b[0m \u001b[1;36m12\u001b[0m\u001b[1;33m\u001b[0m\u001b[1;33m\u001b[0m\u001b[0m\n\u001b[0m",
      "\u001b[1;31mTypeError\u001b[0m: can only concatenate str (not \"int\") to str"
     ]
    }
   ],
   "source": [
    "\"12\" + 12"
   ]
  },
  {
   "cell_type": "code",
   "execution_count": 72,
   "id": "bf5f4700-5fd0-4214-9856-da8890d99070",
   "metadata": {},
   "outputs": [
    {
     "data": {
      "text/plain": [
       "'1212'"
      ]
     },
     "execution_count": 72,
     "metadata": {},
     "output_type": "execute_result"
    }
   ],
   "source": [
    "\"12\" + \"12\""
   ]
  },
  {
   "cell_type": "code",
   "execution_count": 73,
   "id": "b92078dc-faca-4993-b48c-82ba8aa2e7d1",
   "metadata": {},
   "outputs": [
    {
     "data": {
      "text/plain": [
       "24"
      ]
     },
     "execution_count": 73,
     "metadata": {},
     "output_type": "execute_result"
    }
   ],
   "source": [
    "12 + 12"
   ]
  },
  {
   "cell_type": "code",
   "execution_count": 74,
   "id": "386861b5-e2de-4f56-a854-32412e306869",
   "metadata": {},
   "outputs": [
    {
     "ename": "TypeError",
     "evalue": "unsupported operand type(s) for +: 'int' and 'str'",
     "output_type": "error",
     "traceback": [
      "\u001b[1;31m---------------------------------------------------------------------------\u001b[0m",
      "\u001b[1;31mTypeError\u001b[0m                                 Traceback (most recent call last)",
      "\u001b[1;32m<ipython-input-74-26ec678efde4>\u001b[0m in \u001b[0;36m<module>\u001b[1;34m\u001b[0m\n\u001b[0;32m      1\u001b[0m \u001b[0ma\u001b[0m \u001b[1;33m=\u001b[0m \u001b[1;36m3\u001b[0m\u001b[1;33m\u001b[0m\u001b[1;33m\u001b[0m\u001b[0m\n\u001b[0;32m      2\u001b[0m \u001b[0mb\u001b[0m \u001b[1;33m=\u001b[0m \u001b[1;34m\"4\"\u001b[0m\u001b[1;33m\u001b[0m\u001b[1;33m\u001b[0m\u001b[0m\n\u001b[1;32m----> 3\u001b[1;33m \u001b[0mprint\u001b[0m\u001b[1;33m(\u001b[0m\u001b[0ma\u001b[0m \u001b[1;33m+\u001b[0m \u001b[0mb\u001b[0m\u001b[1;33m)\u001b[0m\u001b[1;33m\u001b[0m\u001b[1;33m\u001b[0m\u001b[0m\n\u001b[0m",
      "\u001b[1;31mTypeError\u001b[0m: unsupported operand type(s) for +: 'int' and 'str'"
     ]
    }
   ],
   "source": [
    "a = 3\n",
    "b = \"4\"\n",
    "print(a + b)"
   ]
  },
  {
   "cell_type": "code",
   "execution_count": 75,
   "id": "b1d7a64c-3a11-4b5b-b6cb-b96dc1c0f9b3",
   "metadata": {},
   "outputs": [
    {
     "name": "stdout",
     "output_type": "stream",
     "text": [
      "-11\n"
     ]
    }
   ],
   "source": [
    "a, b = 65, 76\n",
    "c = a - b\n",
    "print(c)"
   ]
  },
  {
   "cell_type": "code",
   "execution_count": 76,
   "id": "061322d7-8871-4940-a761-06705dfaaee8",
   "metadata": {},
   "outputs": [
    {
     "name": "stdout",
     "output_type": "stream",
     "text": [
      "78.5\n"
     ]
    }
   ],
   "source": [
    "r = 5\n",
    "pi = 3.14\n",
    "area = pi * r**2\n",
    "print(area)"
   ]
  },
  {
   "cell_type": "code",
   "execution_count": 79,
   "id": "9d414972-1f9b-4e84-9e1f-6d1002efe615",
   "metadata": {},
   "outputs": [
    {
     "name": "stdout",
     "output_type": "stream",
     "text": [
      "1\n",
      "10.0\n"
     ]
    }
   ],
   "source": [
    "print(11 % 2)\n",
    "print((4*5)/2)"
   ]
  },
  {
   "cell_type": "code",
   "execution_count": 80,
   "id": "e9d1421a-699e-4a09-97ec-db2d768d4e90",
   "metadata": {},
   "outputs": [
    {
     "data": {
      "text/plain": [
       "-86.0"
      ]
     },
     "execution_count": 80,
     "metadata": {},
     "output_type": "execute_result"
    }
   ],
   "source": [
    "10 - 6 * 4**2.00"
   ]
  },
  {
   "cell_type": "code",
   "execution_count": 81,
   "id": "dacc2119-0434-49f9-ba7a-91a59abf08aa",
   "metadata": {},
   "outputs": [
    {
     "data": {
      "text/plain": [
       "-86"
      ]
     },
     "execution_count": 81,
     "metadata": {},
     "output_type": "execute_result"
    }
   ],
   "source": [
    "10 -6 * 4**2"
   ]
  },
  {
   "cell_type": "code",
   "execution_count": 82,
   "id": "18b8506b-cf89-4dc5-a678-0dc7b71f48dc",
   "metadata": {},
   "outputs": [
    {
     "data": {
      "text/plain": [
       "4.0"
      ]
     },
     "execution_count": 82,
     "metadata": {},
     "output_type": "execute_result"
    }
   ],
   "source": [
    "a = 2\n",
    "b = 8\n",
    "((a * b) ** 0.5)"
   ]
  },
  {
   "cell_type": "code",
   "execution_count": 85,
   "id": "cd0cd9ff-eb74-4bb5-b1b8-71aefd4edaf3",
   "metadata": {},
   "outputs": [
    {
     "data": {
      "text/plain": [
       "48"
      ]
     },
     "execution_count": 85,
     "metadata": {},
     "output_type": "execute_result"
    }
   ],
   "source": [
    "x += 3\n",
    "x"
   ]
  },
  {
   "cell_type": "code",
   "execution_count": 88,
   "id": "ad54632a-7008-4e9f-ae78-e959d319dba4",
   "metadata": {},
   "outputs": [
    {
     "data": {
      "text/plain": [
       "9"
      ]
     },
     "execution_count": 88,
     "metadata": {},
     "output_type": "execute_result"
    }
   ],
   "source": [
    "g = 5\n",
    "g += 4\n",
    "g"
   ]
  },
  {
   "cell_type": "code",
   "execution_count": 89,
   "id": "899b90d0-f390-4c0b-a549-5e6da8a12dfa",
   "metadata": {},
   "outputs": [
    {
     "data": {
      "text/plain": [
       "729"
      ]
     },
     "execution_count": 89,
     "metadata": {},
     "output_type": "execute_result"
    }
   ],
   "source": [
    "m = 9\n",
    "m **= 3\n",
    "m"
   ]
  },
  {
   "cell_type": "code",
   "execution_count": 90,
   "id": "2834adf4-337e-4beb-8ba1-185fdfbaafb5",
   "metadata": {},
   "outputs": [
    {
     "name": "stdout",
     "output_type": "stream",
     "text": [
      "20\n"
     ]
    }
   ],
   "source": [
    "a = 5\n",
    "c = 4\n",
    "print(a * c)"
   ]
  },
  {
   "cell_type": "code",
   "execution_count": 1,
   "id": "5685ef74-b80d-40b3-9df1-182c05d6d08d",
   "metadata": {},
   "outputs": [],
   "source": [
    "ali = 5\n"
   ]
  },
  {
   "cell_type": "code",
   "execution_count": null,
   "id": "5c4138fb-84d1-4acc-9a0c-987fb1c850d4",
   "metadata": {},
   "outputs": [],
   "source": []
  }
 ],
 "metadata": {
  "kernelspec": {
   "display_name": "Python 3",
   "language": "python",
   "name": "python3"
  },
  "language_info": {
   "codemirror_mode": {
    "name": "ipython",
    "version": 3
   },
   "file_extension": ".py",
   "mimetype": "text/x-python",
   "name": "python",
   "nbconvert_exporter": "python",
   "pygments_lexer": "ipython3",
   "version": "3.8.8"
  },
  "toc-autonumbering": true,
  "toc-showcode": true,
  "toc-showmarkdowntxt": true
 },
 "nbformat": 4,
 "nbformat_minor": 5
}
