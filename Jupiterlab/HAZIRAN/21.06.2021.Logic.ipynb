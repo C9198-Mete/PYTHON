{
 "cells": [
  {
   "cell_type": "code",
   "execution_count": 3,
   "id": "ec87ed22-799d-4e7e-8ee0-b20ab11ff71c",
   "metadata": {},
   "outputs": [
    {
     "name": "stdin",
     "output_type": "stream",
     "text": [
      "Bir sayi giriniz : 5\n",
      "Bir sayi daha giriniz : 6\n"
     ]
    },
    {
     "name": "stdout",
     "output_type": "stream",
     "text": [
      "56\n"
     ]
    }
   ],
   "source": [
    "x = input(\"Bir sayi giriniz :\")\n",
    "y = input(\"Bir sayi daha giriniz :\")\n",
    "z = x + y\n",
    "print(z)"
   ]
  },
  {
   "cell_type": "code",
   "execution_count": 4,
   "id": "5af333c8-48b3-4553-b6af-3baa855655f0",
   "metadata": {},
   "outputs": [
    {
     "name": "stdin",
     "output_type": "stream",
     "text": [
      "Bir sayi giriniz : 17\n",
      "Bir sayi daha giriniz : 22\n"
     ]
    },
    {
     "name": "stdout",
     "output_type": "stream",
     "text": [
      "39\n"
     ]
    }
   ],
   "source": [
    "x = int(input(\"Bir sayi giriniz :\"))\n",
    "y = int(input(\"Bir sayi daha giriniz :\"))\n",
    "z = x + y\n",
    "print(z)"
   ]
  },
  {
   "cell_type": "code",
   "execution_count": 7,
   "id": "55691358-bfb9-4af2-8e79-2274f99f0889",
   "metadata": {},
   "outputs": [
    {
     "data": {
      "text/plain": [
       "7"
      ]
     },
     "execution_count": 7,
     "metadata": {},
     "output_type": "execute_result"
    }
   ],
   "source": [
    "21 % 14"
   ]
  },
  {
   "cell_type": "code",
   "execution_count": 8,
   "id": "f27365dc-cd57-4181-aa5a-d4983e910695",
   "metadata": {},
   "outputs": [
    {
     "data": {
      "text/plain": [
       "1"
      ]
     },
     "execution_count": 8,
     "metadata": {},
     "output_type": "execute_result"
    }
   ],
   "source": [
    "21 // 14"
   ]
  },
  {
   "cell_type": "markdown",
   "id": "9bf6ba14-7b20-49db-9ad6-0f531812d934",
   "metadata": {},
   "source": [
    "- Kadayif\n",
    "- Ic;\n",
    "    - Ceviz\n",
    "    - Findik\n",
    "    - Fistik\n",
    "- Serbet;\n",
    "    - Su\n",
    "    - Seker\n",
    "- Yumurta"
   ]
  },
  {
   "cell_type": "code",
   "execution_count": 10,
   "id": "a4f39a8c-4711-41f0-9fc1-0ac911ddbef4",
   "metadata": {},
   "outputs": [],
   "source": [
    "kadayif = True\n",
    "\n",
    "findik = True\n",
    "fistik = True\n",
    "ceviz = True\n",
    "\n",
    "su = True\n",
    "seker = True\n",
    "\n",
    "yumurta = True\n",
    "\n",
    "\n",
    "limonata = True\n",
    "mesrubat = True"
   ]
  },
  {
   "cell_type": "code",
   "execution_count": 24,
   "id": "eb5d4a44-ac4d-45dc-8164-edd3b7f880c1",
   "metadata": {},
   "outputs": [
    {
     "data": {
      "text/plain": [
       "True"
      ]
     },
     "execution_count": 24,
     "metadata": {},
     "output_type": "execute_result"
    }
   ],
   "source": [
    "yedim = kadayif and (findik or fistik or ceviz) and (su and seker) and yumurta\n",
    "yedim\n"
   ]
  },
  {
   "cell_type": "code",
   "execution_count": 27,
   "id": "90f8bc03-ebda-4695-b07c-41bca554ff38",
   "metadata": {},
   "outputs": [
    {
     "name": "stdout",
     "output_type": "stream",
     "text": [
      "'\n"
     ]
    }
   ],
   "source": [
    "print('\\'')"
   ]
  },
  {
   "cell_type": "code",
   "execution_count": 37,
   "id": "e7fd4cb0-2f1c-4828-af31-e88a29ab4250",
   "metadata": {},
   "outputs": [
    {
     "name": "stdout",
     "output_type": "stream",
     "text": [
      "Word                 : Fenerbahce\n",
      "First Letter         : F\n",
      "Second Letter        : e\n",
      "3rd to 5th Letters   : ner\n",
      "Letter all after 3rd : nerbahce\n",
      "Letter 2 step        : Fnrac\n",
      "Letter opposite      : neF\n",
      "Letter -3 to end     : hce\n"
     ]
    }
   ],
   "source": [
    "fruit = \"Fenerbahce\"\n",
    "\n",
    "print(\"Word                 :\", fruit)\n",
    "print(\"First Letter         :\", fruit[0])\n",
    "print(\"Second Letter        :\", fruit[1])\n",
    "print(\"3rd to 5th Letters   :\", fruit[2:5])\n",
    "print(\"Letter all after 3rd :\", fruit[2:])\n",
    "print(\"Letter 2 step        :\", fruit[::2])\n",
    "print(\"Letter opposite      :\", fruit[2::-1])\n",
    "print(\"Letter -3 to end     :\", fruit[-3:])"
   ]
  },
  {
   "cell_type": "code",
   "execution_count": 46,
   "id": "00fe0182-f6ad-46dd-9640-4c093573a14d",
   "metadata": {},
   "outputs": [
    {
     "data": {
      "text/plain": [
       "'lu'"
      ]
     },
     "execution_count": 46,
     "metadata": {},
     "output_type": "execute_result"
    }
   ],
   "source": [
    "isim = \"calrusway okulu\"\n",
    "isim[3:11]\n",
    "isim[16:1:-2]\n",
    "isim[-2:]"
   ]
  },
  {
   "cell_type": "code",
   "execution_count": 47,
   "id": "95b6a47c-7664-43ca-84b3-3e6f3136b90a",
   "metadata": {},
   "outputs": [
    {
     "data": {
      "text/plain": [
       "'ran'"
      ]
     },
     "execution_count": 47,
     "metadata": {},
     "output_type": "execute_result"
    }
   ],
   "source": [
    "isim =\"Orange\"\n",
    "isim[-5:-2]"
   ]
  },
  {
   "cell_type": "code",
   "execution_count": 48,
   "id": "c6ddaaaa-430d-4dea-90a8-3ec24e6c149e",
   "metadata": {},
   "outputs": [
    {
     "data": {
      "text/plain": [
       "'uluko yawsurlac'"
      ]
     },
     "execution_count": 48,
     "metadata": {},
     "output_type": "execute_result"
    }
   ],
   "source": [
    "isim = \"calrusway okulu\"\n",
    "isim[::-1]"
   ]
  },
  {
   "cell_type": "code",
   "execution_count": 51,
   "id": "64f3242f-c41c-4df2-a4be-86ca2ad7bfa4",
   "metadata": {},
   "outputs": [
    {
     "data": {
      "text/plain": [
       "'lac'"
      ]
     },
     "execution_count": 51,
     "metadata": {},
     "output_type": "execute_result"
    }
   ],
   "source": [
    "isim[2::-1]"
   ]
  },
  {
   "cell_type": "code",
   "execution_count": 52,
   "id": "43129faf-09c6-4468-8b3b-27bc988362c6",
   "metadata": {},
   "outputs": [
    {
     "data": {
      "text/plain": [
       "15"
      ]
     },
     "execution_count": 52,
     "metadata": {},
     "output_type": "execute_result"
    }
   ],
   "source": [
    "len(isim)"
   ]
  },
  {
   "cell_type": "code",
   "execution_count": 53,
   "id": "bdf6acd4-7837-49fc-b10a-98a41716dbcb",
   "metadata": {},
   "outputs": [
    {
     "data": {
      "text/plain": [
       "7"
      ]
     },
     "execution_count": 53,
     "metadata": {},
     "output_type": "execute_result"
    }
   ],
   "source": [
    "var =\"  abc  \"\n",
    "len(var)"
   ]
  },
  {
   "cell_type": "code",
   "execution_count": 54,
   "id": "df5981e2-1593-4042-9bbf-023d7cd15ead",
   "metadata": {},
   "outputs": [
    {
     "name": "stdout",
     "output_type": "stream",
     "text": [
      "uppercase\n",
      "uppercase\n"
     ]
    }
   ],
   "source": [
    "x =\"upper\"\n",
    "y =\"case\"\n",
    "print(x + y)\n",
    "print(\"upper\" + \"case\")"
   ]
  },
  {
   "cell_type": "code",
   "execution_count": 55,
   "id": "8ee6b779-7479-43fc-9e70-220e1300d894",
   "metadata": {},
   "outputs": [
    {
     "name": "stdout",
     "output_type": "stream",
     "text": [
      "upperupperupper\n"
     ]
    }
   ],
   "source": [
    "print(x * 3)\n"
   ]
  },
  {
   "cell_type": "code",
   "execution_count": 60,
   "id": "d9350e4a-0633-4963-b65f-d9e4a07ddecb",
   "metadata": {},
   "outputs": [
    {
     "name": "stdout",
     "output_type": "stream",
     "text": [
      "u p p e r\n"
     ]
    }
   ],
   "source": [
    "print(* x)\n"
   ]
  },
  {
   "cell_type": "code",
   "execution_count": null,
   "id": "66fc79f6-ac20-4d6f-ac67-eef46390324d",
   "metadata": {},
   "outputs": [],
   "source": []
  },
  {
   "cell_type": "code",
   "execution_count": 61,
   "id": "14cc21f8-6b22-437c-b1b5-0a0fc353ae63",
   "metadata": {},
   "outputs": [
    {
     "data": {
      "text/plain": [
       "'ran'"
      ]
     },
     "execution_count": 61,
     "metadata": {},
     "output_type": "execute_result"
    }
   ],
   "source": [
    "isim =\"Orange\"\n",
    "isim[-5:-2]"
   ]
  },
  {
   "cell_type": "code",
   "execution_count": 63,
   "id": "8048e80a-41d7-4778-816c-a596de179803",
   "metadata": {},
   "outputs": [
    {
     "name": "stdout",
     "output_type": "stream",
     "text": [
      "i   a m   A n g r y . . . .\n"
     ]
    }
   ],
   "source": [
    "x = \"i am Angry....\"\n",
    "print(* x)"
   ]
  },
  {
   "cell_type": "code",
   "execution_count": 66,
   "id": "e1ea2aa6-66f4-4da8-947d-2de62449d714",
   "metadata": {},
   "outputs": [
    {
     "data": {
      "text/plain": [
       "'Clarusway'"
      ]
     },
     "execution_count": 66,
     "metadata": {},
     "output_type": "execute_result"
    }
   ],
   "source": [
    "s1 = \"Clarus\"\n",
    "s1 += \"way\"\n",
    "s1"
   ]
  },
  {
   "cell_type": "code",
   "execution_count": 65,
   "id": "77332949-b8a4-40ae-8286-de53d0538d2e",
   "metadata": {},
   "outputs": [
    {
     "data": {
      "text/plain": [
       "'ClarusClarus'"
      ]
     },
     "execution_count": 65,
     "metadata": {},
     "output_type": "execute_result"
    }
   ],
   "source": [
    "w1 = \"Clarus\"\n",
    "w1 *= 2\n",
    "w1"
   ]
  },
  {
   "cell_type": "code",
   "execution_count": 67,
   "id": "00bce1a9-ce47-4cc2-961e-95b2e8136ec7",
   "metadata": {},
   "outputs": [
    {
     "data": {
      "text/plain": [
       "'ClaruswayClarusway'"
      ]
     },
     "execution_count": 67,
     "metadata": {},
     "output_type": "execute_result"
    }
   ],
   "source": [
    "s1 *= 2\n",
    "s1"
   ]
  },
  {
   "cell_type": "code",
   "execution_count": 69,
   "id": "9534d6ac-77bd-4b95-852d-d0437b2e2d7f",
   "metadata": {},
   "outputs": [
    {
     "data": {
      "text/plain": [
       "'Benim guzel ogrencilerimin masallahi var mi acaba?.'"
      ]
     },
     "execution_count": 69,
     "metadata": {},
     "output_type": "execute_result"
    }
   ],
   "source": [
    "\"Benim {} ogrencilerimin masallahi var {}.\".format('guzel', 'mi acaba?')"
   ]
  },
  {
   "cell_type": "code",
   "execution_count": 71,
   "id": "f4d8e770-f982-4645-a8aa-62166871fad1",
   "metadata": {},
   "outputs": [
    {
     "data": {
      "text/plain": [
       "'Benim guzel ogrencilerimin masallahi var mi acaba ?'"
      ]
     },
     "execution_count": 71,
     "metadata": {},
     "output_type": "execute_result"
    }
   ],
   "source": [
    "x = \"guzel\"\n",
    "y = \"mi acaba ?\"\n",
    "\"Benim {} ogrencilerimin masallahi var {}\".format(x, y)"
   ]
  },
  {
   "cell_type": "code",
   "execution_count": 72,
   "id": "2e8e30ac-476d-4c70-87f1-1effa1533947",
   "metadata": {},
   "outputs": [
    {
     "data": {
      "text/plain": [
       "'Benim guzel ogrencilerimin masallahi var mi acaba ?'"
      ]
     },
     "execution_count": 72,
     "metadata": {},
     "output_type": "execute_result"
    }
   ],
   "source": [
    "string = \"Benim {} ogrencilerimin masallahi var {}\"\n",
    "string.format(x, y)"
   ]
  },
  {
   "cell_type": "code",
   "execution_count": 74,
   "id": "82e9ccd0-537e-4457-8eb7-7c10d56688a4",
   "metadata": {},
   "outputs": [
    {
     "name": "stdout",
     "output_type": "stream",
     "text": [
      "generously wins in all ci\n"
     ]
    }
   ],
   "source": [
    "phrase = \"{2} {3} {1} {0}\".format(\"ci\", \"in all\", \"generously\", \"wins\")\n",
    "print(phrase)"
   ]
  },
  {
   "cell_type": "code",
   "execution_count": 1,
   "id": "21629585-ded8-4997-99d1-c1d4ea12d129",
   "metadata": {},
   "outputs": [
    {
     "data": {
      "text/plain": [
       "<method 'startswith' of 'str' objects>"
      ]
     },
     "execution_count": 1,
     "metadata": {},
     "output_type": "execute_result"
    }
   ],
   "source": []
  },
  {
   "cell_type": "code",
   "execution_count": 4,
   "id": "0d3c2c17-aa53-4b75-9d46-19deafec3237",
   "metadata": {},
   "outputs": [
    {
     "name": "stdin",
     "output_type": "stream",
     "text": [
      "Are you a cigarette addict older than 75 years old?: False\n",
      "Do you have a severe chronic disease?: True\n",
      "Is your immune system too weak?: False\n"
     ]
    },
    {
     "name": "stdout",
     "output_type": "stream",
     "text": [
      "Estimating the risk of death from coronavirus: True\n"
     ]
    }
   ],
   "source": [
    "age = bool(input(\"Are you a cigarette addict older than 75 years old?:\")) # can be assigned only True/False\n",
    "chronic = bool(input(\"Do you have a severe chronic disease?:\")) # can be assigned only True/False\n",
    "immune = bool(input(\"Is your immune system too weak?:\")) # can be assigned only True/False\n",
    "risk = age or chronic or immune\n",
    "print(\"Estimating the risk of death from coronavirus:\", risk)"
   ]
  },
  {
   "cell_type": "code",
   "execution_count": 17,
   "id": "1cc00320-2f13-4702-9b84-322034b47806",
   "metadata": {},
   "outputs": [
    {
     "name": "stdout",
     "output_type": "stream",
     "text": [
      "['Benim adim Mete', 'Turkoglu']\n",
      "['Benim adim Mete', 'Kahraman', 'Turkoglu']\n",
      "15\n"
     ]
    }
   ],
   "source": [
    "word = \"Benim adim Mete\"\n",
    "x = [word]\n",
    "x.append(\"Turkoglu\")\n",
    "print(x)\n",
    "x.insert(1, \"Kahraman\")\n",
    "print(x)\n",
    "y = list(word)\n",
    "print(len(y))"
   ]
  },
  {
   "cell_type": "code",
   "execution_count": 37,
   "id": "a9cc034b-4765-4105-9aba-447656c7c820",
   "metadata": {},
   "outputs": [
    {
     "name": "stdout",
     "output_type": "stream",
     "text": [
      "['benim adim', 'Kahraman', 'Mete']\n",
      "['Kahraman', 'Mete']\n"
     ]
    }
   ],
   "source": [
    "x = 9,3,5,6,5,7,8,0\n",
    "y = [\"benim adim\"]\n",
    "y.append(\"Mete\")\n",
    "y.insert(1, \"Kahraman\")\n",
    "print(y)\n",
    "del y[0] \n",
    "print(y)\n",
    "i"
   ]
  },
  {
   "cell_type": "code",
   "execution_count": 45,
   "id": "31a277d2-7d5d-4ed8-abee-0ee67bc90ec9",
   "metadata": {},
   "outputs": [
    {
     "name": "stdout",
     "output_type": "stream",
     "text": [
      "6\n"
     ]
    }
   ],
   "source": [
    "print(len([[12, 34,56], \"234444\", \"6785435435\"][1]))"
   ]
  },
  {
   "cell_type": "code",
   "execution_count": null,
   "id": "f4ede682-09a7-4e07-a668-21288ec5f9a4",
   "metadata": {},
   "outputs": [],
   "source": [
    "len"
   ]
  }
 ],
 "metadata": {
  "kernelspec": {
   "display_name": "Python 3",
   "language": "python",
   "name": "python3"
  },
  "language_info": {
   "codemirror_mode": {
    "name": "ipython",
    "version": 3
   },
   "file_extension": ".py",
   "mimetype": "text/x-python",
   "name": "python",
   "nbconvert_exporter": "python",
   "pygments_lexer": "ipython3",
   "version": "3.8.8"
  }
 },
 "nbformat": 4,
 "nbformat_minor": 5
}
