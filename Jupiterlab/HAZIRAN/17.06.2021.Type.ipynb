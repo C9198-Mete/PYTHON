{
 "cells": [
  {
   "cell_type": "code",
   "execution_count": 2,
   "id": "a156450a-4796-4f24-bac8-58a7ffbfa4b5",
   "metadata": {},
   "outputs": [
    {
     "name": "stdout",
     "output_type": "stream",
     "text": [
      "9\n"
     ]
    }
   ],
   "source": [
    "x = 3\n",
    "x += 6\n",
    "print(x)"
   ]
  },
  {
   "cell_type": "code",
   "execution_count": 3,
   "id": "a88e23fb-e44a-4d2d-a5fa-fc4e8d3707dc",
   "metadata": {},
   "outputs": [],
   "source": [
    "degisken = 10\n"
   ]
  },
  {
   "cell_type": "code",
   "execution_count": 4,
   "id": "236949dc-15eb-43a8-9353-8ae06b8ab2f1",
   "metadata": {},
   "outputs": [
    {
     "data": {
      "text/plain": [
       "10"
      ]
     },
     "execution_count": 4,
     "metadata": {},
     "output_type": "execute_result"
    }
   ],
   "source": [
    "degisken"
   ]
  },
  {
   "cell_type": "code",
   "execution_count": 8,
   "id": "b948f27f-3e44-4363-b693-1d087d05cb95",
   "metadata": {},
   "outputs": [
    {
     "data": {
      "text/plain": [
       "13"
      ]
     },
     "execution_count": 8,
     "metadata": {},
     "output_type": "execute_result"
    }
   ],
   "source": [
    "degisken += 1\n",
    "degisken\n"
   ]
  },
  {
   "cell_type": "code",
   "execution_count": 9,
   "id": "d0ec16ea-630a-41ee-9279-cfd8abdc752e",
   "metadata": {},
   "outputs": [
    {
     "name": "stdout",
     "output_type": "stream",
     "text": [
      "4.0\n"
     ]
    }
   ],
   "source": [
    "a = (1 +3) ** (2 ** (1 *2 / 2) / 2)\n",
    "print(a)"
   ]
  },
  {
   "cell_type": "code",
   "execution_count": null,
   "id": "ba8d872f-86bb-420a-9b39-ee4341366f44",
   "metadata": {},
   "outputs": [],
   "source": [
    "oncelik sirasi\n",
    "1.()\n",
    "2.**\n",
    "3.*,/\n",
    "4.-,+"
   ]
  },
  {
   "cell_type": "code",
   "execution_count": 12,
   "id": "b3efc3d7-abaf-4e86-88aa-4cb41d8f6936",
   "metadata": {},
   "outputs": [
    {
     "name": "stdout",
     "output_type": "stream",
     "text": [
      "5.0\n"
     ]
    }
   ],
   "source": [
    "a = 3\n",
    "b = 4\n",
    "c = ((a **2) + (b**2))**0.5\n",
    "print(c)"
   ]
  },
  {
   "cell_type": "code",
   "execution_count": 15,
   "id": "3845197c-d57e-409b-8d93-9f500d502a1a",
   "metadata": {},
   "outputs": [
    {
     "name": "stdout",
     "output_type": "stream",
     "text": [
      "we have reached 2021\n"
     ]
    }
   ],
   "source": [
    "number = 2021\n",
    "text = \"we have reached\"\n",
    "print(text, number)"
   ]
  },
  {
   "cell_type": "code",
   "execution_count": 18,
   "id": "8249fd2b-b91a-47cc-9d3f-cabbaf751ab5",
   "metadata": {},
   "outputs": [
    {
     "name": "stdout",
     "output_type": "stream",
     "text": [
      "ali\n",
      "veli\n",
      "deli\n"
     ]
    }
   ],
   "source": [
    "NEWLINE = \\n\n",
    "print(\"ali\\nveli\\ndeli\")"
   ]
  },
  {
   "cell_type": "code",
   "execution_count": 21,
   "id": "09853f45-504e-40be-95a7-825457d2fd15",
   "metadata": {},
   "outputs": [
    {
     "name": "stdout",
     "output_type": "stream",
     "text": [
      "12 22 False\n"
     ]
    }
   ],
   "source": [
    "print(12, \"22\", False)"
   ]
  },
  {
   "cell_type": "code",
   "execution_count": 22,
   "id": "e9af8523-a3cc-4486-aabe-c6c42da3d8f2",
   "metadata": {},
   "outputs": [
    {
     "name": "stdout",
     "output_type": "stream",
     "text": [
      "12-22-False\n"
     ]
    }
   ],
   "source": [
    "print(12, \"22\", False, sep = \"-\")"
   ]
  },
  {
   "cell_type": "code",
   "execution_count": 23,
   "id": "c94b07fe-805c-4a22-b1fa-c200d4e31394",
   "metadata": {},
   "outputs": [
    {
     "name": "stdout",
     "output_type": "stream",
     "text": [
      "12\n",
      "22\n",
      "False\n"
     ]
    }
   ],
   "source": [
    "print(12, \"22\", False, sep = \"\\n\")"
   ]
  },
  {
   "cell_type": "code",
   "execution_count": 25,
   "id": "8cddf6c2-4d4d-44fb-b997-976ecbf4d0ee",
   "metadata": {},
   "outputs": [
    {
     "name": "stdout",
     "output_type": "stream",
     "text": [
      "mehmet\n",
      "Ahmet\n"
     ]
    }
   ],
   "source": [
    "print(\"mehmet\")\n",
    "print(\"Ahmet\")"
   ]
  },
  {
   "cell_type": "code",
   "execution_count": 26,
   "id": "fc5d70c6-bc27-4d96-9bff-6f421387a93e",
   "metadata": {},
   "outputs": [
    {
     "name": "stdout",
     "output_type": "stream",
     "text": [
      "mehmet Ahmet\n"
     ]
    }
   ],
   "source": [
    "print(\"mehmet\", end = \" \")\n",
    "print(\"Ahmet\")"
   ]
  },
  {
   "cell_type": "code",
   "execution_count": 27,
   "id": "05520ce7-42f4-4566-a7a3-1859f588880f",
   "metadata": {},
   "outputs": [
    {
     "name": "stdout",
     "output_type": "stream",
     "text": [
      "mehmet-Ahmet\n"
     ]
    }
   ],
   "source": [
    "print(\"mehmet\", end = \"-\")\n",
    "print(\"Ahmet\")"
   ]
  },
  {
   "cell_type": "code",
   "execution_count": 32,
   "id": "4d1152ad-5c3d-4c8b-80fb-b3fad88028e3",
   "metadata": {},
   "outputs": [
    {
     "name": "stdout",
     "output_type": "stream",
     "text": [
      "I bought3 apple\n"
     ]
    }
   ],
   "source": [
    "text1 = \"I bought\"\n",
    "text2 = \"3 apple\"\n",
    "print(text1 + text2)"
   ]
  },
  {
   "cell_type": "code",
   "execution_count": 33,
   "id": "06847f28-90d9-497a-b368-325e2c73a7c0",
   "metadata": {},
   "outputs": [
    {
     "name": "stdout",
     "output_type": "stream",
     "text": [
      "mehmet \n",
      "\n",
      "Ahmet\n"
     ]
    }
   ],
   "source": [
    "print(\"mehmet\", \"\\n\")\n",
    "print(\"Ahmet\")"
   ]
  },
  {
   "cell_type": "code",
   "execution_count": 41,
   "id": "bfdd27fb-f981-471c-8d94-6ff55e55a446",
   "metadata": {},
   "outputs": [
    {
     "name": "stdout",
     "output_type": "stream",
     "text": [
      "mehmet \t ahmet\n"
     ]
    }
   ],
   "source": [
    "print(\"mehmet\",\"\\t\", \"ahmet\")\n"
   ]
  },
  {
   "cell_type": "code",
   "execution_count": 52,
   "id": "0f5e936e-75f7-440e-b3f4-d0f6c91323d7",
   "metadata": {},
   "outputs": [
    {
     "name": "stdout",
     "output_type": "stream",
     "text": [
      "clarusway\n",
      "joseph instructorvirginia\text\n"
     ]
    }
   ],
   "source": [
    "benim_text = \"clarusway\\njoseph instructor \\bvirginia\\text\"\n",
    "print(benim_text)"
   ]
  },
  {
   "cell_type": "code",
   "execution_count": 48,
   "id": "341cb87c-af8c-4727-8fa5-4f3c0cb2bd00",
   "metadata": {},
   "outputs": [
    {
     "name": "stdout",
     "output_type": "stream",
     "text": [
      "C\\north pole\n",
      "oise_penguins.txt\n"
     ]
    }
   ],
   "source": [
    "print(\"C\\\\north pole\\noise_penguins.txt\")"
   ]
  },
  {
   "cell_type": "code",
   "execution_count": 51,
   "id": "ee2fb579-b59e-4191-ba07-4d3652f31608",
   "metadata": {},
   "outputs": [
    {
     "name": "stdout",
     "output_type": "stream",
     "text": [
      "it's essential\n",
      "we areoosting ourrootherhood\n"
     ]
    }
   ],
   "source": [
    "print(\"it\\'s essential\")\n",
    "print(\"we are\", \"\\boosting\", \"our\", \"\\brootherhood\")"
   ]
  },
  {
   "cell_type": "code",
   "execution_count": 53,
   "id": "ec2f8e98-5a0f-4fbe-8497-737b8a476311",
   "metadata": {},
   "outputs": [
    {
     "name": "stdout",
     "output_type": "stream",
     "text": [
      "2\n",
      "0\n",
      "0\n",
      "0\n",
      "1\n",
      "1\n",
      "1\n",
      "None\n"
     ]
    }
   ],
   "source": [
    "print(1 and 2)\n",
    "print(1 and 0)\n",
    "print(0 and 1)\n",
    "print(0 and None)\n",
    "print(1 or 2)\n",
    "print(1 or 0)\n",
    "print(0 or 1)\n",
    "print(0 or None)"
   ]
  },
  {
   "cell_type": "code",
   "execution_count": 54,
   "id": "89fc3795-9407-406d-8a22-d5b0837ec57d",
   "metadata": {},
   "outputs": [
    {
     "data": {
      "text/plain": [
       "False"
      ]
     },
     "execution_count": 54,
     "metadata": {},
     "output_type": "execute_result"
    }
   ],
   "source": [
    "bool(\"\")"
   ]
  },
  {
   "cell_type": "code",
   "execution_count": 55,
   "id": "c8bba765-7a4e-4f16-954c-6fdc1cfcc30d",
   "metadata": {},
   "outputs": [
    {
     "data": {
      "text/plain": [
       "True"
      ]
     },
     "execution_count": 55,
     "metadata": {},
     "output_type": "execute_result"
    }
   ],
   "source": [
    "bool(\" \")"
   ]
  },
  {
   "cell_type": "code",
   "execution_count": 56,
   "id": "32dd5f17-01f0-45fd-86dc-6d37a66fb709",
   "metadata": {},
   "outputs": [
    {
     "data": {
      "text/plain": [
       "False"
      ]
     },
     "execution_count": 56,
     "metadata": {},
     "output_type": "execute_result"
    }
   ],
   "source": [
    "bool(0)"
   ]
  },
  {
   "cell_type": "code",
   "execution_count": 57,
   "id": "ef27781d-f141-4e9b-9765-c8a331538a49",
   "metadata": {},
   "outputs": [
    {
     "data": {
      "text/plain": [
       "False"
      ]
     },
     "execution_count": 57,
     "metadata": {},
     "output_type": "execute_result"
    }
   ],
   "source": [
    "bool(0.0)"
   ]
  },
  {
   "cell_type": "code",
   "execution_count": 58,
   "id": "5f8fa97c-f5ed-4370-9b1c-bc45029bea4a",
   "metadata": {},
   "outputs": [
    {
     "data": {
      "text/plain": [
       "False"
      ]
     },
     "execution_count": 58,
     "metadata": {},
     "output_type": "execute_result"
    }
   ],
   "source": [
    "bool(0.0j)"
   ]
  },
  {
   "cell_type": "code",
   "execution_count": 60,
   "id": "127d0bc0-a18f-4621-acd3-f6aa1d9080f4",
   "metadata": {},
   "outputs": [
    {
     "data": {
      "text/plain": [
       "''"
      ]
     },
     "execution_count": 60,
     "metadata": {},
     "output_type": "execute_result"
    }
   ],
   "source": [
    "(\"\" and 0 and False)"
   ]
  },
  {
   "cell_type": "code",
   "execution_count": 61,
   "id": "a91d01cd-ff99-4d59-9dae-3dc2814f7cf1",
   "metadata": {},
   "outputs": [
    {
     "data": {
      "text/plain": [
       "'False'"
      ]
     },
     "execution_count": 61,
     "metadata": {},
     "output_type": "execute_result"
    }
   ],
   "source": [
    "True and \"True\" and \"False\""
   ]
  },
  {
   "cell_type": "code",
   "execution_count": 62,
   "id": "b54375a1-dea4-457a-bc19-8040050bf3bb",
   "metadata": {},
   "outputs": [
    {
     "data": {
      "text/plain": [
       "str"
      ]
     },
     "execution_count": 62,
     "metadata": {},
     "output_type": "execute_result"
    }
   ],
   "source": [
    "type(True and \"True\" and \"False\")"
   ]
  },
  {
   "cell_type": "code",
   "execution_count": 63,
   "id": "4195a744-5399-4b27-b4d2-f0ba3953f2eb",
   "metadata": {},
   "outputs": [
    {
     "data": {
      "text/plain": [
       "False"
      ]
     },
     "execution_count": 63,
     "metadata": {},
     "output_type": "execute_result"
    }
   ],
   "source": [
    "not \"False\""
   ]
  },
  {
   "cell_type": "code",
   "execution_count": 64,
   "id": "14a3c893-f53e-4b31-a457-c4e595d43634",
   "metadata": {},
   "outputs": [
    {
     "data": {
      "text/plain": [
       "True"
      ]
     },
     "execution_count": 64,
     "metadata": {},
     "output_type": "execute_result"
    }
   ],
   "source": [
    "not 0"
   ]
  },
  {
   "cell_type": "code",
   "execution_count": 65,
   "id": "c7f4e876-dc05-424f-b651-91a6c8b5cefd",
   "metadata": {},
   "outputs": [
    {
     "data": {
      "text/plain": [
       "False"
      ]
     },
     "execution_count": 65,
     "metadata": {},
     "output_type": "execute_result"
    }
   ],
   "source": [
    "not 1"
   ]
  },
  {
   "cell_type": "code",
   "execution_count": 66,
   "id": "260eca2c-344d-4e44-91b6-22b5ad33dac4",
   "metadata": {},
   "outputs": [
    {
     "data": {
      "text/plain": [
       "True"
      ]
     },
     "execution_count": 66,
     "metadata": {},
     "output_type": "execute_result"
    }
   ],
   "source": [
    "not []"
   ]
  },
  {
   "cell_type": "code",
   "execution_count": 67,
   "id": "014d9d50-7757-4fe3-88f9-3620e1fe81f7",
   "metadata": {},
   "outputs": [
    {
     "ename": "NameError",
     "evalue": "name 'none' is not defined",
     "output_type": "error",
     "traceback": [
      "\u001b[1;31m---------------------------------------------------------------------------\u001b[0m",
      "\u001b[1;31mNameError\u001b[0m                                 Traceback (most recent call last)",
      "\u001b[1;32m<ipython-input-67-36142693c930>\u001b[0m in \u001b[0;36m<module>\u001b[1;34m\u001b[0m\n\u001b[1;32m----> 1\u001b[1;33m \u001b[1;32mnot\u001b[0m \u001b[0mnone\u001b[0m\u001b[1;33m\u001b[0m\u001b[1;33m\u001b[0m\u001b[0m\n\u001b[0m",
      "\u001b[1;31mNameError\u001b[0m: name 'none' is not defined"
     ]
    }
   ],
   "source": [
    "not none"
   ]
  },
  {
   "cell_type": "code",
   "execution_count": 68,
   "id": "f07529ca-886e-4505-87fb-d8c2686f5165",
   "metadata": {},
   "outputs": [
    {
     "data": {
      "text/plain": [
       "True"
      ]
     },
     "execution_count": 68,
     "metadata": {},
     "output_type": "execute_result"
    }
   ],
   "source": [
    "not None"
   ]
  },
  {
   "cell_type": "code",
   "execution_count": null,
   "id": "34c2cdff-6dd2-46d0-afb9-a117f2e718b6",
   "metadata": {},
   "outputs": [],
   "source": []
  }
 ],
 "metadata": {
  "kernelspec": {
   "display_name": "Python 3",
   "language": "python",
   "name": "python3"
  },
  "language_info": {
   "codemirror_mode": {
    "name": "ipython",
    "version": 3
   },
   "file_extension": ".py",
   "mimetype": "text/x-python",
   "name": "python",
   "nbconvert_exporter": "python",
   "pygments_lexer": "ipython3",
   "version": "3.8.8"
  }
 },
 "nbformat": 4,
 "nbformat_minor": 5
}
