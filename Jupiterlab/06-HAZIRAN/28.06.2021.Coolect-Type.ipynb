{
 "cells": [
  {
   "source": [
    "XXXXXXXX      COLLECTION TYPE    XXXXXXXXX"
   ],
   "cell_type": "markdown",
   "metadata": {}
  },
  {
   "cell_type": "code",
   "execution_count": 1,
   "id": "409f2ef4-11a8-4445-930c-aff93bb3aa33",
   "metadata": {},
   "outputs": [
    {
     "name": "stdout",
     "output_type": "stream",
     "text": [
      "['madrid', 'paris', 'berlin']\n"
     ]
    }
   ],
   "source": [
    "city = [\"madrid\", \"paris\", \"berlin\"]\n",
    "print(city)"
   ]
  },
  {
   "cell_type": "code",
   "execution_count": 2,
   "id": "e7e2fc83-b937-4c58-a39a-157630b7b693",
   "metadata": {},
   "outputs": [
    {
     "name": "stdout",
     "output_type": "stream",
     "text": [
      "['m', 'a', 'd', 'r', 'i', 'd', ' ', 'p', 'a', 'r', 'i', 's', ' ', 'b', 'e', 'r', 'l', 'i', 'n']\n"
     ]
    }
   ],
   "source": [
    "city = \"madrid paris berlin\"\n",
    "print(list(city))"
   ]
  },
  {
   "cell_type": "code",
   "execution_count": 180,
   "id": "fbabe4f5-4a9a-407d-8dd6-8c0b35574f5a",
   "metadata": {},
   "outputs": [
    {
     "name": "stdout",
     "output_type": "stream",
     "text": [
      "['madrid', 11, False, 3.14, None, [1, 2, 3]]\n",
      "6\n"
     ]
    }
   ],
   "source": [
    "mixed_list = [\"madrid\", 11, False, 3.14, None, [1,2,3]]\n",
    "print(mixed_list)\n",
    "print(len(mixed_list))\n"
   ]
  },
  {
   "cell_type": "code",
   "execution_count": 4,
   "id": "a537fd60-f2c1-4b30-81e6-602e75df59e2",
   "metadata": {},
   "outputs": [],
   "source": [
    "empty_list1 = []\n",
    "empty_list2 = list()\n"
   ]
  },
  {
   "cell_type": "code",
   "execution_count": 9,
   "id": "398bffac-5a17-47f5-afae-aa382528fc4a",
   "metadata": {},
   "outputs": [
    {
     "name": "stdout",
     "output_type": "stream",
     "text": [
      "['Tiger', 'Lion']\n"
     ]
    }
   ],
   "source": [
    "animals = []\n",
    "animals.append(\"Tiger\")\n",
    "animals.append(\"Lion\")\n",
    "print(animals)"
   ]
  },
  {
   "cell_type": "code",
   "execution_count": 183,
   "id": "c53959f1-a6bb-4d04-bebc-68460fcc724a",
   "metadata": {},
   "outputs": [
    {
     "name": "stdout",
     "output_type": "stream",
     "text": [
      "['New York', 'Madrid', 'Berlin', 'Munih', 'Istanbul', ['Moscow', 'Tokyo']]\n"
     ]
    }
   ],
   "source": [
    "city = [\"New York\", \"Madrid\", \"Berlin\", \"Munih\"]\n",
    "city.append(\"Istanbul\")\n",
    "city2 = [\"Moscow\", \"Tokyo\"]\n",
    "city.append(city2)\n",
    "print(city)"
   ]
  },
  {
   "cell_type": "code",
   "execution_count": 11,
   "id": "8e6c23de-076d-43f4-b74d-388cd9dd9c39",
   "metadata": {},
   "outputs": [
    {
     "name": "stdout",
     "output_type": "stream",
     "text": [
      "['New York', 'Madrid', 'Tokyo', 'Berlin', 'Munih']\n"
     ]
    }
   ],
   "source": [
    "city = [\"New York\", \"Madrid\", \"Berlin\", \"Munih\"]\n",
    "city.insert(2, \"Tokyo\")\n",
    "print(city)"
   ]
  },
  {
   "cell_type": "code",
   "execution_count": 19,
   "id": "2a167055-3cf0-4c41-866c-8bd52b584401",
   "metadata": {},
   "outputs": [
    {
     "name": "stdout",
     "output_type": "stream",
     "text": [
      "['New York', ['Tokyo', 'Moscow'], 'Madrid', 'Berlin', 'Munih']\n"
     ]
    }
   ],
   "source": [
    "city = [\"New York\", \"Madrid\", \"Berlin\", \"Munih\"]\n",
    "city1 = [\"Tokyo\", \"Moscow\"]\n",
    "city.insert(1, city1)\n",
    "print(city)"
   ]
  },
  {
   "cell_type": "code",
   "execution_count": 21,
   "id": "95610397-8bed-491e-b3fa-52fef3837230",
   "metadata": {},
   "outputs": [
    {
     "name": "stdout",
     "output_type": "stream",
     "text": [
      "['Madrid', 'Munih', 'New York', 'Tokyo']\n"
     ]
    }
   ],
   "source": [
    "city = [\"New York\", \"Madrid\", \"Berlin\", \"Munih\"]\n",
    "city.insert(2, \"Tokyo\")\n",
    "city.remove(\"Berlin\")\n",
    "city.sort()\n",
    "print(city)\n"
   ]
  },
  {
   "cell_type": "code",
   "execution_count": 23,
   "id": "b43925fa-4072-4797-b048-febb92eba54e",
   "metadata": {},
   "outputs": [
    {
     "name": "stdout",
     "output_type": "stream",
     "text": [
      "['Tokyo', 'New York', 'Munih', 'Madrid']\n"
     ]
    }
   ],
   "source": [
    "city = [\"New York\", \"Madrid\", \"Berlin\", \"Munih\"]\n",
    "city.insert(2, \"Tokyo\")\n",
    "city.remove(\"Berlin\")\n",
    "city.sort(reverse = True)\n",
    "print(city)"
   ]
  },
  {
   "cell_type": "code",
   "execution_count": 25,
   "id": "72542ad2-9c2d-4639-b006-5e262b515c78",
   "metadata": {},
   "outputs": [
    {
     "name": "stdout",
     "output_type": "stream",
     "text": [
      "['New York', 'Madrid', 'Tokyo', 'Munih']\n"
     ]
    }
   ],
   "source": [
    "city = [\"New York\", \"Madrid\", \"Berlin\", \"Munih\"]\n",
    "city.insert(2, \"Tokyo\")\n",
    "city.remove(\"Berlin\")\n",
    "city.sort(key = len, reverse = True)\n",
    "print(city)"
   ]
  },
  {
   "cell_type": "code",
   "execution_count": 26,
   "id": "dc62cf01-c17c-472e-bac0-8a15dc4357e7",
   "metadata": {},
   "outputs": [
    {
     "name": "stdout",
     "output_type": "stream",
     "text": [
      "['New York', 'Madrid', 'Istanbul', 'Munih']\n"
     ]
    }
   ],
   "source": [
    "city = [\"New York\", \"Madrid\", \"Berlin\", \"Munih\"]\n",
    "city[2] = \"Istanbul\"\n",
    "print(city)"
   ]
  },
  {
   "cell_type": "code",
   "execution_count": 30,
   "id": "f8da4fdf-0d19-46e9-96c9-591e0310f62f",
   "metadata": {},
   "outputs": [
    {
     "name": "stdout",
     "output_type": "stream",
     "text": [
      "2\n"
     ]
    }
   ],
   "source": [
    "city = [\"New York\", \"Madrid\", \"Berlin\", \"Munih\"]\n",
    "print(city.index(\"Berlin\"))"
   ]
  },
  {
   "cell_type": "code",
   "execution_count": 32,
   "id": "3193fbf9-8da5-4fc9-8436-d57d0d3337c1",
   "metadata": {},
   "outputs": [
    {
     "name": "stdout",
     "output_type": "stream",
     "text": [
      "['New York', 'Madrid', 'Berlin', 'Munih', 'Istanbul', 'Moscow']\n"
     ]
    }
   ],
   "source": [
    "city = [\"New York\", \"Madrid\", \"Berlin\", \"Munih\", \"Istanbul\", \"Tokyo\", \"Moscow\"]\n",
    "city.pop(-2)\n",
    "print(city)"
   ]
  },
  {
   "cell_type": "code",
   "execution_count": 37,
   "id": "5f61f047-cb0f-4542-a80a-7faa33217bf8",
   "metadata": {},
   "outputs": [
    {
     "name": "stdout",
     "output_type": "stream",
     "text": [
      "['Madrid', 'Munih', 'Istanbul', 'Tokyo', 'Moscow']\n"
     ]
    }
   ],
   "source": [
    "city = [\"New York\", \"Madrid\", \"Berlin\", \"Munih\", \"Istanbul\", \"Tokyo\", \"Moscow\"]\n",
    "del city[:4:2]\n",
    "print(city)"
   ]
  },
  {
   "cell_type": "code",
   "execution_count": 38,
   "id": "28d68696-8c85-4011-bbb8-15b2acbca2ea",
   "metadata": {},
   "outputs": [
    {
     "name": "stdout",
     "output_type": "stream",
     "text": [
      "Berlin\n"
     ]
    }
   ],
   "source": [
    "city = [\"New York\", \"Madrid\", \"Berlin\", \"Munih\", \"Istanbul\", \"Tokyo\", \"Moscow\"]\n",
    "print(city[2])"
   ]
  },
  {
   "cell_type": "code",
   "execution_count": 44,
   "id": "2307aff5-09c8-43b1-804b-aa823a967ebd",
   "metadata": {},
   "outputs": [
    {
     "name": "stdout",
     "output_type": "stream",
     "text": [
      "[['New York', 'Madrid', 'Berlin', 'Munih', 'Istanbul', 'Tokyo', 'Moscow']]\n",
      "['New York', 'Madrid', 'Berlin', 'Munih', 'Istanbul', 'Tokyo', 'Moscow']\n",
      "Istanbul\n",
      "s\n"
     ]
    }
   ],
   "source": [
    "city = [\"New York\", \"Madrid\", \"Berlin\", \"Munih\", \"Istanbul\", \"Tokyo\", \"Moscow\"]\n",
    "city_list = []\n",
    "city_list.append(city)\n",
    "print(city_list)\n",
    "print(city_list[0])\n",
    "print(city_list[0][4])\n",
    "print(city_list[0][4][1])"
   ]
  },
  {
   "cell_type": "code",
   "execution_count": 50,
   "id": "1e0edc8f-e3d3-4e4b-b176-1534dde1e61f",
   "metadata": {},
   "outputs": [
    {
     "name": "stdout",
     "output_type": "stream",
     "text": [
      "[0, 1, 2, 3, 4, 5, 6, 7, 8, 9, 10, 11, 12, 13, 14, 15, 16, 17, 18, 19, 20, 21, 22, 23, 24, 25]\n",
      "[0, 2, 4, 6, 8, 10, 12, 14]\n"
     ]
    }
   ],
   "source": [
    "count = list(range(26))\n",
    "print(count)\n",
    "print(count[:16:2])"
   ]
  },
  {
   "cell_type": "code",
   "execution_count": 53,
   "id": "cabdb993-9445-4538-8261-0b38a5f2c7b0",
   "metadata": {},
   "outputs": [
    {
     "name": "stdout",
     "output_type": "stream",
     "text": [
      "<class 'tuple'>\n"
     ]
    }
   ],
   "source": [
    "empty_tuple = ()\n",
    "print(type(empty_tuple))"
   ]
  },
  {
   "cell_type": "code",
   "execution_count": 54,
   "id": "aacb92bf-3bad-46c5-ad1a-1688cd984ed9",
   "metadata": {},
   "outputs": [
    {
     "name": "stdout",
     "output_type": "stream",
     "text": [
      "('A', 'l', 'p', 's')\n"
     ]
    }
   ],
   "source": [
    "mountain = tuple(\"Alps\")\n",
    "print(mountain)"
   ]
  },
  {
   "cell_type": "code",
   "execution_count": 57,
   "id": "197ed556-4241-4fd5-866e-1e7572da629a",
   "metadata": {},
   "outputs": [
    {
     "name": "stdout",
     "output_type": "stream",
     "text": [
      "4\n"
     ]
    }
   ],
   "source": [
    "mixed_value_tuple = (0, \"bird\", 3.14, True)\n",
    "print(len(mixed_value_tuple))"
   ]
  },
  {
   "cell_type": "code",
   "execution_count": 64,
   "id": "0273ff09-5e2c-4963-a90a-98216657032f",
   "metadata": {},
   "outputs": [
    {
     "data": {
      "text/plain": [
       "2"
      ]
     },
     "execution_count": 64,
     "metadata": {},
     "output_type": "execute_result"
    }
   ],
   "source": [
    "city = (\"New York\", \"Madrid\", \"Berlin\", \"Munih\", \"Istanbul\", \"Tokyo\", \"Madrid\")\n",
    "city.count(\"Madrid\")"
   ]
  },
  {
   "cell_type": "code",
   "execution_count": 66,
   "id": "a8b608b1-8e2d-4761-a446-74889599f218",
   "metadata": {},
   "outputs": [
    {
     "data": {
      "text/plain": [
       "2"
      ]
     },
     "execution_count": 66,
     "metadata": {},
     "output_type": "execute_result"
    }
   ],
   "source": [
    "city = (\"New York\", \"Madrid\", \"Berlin\", \"Munih\", \"Istanbul\", \"Tokyo\", \"Madrid\")\n",
    "city.index(\"Berlin\")\n"
   ]
  },
  {
   "cell_type": "code",
   "execution_count": 77,
   "id": "20c233d5-dc96-4a11-a5c6-9ecdf07f21a2",
   "metadata": {},
   "outputs": [
    {
     "name": "stdout",
     "output_type": "stream",
     "text": [
      "[10, 9, 8, 7, 6, 5, 4, 3, 2, 1]\n"
     ]
    }
   ],
   "source": [
    "number = sorted (range(1,11), reverse = True)\n",
    "print(number)\n"
   ]
  },
  {
   "cell_type": "code",
   "execution_count": 81,
   "id": "4653564d-67e1-4235-9c04-7b971c44373d",
   "metadata": {},
   "outputs": [
    {
     "name": "stdout",
     "output_type": "stream",
     "text": [
      "[10, 9, 8, 7, 6, 5, 4, 3, 2, 1]\n"
     ]
    }
   ],
   "source": [
    "number = list(range(1,11))\n",
    "number.sort(reverse = True)\n",
    "print(number)"
   ]
  },
  {
   "cell_type": "code",
   "execution_count": 84,
   "id": "ff31a0b0-e9b8-486c-a3cb-04e5ddf081ce",
   "metadata": {},
   "outputs": [
    {
     "name": "stdout",
     "output_type": "stream",
     "text": [
      "['eggplant', 'spinach', 'leek']\n"
     ]
    }
   ],
   "source": [
    "grocer = [\"banana\", [\"orange\", [\"apple\", \"eggplant\", \"melon\", \"spinach\", \"cheese\", \"leek\" ], \"water\"], \"mandarin\"]\n",
    "print(grocer[1][1][1::2])"
   ]
  },
  {
   "cell_type": "code",
   "execution_count": 92,
   "id": "38759555-3a76-4a73-b7a4-a3c5e6cdbefb",
   "metadata": {},
   "outputs": [
    {
     "name": "stdout",
     "output_type": "stream",
     "text": [
      "My two favorite flowers are tulip and rose, two favorite colors are blue and green.\n"
     ]
    }
   ],
   "source": [
    "flowers = [[\"jasmine\", [\"lavender\", \"rose\"], \"tulip\"]]\n",
    "colors = [\"red\", (\"blue\", [\"yellow\", \"green\"]), \"pink\"]\n",
    "text = \"My two favorite flowers are {f[0][2]} and {f[0][1][1]}, \\\n",
    "two favorite colors are {c[1][0]} and {c[1][1][1]}.\".format(f=flowers, c=colors)\n",
    "print(text)"
   ]
  },
  {
   "cell_type": "code",
   "execution_count": 96,
   "id": "46f78a6a-0946-47d2-8fc6-8fc36e2f4903",
   "metadata": {},
   "outputs": [
    {
     "name": "stdout",
     "output_type": "stream",
     "text": [
      "I am 40 years old.\n",
      "\tI have two children.\n",
      "\t\tData Science is my IT domain.\n"
     ]
    }
   ],
   "source": [
    "escapes = [\"\\n\\t\", (\"\\t\", \"\\t\\t\"), [\"\\n\", \"\\n\\t\\t\"]]\n",
    "\n",
    "sentence = \"I am 40 years old.{e[0]}I have two children.{e[2][1]}Data Science is my IT domain.\".format(e=escapes)\n",
    "print(sentence)"
   ]
  },
  {
   "cell_type": "code",
   "execution_count": 97,
   "id": "35750e6d-1063-4f4f-91ee-07785ba11b37",
   "metadata": {},
   "outputs": [],
   "source": [
    "empty_dict = {}\n",
    "empty_dict1 = dict()\n"
   ]
  },
  {
   "cell_type": "code",
   "execution_count": 98,
   "id": "14f53b5f-2318-4a5f-abde-5f700d5365d1",
   "metadata": {},
   "outputs": [],
   "source": [
    "my_dict = {'key1': 'value1',\n",
    "            'key2': 'value2',\n",
    "            'key3': 'value3'\n",
    "            }"
   ]
  },
  {
   "cell_type": "code",
   "execution_count": 101,
   "id": "dbc71344-38f5-49b4-8084-3a5a59d7448d",
   "metadata": {},
   "outputs": [
    {
     "name": "stdout",
     "output_type": "stream",
     "text": [
      "Denver\n",
      "{'Arkansas': 'Little Rock', 'Colorado': 'Denver', 'California': 'Sacramento', 'Georgia': 'Atlanta', 'Virginia': 'Richmond'}\n"
     ]
    }
   ],
   "source": [
    "state_capitals = {'Arkansas': 'Little Rock','Colorado': 'Denver', 'California': 'Sacramento', 'Georgia': 'Atlanta' }\n",
    "\n",
    "print(state_capitals['Colorado'])\n",
    "state_capitals[\"Virginia\"] = \"Richmond\"\n",
    "print(state_capitals)"
   ]
  },
  {
   "cell_type": "code",
   "execution_count": 102,
   "id": "b4324c1b-881f-470c-a55e-08df3f0e6e4a",
   "metadata": {},
   "outputs": [
    {
     "name": "stdout",
     "output_type": "stream",
     "text": [
      "{'animal': ('dog', 'cat'), 'planet': ['Neptun', 'Saturn', 'Jupiter'], 'number': 40, 'pi': 3.14, 'is_good': True}\n",
      "{22: 'integer', 1.2: 'float', True: 'boolean', 'key': 'string'}\n"
     ]
    }
   ],
   "source": [
    "mix_values = {'animal': ('dog', 'cat'),  # tuple type\n",
    "              'planet': ['Neptun', 'Saturn', 'Jupiter'],  # list type\n",
    "              'number': 40,  # int type\n",
    "              'pi': 3.14,  # float type\n",
    "              'is_good': True}  # bool type\n",
    "\n",
    "mix_keys = {22 : \"integer\",\n",
    "            1.2 : \"float\",\n",
    "            True : \"boolean\",\n",
    "            \"key\" : \"string\"}\n",
    "print(mix_values)\n",
    "print(mix_keys)"
   ]
  },
  {
   "cell_type": "code",
   "execution_count": 103,
   "id": "a40aa12c-a862-480e-b506-33ad63289ecc",
   "metadata": {},
   "outputs": [
    {
     "name": "stdout",
     "output_type": "stream",
     "text": [
      "{'animal': 'dog', 'planet': 'neptun', 'number': 40, 'pi': 3.14, 'is_good': True}\n"
     ]
    }
   ],
   "source": [
    "dict_by_dict = dict(animal='dog', planet='neptun', number=40, pi=3.14, is_good=True)\n",
    "\n",
    "print(dict_by_dict)"
   ]
  },
  {
   "cell_type": "code",
   "execution_count": 105,
   "id": "ea25e7ea-f5f1-43bb-a401-653fba3ba519",
   "metadata": {},
   "outputs": [
    {
     "name": "stdout",
     "output_type": "stream",
     "text": [
      "dict_items([('animal', 'dog'), ('planet', 'neptun'), ('number', 40), ('pi', 3.14), ('is_good', True)])\n",
      "dict_keys(['animal', 'planet', 'number', 'pi', 'is_good'])\n",
      "dict_values(['dog', 'neptun', 40, 3.14, True])\n"
     ]
    }
   ],
   "source": [
    "dict_by_dict = {'animal': 'dog',\n",
    "                'planet': 'neptun',\n",
    "                'number': 40,\n",
    "                'pi': 3.14,\n",
    "                'is_good': True}\n",
    "\n",
    "print(dict_by_dict.items())\n",
    "print(dict_by_dict.keys())\n",
    "print(dict_by_dict.values())"
   ]
  },
  {
   "cell_type": "code",
   "execution_count": 107,
   "id": "8f9fcd8c-5b59-4d28-98db-649f3a82bb85",
   "metadata": {},
   "outputs": [
    {
     "name": "stdout",
     "output_type": "stream",
     "text": [
      "{'animal': 'dog', 'planet': 'neptun', 'number': 40, 'pi': 3.14, 'is_good': True, 'Sea': 'Aegean'}\n"
     ]
    }
   ],
   "source": [
    "dict_by_dict = {'animal': 'dog',\n",
    "                'planet': 'neptun',\n",
    "                'number': 40,\n",
    "                'pi': 3.14,\n",
    "                'is_good': True}\n",
    "dict_by_dict.update({'Sea' :'Aegean'})\n",
    "print(dict_by_dict)"
   ]
  },
  {
   "cell_type": "code",
   "execution_count": 108,
   "id": "ed4cde73-9822-4a23-8d6e-09e754e08411",
   "metadata": {},
   "outputs": [
    {
     "name": "stdout",
     "output_type": "stream",
     "text": [
      "{'animal': 'dog', 'planet': 'neptun', 'number': 40, 'is_good': True}\n"
     ]
    }
   ],
   "source": [
    "dict_by_dict = {'animal': 'dog',\n",
    "                'planet': 'neptun',\n",
    "                'number': 40,\n",
    "                'pi': 3.14,\n",
    "                'is_good': True}\n",
    "del dict_by_dict['pi']\n",
    "print(dict_by_dict)"
   ]
  },
  {
   "cell_type": "code",
   "execution_count": 113,
   "id": "e16fcac3-667f-4c53-bc74-f673b9ab977e",
   "metadata": {},
   "outputs": [
    {
     "name": "stdout",
     "output_type": "stream",
     "text": [
      "False\n",
      "True\n"
     ]
    }
   ],
   "source": [
    "dict_by_dict = {'planet': 'neptun',\n",
    "               'number': 40,\n",
    "               'pi': 3.14,\n",
    "               'is_good': True,\n",
    "               'is_bad': False}\n",
    "\n",
    "print('air' in dict_by_dict) \n",
    "print('animal' not in dict_by_dict) "
   ]
  },
  {
   "cell_type": "code",
   "execution_count": 126,
   "id": "bb357d5d-0a01-44ef-9308-3a8d22634356",
   "metadata": {},
   "outputs": [
    {
     "data": {
      "text/plain": [
       "32"
      ]
     },
     "execution_count": 126,
     "metadata": {},
     "output_type": "execute_result"
    }
   ],
   "source": [
    "student_ages = {\"Harry\": 29,\n",
    "                \"Clark\": 32,\n",
    "                \"Peter\": 22,\n",
    "                \"Bruce\": 36\n",
    "                }\n",
    "student_ages[\"Clark\"]"
   ]
  },
  {
   "cell_type": "code",
   "execution_count": 127,
   "id": "13428585-8fd6-46e5-9587-9d30425035b0",
   "metadata": {},
   "outputs": [
    {
     "name": "stdout",
     "output_type": "stream",
     "text": [
      "16\n"
     ]
    }
   ],
   "source": [
    "school_records={\n",
    "    \"personal_info\":\n",
    "        {\"kid\":{\"tom\": {\"class\": \"intermediate\", \"age\": 10},\n",
    "                \"sue\": {\"class\": \"elementary\", \"age\": 8}\n",
    "               },\n",
    "         \"teen\":{\"joseph\":{\"class\": \"college\", \"age\": 19},\n",
    "                 \"marry\":{\"class\": \"high school\", \"age\": 16}\n",
    "               },               \n",
    "        },\n",
    "        \n",
    "    \"grades_info\":\n",
    "        {\"kid\":{\"tom\": {\"math\": 88, \"speech\": 69},\n",
    "                \"sue\": {\"math\": 90, \"speech\": 81}\n",
    "               },\n",
    "         \"teen\":{\"joseph\":{\"coding\": 80, \"math\": 89},\n",
    "                 \"marry\":{\"coding\": 70, \"math\": 96}\n",
    "               },               \n",
    "        },        \n",
    "}\n",
    "print(school_records[\"personal_info\"][\"teen\"][\"marry\"][\"age\"])"
   ]
  },
  {
   "cell_type": "code",
   "execution_count": 128,
   "id": "8afd6189-8486-45b0-a8c2-1ff461d09912",
   "metadata": {},
   "outputs": [],
   "source": [
    "empty_set = set()"
   ]
  },
  {
   "cell_type": "code",
   "execution_count": 131,
   "id": "c537c378-5956-45f9-b5be-8446178bb29c",
   "metadata": {},
   "outputs": [
    {
     "name": "stdout",
     "output_type": "stream",
     "text": [
      "{'purple', 'darkblue', 'red', 'orange', 'yellow'}\n",
      "{'purple', 'darkblue', 'red', 'orange', 'yellow'}\n"
     ]
    }
   ],
   "source": [
    "colorset = {'purple', 'orange', 'red', 'darkblue', 'yellow', 'red'}\n",
    "\n",
    "print(colorset)\n",
    "print(colorset)\n"
   ]
  },
  {
   "cell_type": "code",
   "execution_count": 132,
   "id": "2f1eb221-e80f-489b-8386-7aa65f43ea6c",
   "metadata": {},
   "outputs": [
    {
     "name": "stdout",
     "output_type": "stream",
     "text": [
      "{'e', 'h', 'f', 'i', 'l', 'u', 's', 'n'}\n"
     ]
    }
   ],
   "source": [
    "s = set(\"unselfishness\")\n",
    "print(s)"
   ]
  },
  {
   "cell_type": "code",
   "execution_count": 135,
   "id": "dc1dcad4-292f-43d7-8fb7-2fdb816c5700",
   "metadata": {},
   "outputs": [
    {
     "name": "stdout",
     "output_type": "stream",
     "text": [
      "['rose', 'violet', 'carnation', 'rose', 'orchid', 'rose', 'orchid']\n",
      "{'carnation', 'violet', 'rose', 'orchid'}\n",
      "['carnation', 'violet', 'rose', 'orchid']\n"
     ]
    }
   ],
   "source": [
    "flower_list = ['rose', 'violet', 'carnation', 'rose', 'orchid', 'rose', 'orchid']\n",
    "print(flower_list)\n",
    "flowerset = set(flower_list)\n",
    "flowerlist = list(flowerset)\n",
    "\n",
    "print(flowerset) \n",
    "print(flowerlist)"
   ]
  },
  {
   "cell_type": "code",
   "execution_count": 136,
   "id": "f478e143-9dff-424b-a942-5a4053498ef6",
   "metadata": {},
   "outputs": [
    {
     "name": "stdout",
     "output_type": "stream",
     "text": [
      "{'r', 'b', 'd'}\n",
      "{'r', 'b', 'd'}\n"
     ]
    }
   ],
   "source": [
    "a = set('abracadabra')\n",
    "b = set('alacazam')\n",
    "\n",
    "print(a - b)  # same as '.difference()' method\n",
    "print(a.difference(b)) # a difference from b"
   ]
  },
  {
   "cell_type": "code",
   "execution_count": 137,
   "id": "c5d50676-967c-4767-b128-a4dfaf4a55cd",
   "metadata": {},
   "outputs": [
    {
     "name": "stdout",
     "output_type": "stream",
     "text": [
      "{'a', 'd', 'c', 'z', 'r', 'b', 'm', 'l'}\n",
      "{'a', 'd', 'c', 'z', 'r', 'b', 'm', 'l'}\n"
     ]
    }
   ],
   "source": [
    "a = set('abracadabra')\n",
    "b = set('alacazam')\n",
    "\n",
    "print(a | b)  # same as '.union()' method\n",
    "print(a.union(b)) # unification of a with b"
   ]
  },
  {
   "cell_type": "code",
   "execution_count": 138,
   "id": "033d2497-f601-448d-9116-9d1ceb6d8134",
   "metadata": {},
   "outputs": [
    {
     "name": "stdout",
     "output_type": "stream",
     "text": [
      "{'a', 'c'}\n",
      "{'a', 'c'}\n"
     ]
    }
   ],
   "source": [
    "a = set('abracadabra')\n",
    "b = set('alacazam')\n",
    "\n",
    "print(a & b)  # same as '.intersection()' method\n",
    "print(a.intersection(b)) # intersection of a and b"
   ]
  },
  {
   "cell_type": "code",
   "execution_count": 139,
   "id": "8946c8d7-e1fa-4b59-8f90-6bea9f3c0937",
   "metadata": {},
   "outputs": [
    {
     "name": "stdout",
     "output_type": "stream",
     "text": [
      "{'a', 'd', 'r', 'b'}\n"
     ]
    }
   ],
   "source": [
    "a = set('abracadabra')\n",
    "\n",
    "a.remove('c') # we delete 'c' from the set\n",
    "print(a)"
   ]
  },
  {
   "cell_type": "code",
   "execution_count": 140,
   "id": "a2e7a5c9-555a-466d-ace9-2e506ff19a6b",
   "metadata": {},
   "outputs": [
    {
     "name": "stdout",
     "output_type": "stream",
     "text": [
      "{'a', 'd', 'c', 'r', 'b'}\n"
     ]
    }
   ],
   "source": [
    "a = set('abracadabra')\n",
    "\n",
    "a.add('c') # we add 'c' again into the set\n",
    "print(a)"
   ]
  },
  {
   "cell_type": "code",
   "execution_count": 142,
   "id": "8e28f794-f086-4ba5-837c-27279e075c10",
   "metadata": {},
   "outputs": [
    {
     "name": "stdout",
     "output_type": "stream",
     "text": [
      "5\n",
      "True\n"
     ]
    }
   ],
   "source": [
    "a = set('abracadabra')\n",
    "print(len(a))\n",
    "print(\"b\" in a)"
   ]
  },
  {
   "cell_type": "code",
   "execution_count": 145,
   "id": "bb46ff2e-3e8c-4b88-b098-23efb8a8eecf",
   "metadata": {},
   "outputs": [
    {
     "name": "stdout",
     "output_type": "stream",
     "text": [
      "{'e', 'd', ' ', 't', 'c', 'f', 'v', 'i', 'o', 'l', 'h', 's', 'n'}\n",
      "13\n"
     ]
    }
   ],
   "source": [
    "print((set('listen to the voice of enlisted')))\n",
    "print(len(set('listen to the voice of enlisted')))"
   ]
  },
  {
   "cell_type": "code",
   "execution_count": 146,
   "id": "7b46d1c8-276d-4fcb-9a99-48bf58dc623b",
   "metadata": {},
   "outputs": [
    {
     "name": "stdout",
     "output_type": "stream",
     "text": [
      "('Meghan', 'Tom', 'Nicole', 'Tim')\n"
     ]
    }
   ],
   "source": [
    "family_members = tuple(['Meghan', 'Tom', 'Nicole', 'Tim'])\n",
    "print(family_members)"
   ]
  },
  {
   "cell_type": "code",
   "execution_count": 150,
   "id": "2d530404-92a3-43b2-b64d-5d7a9c86eebd",
   "metadata": {},
   "outputs": [
    {
     "name": "stdout",
     "output_type": "stream",
     "text": [
      "-1\n",
      "11\n"
     ]
    }
   ],
   "source": [
    "a = 1\n",
    "print(-a)\n",
    "b = -11\n",
    "print(-b)"
   ]
  },
  {
   "cell_type": "code",
   "execution_count": 151,
   "id": "3b6c0a93-f6f3-41ac-ae6b-72dd175aac20",
   "metadata": {},
   "outputs": [
    {
     "name": "stdout",
     "output_type": "stream",
     "text": [
      "The sum of 3 + 4 is : 7\n"
     ]
    }
   ],
   "source": [
    "a = 3\n",
    "b = 4\n",
    "\n",
    "print(\"The sum of {} + {} is : {}\".format(a, b, a+b))"
   ]
  },
  {
   "cell_type": "code",
   "execution_count": 153,
   "id": "9b069939-1a2d-47ef-b13c-a059b87e05dc",
   "metadata": {},
   "outputs": [
    {
     "name": "stdout",
     "output_type": "stream",
     "text": [
      "3.15, 5.343, 7.3257\n"
     ]
    }
   ],
   "source": [
    "text = \"{:.2f}, {:.3f}, {:.4f}\".format(3.1463, 5.3435, 7.325663)\n",
    "print(text)"
   ]
  },
  {
   "cell_type": "code",
   "execution_count": 154,
   "id": "abd4b457-30fb-4190-a7dc-a2e1511ffc61",
   "metadata": {},
   "outputs": [
    {
     "name": "stdout",
     "output_type": "stream",
     "text": [
      "3a, 5.3, 7.32\n"
     ]
    }
   ],
   "source": [
    "text = \"{:.2s}, {:.3s}, {:.4s}\".format(\"3a.1463\", \"5.3435b\", \"7.325663c\")\n",
    "print(text)"
   ]
  },
  {
   "cell_type": "code",
   "execution_count": 155,
   "id": "071fd098-86c6-4409-a974-b741277f28d4",
   "metadata": {},
   "outputs": [
    {
     "name": "stdout",
     "output_type": "stream",
     "text": [
      "3a, 5.3, 7.32\n"
     ]
    }
   ],
   "source": [
    "text = \"{:.2}, {:.3}, {:.4}\".format(\"3a.1463\", \"5.3435b\", \"7.325663c\")\n",
    "print(text)"
   ]
  },
  {
   "cell_type": "code",
   "execution_count": 158,
   "id": "8c28cb28-c245-4d8b-8f7c-2156deb5d612",
   "metadata": {},
   "outputs": [
    {
     "data": {
      "text/plain": [
       "'                          test'"
      ]
     },
     "execution_count": 158,
     "metadata": {},
     "output_type": "execute_result"
    }
   ],
   "source": [
    "text = \"{:>30}\".format(\"test\")\n",
    "text"
   ]
  },
  {
   "cell_type": "code",
   "execution_count": 159,
   "id": "057c6250-e9cc-4bec-801c-46ff187a3cd5",
   "metadata": {},
   "outputs": [
    {
     "data": {
      "text/plain": [
       "'test                          '"
      ]
     },
     "execution_count": 159,
     "metadata": {},
     "output_type": "execute_result"
    }
   ],
   "source": [
    "text = \"{:<30}\".format(\"test\")\n",
    "text"
   ]
  },
  {
   "cell_type": "code",
   "execution_count": 165,
   "id": "be236e22-b792-42dc-866b-853e4d6e0f28",
   "metadata": {},
   "outputs": [
    {
     "data": {
      "text/plain": [
       "'formatlama satiri                           test bu da txtin sonu'"
      ]
     },
     "execution_count": 165,
     "metadata": {},
     "output_type": "execute_result"
    }
   ],
   "source": [
    "text = \"formatlama satiri {:>30} bu da txtin sonu\".format(\"test\")\n",
    "text"
   ]
  },
  {
   "cell_type": "code",
   "execution_count": 167,
   "id": "7e73617f-f141-4786-8b62-a10b2bc1d486",
   "metadata": {},
   "outputs": [
    {
     "data": {
      "text/plain": [
       "'formatlama satiri              test              bu da txtin sonu'"
      ]
     },
     "execution_count": 167,
     "metadata": {},
     "output_type": "execute_result"
    }
   ],
   "source": [
    "text = \"formatlama satiri {:^30} bu da txtin sonu\".format(\"test\")\n",
    "text"
   ]
  },
  {
   "cell_type": "code",
   "execution_count": 169,
   "id": "875565b3-75a1-4422-8a1d-a283f7fbd53e",
   "metadata": {},
   "outputs": [
    {
     "data": {
      "text/plain": [
       "'hippo     '"
      ]
     },
     "execution_count": 169,
     "metadata": {},
     "output_type": "execute_result"
    }
   ],
   "source": [
    "\"{:10.5}\".format('hippopotamus')"
   ]
  },
  {
   "cell_type": "code",
   "execution_count": 171,
   "id": "c6337163-3284-478e-b08c-8ca109a682ea",
   "metadata": {},
   "outputs": [
    {
     "data": {
      "text/plain": [
       "'       hippo        '"
      ]
     },
     "execution_count": 171,
     "metadata": {},
     "output_type": "execute_result"
    }
   ],
   "source": [
    "\"{:^20.5}\".format(\"hippopotamus\")"
   ]
  },
  {
   "cell_type": "code",
   "execution_count": 175,
   "id": "0d34d726-afd2-43ac-9cbf-6ae132aa7686",
   "metadata": {},
   "outputs": [
    {
     "data": {
      "text/plain": [
       "'+115'"
      ]
     },
     "execution_count": 175,
     "metadata": {},
     "output_type": "execute_result"
    }
   ],
   "source": [
    "\"{:+}\".format(115)  # +115 yazmak icin + dan sonra d yani digit te koyabiliriz"
   ]
  },
  {
   "cell_type": "markdown",
   "id": "9c013325-00e8-4b81-a017-df5309af1303",
   "metadata": {},
   "source": [
    "XXXXXXXX   LIST    XXXXXXXXXXXX"
   ]
  },
  {
   "cell_type": "code",
   "execution_count": 177,
   "id": "55eecdca-7a9c-4ada-9247-c407a5acf072",
   "metadata": {},
   "outputs": [
    {
     "name": "stdout",
     "output_type": "stream",
     "text": [
      "['h', 'a', 'p', 'p', 'y']\n",
      "['h', 'a', 'p', 'p', 'y']\n"
     ]
    }
   ],
   "source": [
    "list_1 = ['h', 'a', 'p', 'p', 'y']\n",
    "word = 'happy'\n",
    "list_2 = list(word)\n",
    "print(list_1)\n",
    "print(list_2)"
   ]
  },
  {
   "cell_type": "code",
   "execution_count": 178,
   "id": "f8455af0-018e-47b2-8d6f-4272e29957a0",
   "metadata": {},
   "outputs": [
    {
     "data": {
      "text/plain": [
       "['happy']"
      ]
     },
     "execution_count": 178,
     "metadata": {},
     "output_type": "execute_result"
    }
   ],
   "source": [
    "list_3 = [word]\n",
    "list_3"
   ]
  },
  {
   "cell_type": "code",
   "execution_count": 181,
   "id": "9e1c59af-20f7-4ed7-b73c-44a1977b8c3f",
   "metadata": {},
   "outputs": [
    {
     "name": "stdout",
     "output_type": "stream",
     "text": [
      "['Joseph', 'ali', 2020]\n",
      "3\n",
      "[['Joseph', 'ali', 2020]]\n",
      "1\n"
     ]
    }
   ],
   "source": [
    "my_list = [\"Joseph\", \"ali\", 2020]\n",
    "new_list1 = list(my_list)\n",
    "new_list2 = [my_list]\n",
    "print(new_list1)\n",
    "print(len(new_list1))\n",
    "print(new_list2)\n",
    "print(len(new_list2))"
   ]
  },
  {
   "cell_type": "code",
   "execution_count": 182,
   "id": "c0bb4503-f2ad-4dc6-97d2-1f39368c3f7d",
   "metadata": {},
   "outputs": [
    {
     "name": "stdout",
     "output_type": "stream",
     "text": [
      "['2', '0', '2', '0', \"'\", 's', ' ', 'h', 'a', 'r', 'd']\n",
      "[\"2020's hard\"]\n"
     ]
    }
   ],
   "source": [
    "a = list(\"2020's hard\")\n",
    "b = [\"2020's hard\"]\n",
    "print(a)\n",
    "print(b)"
   ]
  },
  {
   "cell_type": "code",
   "execution_count": 234,
   "id": "dd9d5623-bcff-4bae-b7b1-44c035e9c319",
   "metadata": {},
   "outputs": [
    {
     "name": "stdout",
     "output_type": "stream",
     "text": [
      "[100, 90, 80, 70, 60, 50, 40, 30, 20, 10]\n"
     ]
    }
   ],
   "source": [
    "a = list(range(10,101,10))\n",
    "a.sort(reverse = True)\n",
    "print(a)\n",
    "\n"
   ]
  },
  {
   "cell_type": "code",
   "execution_count": 1,
   "id": "11ac54ef-363b-4279-8d1b-074a1968a0e5",
   "metadata": {},
   "outputs": [
    {
     "data": {
      "text/plain": [
       "'A'"
      ]
     },
     "execution_count": 1,
     "metadata": {},
     "output_type": "execute_result"
    }
   ],
   "source": [
    "chr(65)"
   ]
  },
  {
   "cell_type": "code",
   "execution_count": 237,
   "id": "e53f2cbb-5200-4cc1-96bd-4da8ae09c228",
   "metadata": {},
   "outputs": [
    {
     "data": {
      "text/plain": [
       "65"
      ]
     },
     "execution_count": 237,
     "metadata": {},
     "output_type": "execute_result"
    }
   ],
   "source": [
    "ord(\"A\")"
   ]
  },
  {
   "cell_type": "code",
   "execution_count": 5,
   "id": "15a5773c-1fc6-4f8f-9b3a-e400d0ca5208",
   "metadata": {},
   "outputs": [
    {
     "name": "stdout",
     "output_type": "stream",
     "text": [
      "[0, 5, 10, 15, 20, 25, 30, 35, 40, 45, 50, 55, 60, 65, 70, 75, 80, 85, 90, 95, 100]\n",
      "[100, 95, 90, 85, 80, 75, 70, 65, 60, 55, 50, 45, 40, 35, 30, 25, 20, 15, 10, 5, 0]\n"
     ]
    }
   ],
   "source": [
    "number = list(range(0,101,5))\n",
    "print(number)\n",
    "number.sort(reverse=True)\n",
    "print(number)"
   ]
  },
  {
   "cell_type": "code",
   "execution_count": null,
   "id": "595f9488",
   "metadata": {},
   "outputs": [],
   "source": []
  },
  {
   "cell_type": "code",
   "execution_count": null,
   "id": "d11b5201",
   "metadata": {},
   "outputs": [],
   "source": []
  }
 ],
 "metadata": {
  "interpreter": {
   "hash": "c7c795ceb90a1e9ce126740c26b69a539ac4d6b6de3227ab1efd70667c579877"
  },
  "kernelspec": {
   "display_name": "Python 3",
   "language": "python",
   "name": "python3"
  },
  "language_info": {
   "codemirror_mode": {
    "name": "ipython",
    "version": 3
   },
   "file_extension": ".py",
   "mimetype": "text/x-python",
   "name": "python",
   "nbconvert_exporter": "python",
   "pygments_lexer": "ipython3",
   "version": "3.8.8"
  }
 },
 "nbformat": 4,
 "nbformat_minor": 5
}