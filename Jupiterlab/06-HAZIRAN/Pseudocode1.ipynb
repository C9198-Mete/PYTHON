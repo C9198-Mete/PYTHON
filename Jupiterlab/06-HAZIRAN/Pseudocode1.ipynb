{
 "cells": [
  {
   "cell_type": "markdown",
   "id": "209bcaec-4c04-489f-8ebf-dd5db665df30",
   "metadata": {},
   "source": [
    "XXXXXXXX PSEUDOCODE  XXXXXXXX\n",
    "\n",
    "\n",
    "xxxxxxxxxxx IF STRUCTURE xxxxxxxx\n",
    "\n",
    "\n",
    "IF you are tired\n",
    "    THEN rest\n",
    "ELSE IF you are stressed\n",
    "    THEN relax\n",
    "ELSE\n",
    "    Keep working\n",
    "\n",
    "xxxxxxxxxxxxxxxxxxxxxxxxxxxx\n",
    "    \n",
    "IF you are happy\n",
    "    THEN smile\n",
    "ENDIF\n",
    "\n",
    "xxxxxxxxxxxxxxxxxxxxxxxxxxxx"
   ]
  },
  {
   "cell_type": "raw",
   "id": "104a56d6-ace4-4878-a5e4-890cd29d9e10",
   "metadata": {},
   "source": [
    "XXXXXXX EXAMPLE  XXXXXXX\n",
    "BEGIN\n",
    "INPUT hours, rate\n",
    "IF hours < 40\n",
    "THEN\n",
    "    pay = hours * rate\n",
    "ELSE\n",
    "    pay = 40 * rate + (hours - 40) * rate * 1.5\n",
    "OUTPUT pay\n",
    "END"
   ]
  },
  {
   "cell_type": "code",
   "execution_count": 1,
   "id": "93353018-f8c4-4a7b-8718-8939f903727f",
   "metadata": {},
   "outputs": [
    {
     "name": "stdin",
     "output_type": "stream",
     "text": [
      "How many hours do you work weekly? 40\n",
      "What is your payment? 10\n"
     ]
    },
    {
     "name": "stdout",
     "output_type": "stream",
     "text": [
      "Your payment is:  400\n"
     ]
    }
   ],
   "source": [
    "hours = int(input(\"How many hours do you work weekly?\"))\n",
    "rate = int(input(\"What is your payment?\"))\n",
    "if hours <= 40:\n",
    "    pay = hours * rate\n",
    "else:\n",
    "    pay = 40 * rate + (hours - 40) * rate * 1.5\n",
    "print(\"Your payment is: \", pay)"
   ]
  },
  {
   "cell_type": "code",
   "execution_count": null,
   "id": "49f3be00-0382-4e27-9251-9110e6cddd19",
   "metadata": {},
   "outputs": [],
   "source": [
    "name = input(\"What is your name? :\")\n",
    "print(\"Hello\", name)\n",
    "\n",
    "age = int(input(\"How old are you? :\"))\n",
    "if age >= 70 :\n",
    "    print(\"You are aged to perfection\")\n",
    "else:\n",
    "    print(\"You are a spring chicken\")"
   ]
  },
  {
   "cell_type": "code",
   "execution_count": 14,
   "id": "6eedec18-8347-4c1d-a455-c943be3da9c0",
   "metadata": {},
   "outputs": [
    {
     "name": "stdin",
     "output_type": "stream",
     "text": [
      "How old are you? : 24\n"
     ]
    },
    {
     "name": "stdout",
     "output_type": "stream",
     "text": [
      "d\n"
     ]
    }
   ],
   "source": [
    "age =int(input(\"How old are you? :\"))\n",
    "\n",
    "if age >= 45 :\n",
    "    print(\"a\")\n",
    "elif 25 < age < 35:\n",
    "    print(\"b\")\n",
    "elif age <25:\n",
    "    print(\"d\")\n",
    "else:\n",
    "    print(\"e\")"
   ]
  },
  {
   "cell_type": "markdown",
   "id": "69873af8-d9ff-4d4a-8c53-a3d40ca4bf72",
   "metadata": {},
   "source": [
    "xxxxxxxx FOR STRUCTURE xxxxxxxxxx\n",
    "\n",
    "FOR every 25 minutes of study\n",
    "    Earn one Pomodoro\n",
    "ENDFOR"
   ]
  },
  {
   "cell_type": "code",
   "execution_count": 18,
   "id": "780f39f4-9239-441e-ae3f-6f171a498f03",
   "metadata": {},
   "outputs": [
    {
     "name": "stdout",
     "output_type": "stream",
     "text": [
      "1\n",
      "6\n",
      "2\n",
      "9\n",
      "3\n",
      "14\n",
      "4\n",
      "21\n",
      "5\n",
      "30\n",
      "6\n",
      "41\n",
      "7\n",
      "54\n",
      "8\n",
      "69\n",
      "9\n",
      "86\n",
      "10\n",
      "105\n",
      "exit the for loop\n"
     ]
    }
   ],
   "source": [
    "list = [1,2,3,4,5,6,7,8,9,10]  # iteration\n",
    "\n",
    "for x in list:\n",
    "    print(x)\n",
    "    value = (x ** 2 + 5)\n",
    "    print(value)\n",
    "print(\"exit the for loop\")    "
   ]
  },
  {
   "cell_type": "code",
   "execution_count": 22,
   "id": "f28d8a1a-176f-4be7-96e5-98fe6727bb3d",
   "metadata": {},
   "outputs": [
    {
     "name": "stdout",
     "output_type": "stream",
     "text": [
      "50\n",
      "60\n",
      "70\n",
      "80\n",
      "90\n",
      "100\n",
      "110\n",
      "120\n",
      "130\n",
      "140\n",
      "150\n",
      "160\n",
      "170\n",
      "180\n",
      "190\n",
      "Exit the for loop\n"
     ]
    }
   ],
   "source": [
    "for i in range (25,100,5):  # iteration\n",
    "    print(i * 2)\n",
    "print(\"Exit the for loop\")"
   ]
  },
  {
   "cell_type": "code",
   "execution_count": null,
   "id": "e8a6dafb-0492-44d7-a4d8-42dd510d2806",
   "metadata": {},
   "outputs": [],
   "source": []
  }
 ],
 "metadata": {
  "kernelspec": {
   "display_name": "Python 3",
   "language": "python",
   "name": "python3"
  },
  "language_info": {
   "codemirror_mode": {
    "name": "ipython",
    "version": 3
   },
   "file_extension": ".py",
   "mimetype": "text/x-python",
   "name": "python",
   "nbconvert_exporter": "python",
   "pygments_lexer": "ipython3",
   "version": "3.8.8"
  }
 },
 "nbformat": 4,
 "nbformat_minor": 5
}
