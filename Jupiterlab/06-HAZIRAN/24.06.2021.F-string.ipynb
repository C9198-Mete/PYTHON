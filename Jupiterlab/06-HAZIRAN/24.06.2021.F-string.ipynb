{
 "cells": [
  {
   "cell_type": "code",
   "execution_count": 1,
   "id": "71f4f842-e247-482d-bc84-e083f2bb7a78",
   "metadata": {},
   "outputs": [
    {
     "name": "stdout",
     "output_type": "stream",
     "text": [
      "The amount of Orange and tomato we bought are totally 6 pounds\n"
     ]
    }
   ],
   "source": [
    "fruit = \"Orange\"\n",
    "veg = \"tomato\"\n",
    "amount = 6\n",
    "output = f\"The amount of {fruit} and {veg} we bought are totally {amount} pounds\"\n",
    "print(output)"
   ]
  },
  {
   "cell_type": "code",
   "execution_count": 3,
   "id": "98b7158c-f785-4b57-a294-0f4dcdb10035",
   "metadata": {},
   "outputs": [
    {
     "name": "stdout",
     "output_type": "stream",
     "text": [
      "8\n"
     ]
    }
   ],
   "source": [
    "sample = f\"{2 ** 3}\"\n",
    "print(sample)"
   ]
  },
  {
   "cell_type": "code",
   "execution_count": 4,
   "id": "779602ca-c6fc-4fe2-9cb3-9fcc90f7d4f3",
   "metadata": {},
   "outputs": [
    {
     "name": "stdout",
     "output_type": "stream",
     "text": [
      "burada neler oluyor .... 8\n"
     ]
    }
   ],
   "source": [
    "x = 2\n",
    "y = 3\n",
    "print(f\"burada neler oluyor .... {x ** y}\")"
   ]
  },
  {
   "cell_type": "code",
   "execution_count": 12,
   "id": "fc68b6b2-7f4f-4732-b1b6-3cecf7cabe2d",
   "metadata": {},
   "outputs": [
    {
     "name": "stdout",
     "output_type": "stream",
     "text": [
      "My name is Mariam\n"
     ]
    }
   ],
   "source": [
    "name = \"MARIAM\"\n",
    "print(f\"My name is {name.capitalize()}\")\n"
   ]
  },
  {
   "cell_type": "code",
   "execution_count": 14,
   "id": "dc881dd5-387f-4164-a556-b06938595a90",
   "metadata": {},
   "outputs": [
    {
     "name": "stdout",
     "output_type": "stream",
     "text": [
      "Hi Joseph.You are one of the teachersin the Data Science\n"
     ]
    }
   ],
   "source": [
    "name = \"Joseph\"\n",
    "job = \"teachers\"\n",
    "domain = \"Data Science\"\n",
    "messeage = (\n",
    "       f\"Hi {name}.\"\n",
    "       f\"You are one of the {job}\"\n",
    "       f\"in the {domain}\"\n",
    ")\n",
    "print(messeage)"
   ]
  },
  {
   "cell_type": "code",
   "execution_count": 3,
   "id": "0dfbb596-300e-4820-bbae-05c638aa2f21",
   "metadata": {},
   "outputs": [
    {
     "name": "stdout",
     "output_type": "stream",
     "text": [
      "Hi Joseph.You are one of the teachersin the Data Science\n"
     ]
    }
   ],
   "source": [
    "name = \"Joseph\"\n",
    "job = \"teachers\"\n",
    "domain = \"Data Science\"\n",
    "messeage = f\"Hi {name}.\" \\\n",
    "       f\"You are one of the {job}\" \\\n",
    "       f\"in the {domain}\"\n",
    "\n",
    "print(messeage)"
   ]
  },
  {
   "cell_type": "code",
   "execution_count": 17,
   "id": "a1e18b4f-4470-4441-a0a1-95ec93218e08",
   "metadata": {},
   "outputs": [
    {
     "name": "stdout",
     "output_type": "stream",
     "text": [
      "Susan is a young lady and she is astudent at the CLRWY IT university.\n"
     ]
    }
   ],
   "source": [
    "name = \"Susan\"\n",
    "age = \"young\"\n",
    "gender = \"lady\"\n",
    "school = \"CLRWY IT university.\"\n",
    "mes = f\"{name} is a {age} \"\\\n",
    "   f\"{gender} and she is a\" \\\n",
    "   f\"student at the {school}\"\n",
    "print(mes)"
   ]
  },
  {
   "cell_type": "code",
   "execution_count": 18,
   "id": "959d007e-9f0f-4b7d-8e70-6ab9549976da",
   "metadata": {},
   "outputs": [
    {
     "name": "stdout",
     "output_type": "stream",
     "text": [
      "Hello! I am a new programmer and I love Clarusway.\n"
     ]
    }
   ],
   "source": [
    "text = \"{0}! I am a {1} programmer and I {2} Clarusway.\".format(\"Hello\", \"new\", \"love\")\n",
    "print(text)"
   ]
  },
  {
   "cell_type": "code",
   "execution_count": 19,
   "id": "9cc65438-c0b4-458f-8067-bdd4026c2982",
   "metadata": {},
   "outputs": [
    {
     "name": "stdout",
     "output_type": "stream",
     "text": [
      "I live in Sarajevo.\n"
     ]
    }
   ],
   "source": [
    "city = \"SARAJEVO\"\n",
    "text = f\"I live in {city.capitalize()}.\"\n",
    "print(text)"
   ]
  },
  {
   "cell_type": "code",
   "execution_count": 21,
   "id": "a8079b1e-35a2-442e-8826-8dc6f7c7bfb8",
   "metadata": {},
   "outputs": [
    {
     "name": "stdout",
     "output_type": "stream",
     "text": [
      "clausway\n"
     ]
    }
   ],
   "source": [
    "word = 'clarusway'\n",
    "n = 3\n",
    "front = word[:n]\n",
    "back = word[n+1:]\n",
    "print(front + back)"
   ]
  },
  {
   "cell_type": "code",
   "execution_count": 23,
   "id": "475194da-c5c4-4e89-bfab-539900e64e45",
   "metadata": {},
   "outputs": [
    {
     "name": "stdout",
     "output_type": "stream",
     "text": [
      "clarusway\n",
      "ClarusWay\n",
      "clarusway\n"
     ]
    }
   ],
   "source": [
    "var_string = \"ClarusWay\"\n",
    "print(var_string.lower())\n",
    "print(var_string)\n",
    "var_string = \"ClarusWay\".lower()\n",
    "print(var_string)"
   ]
  },
  {
   "cell_type": "code",
   "execution_count": 24,
   "id": "bedff27d-853f-4629-af83-72ae08f1daee",
   "metadata": {},
   "outputs": [
    {
     "name": "stdout",
     "output_type": "stream",
     "text": [
      "In God we Trust\n"
     ]
    }
   ],
   "source": [
    "var_str = \"In God we Trust\"\n",
    "var_str.lower()\n",
    "print(var_str)"
   ]
  },
  {
   "cell_type": "code",
   "execution_count": 25,
   "id": "c0721ff6-f1ad-415a-8f94-ff4befc87ddb",
   "metadata": {},
   "outputs": [
    {
     "data": {
      "text/plain": [
       "'Clarusway'"
      ]
     },
     "execution_count": 25,
     "metadata": {},
     "output_type": "execute_result"
    }
   ],
   "source": [
    "\"clarusway\".title()"
   ]
  },
  {
   "cell_type": "code",
   "execution_count": 28,
   "id": "250d00db-2b86-492f-9e25-5fbb0eb0c4bf",
   "metadata": {},
   "outputs": [
    {
     "name": "stdout",
     "output_type": "stream",
     "text": [
      "Clarusway\n",
      "clarusway\n"
     ]
    }
   ],
   "source": [
    "metin = \"clarusway\"\n",
    "print(metin.title())\n",
    "print(metin)"
   ]
  },
  {
   "cell_type": "code",
   "execution_count": 29,
   "id": "94c9b954-c769-4d31-b369-5aa483eda566",
   "metadata": {},
   "outputs": [
    {
     "name": "stdout",
     "output_type": "stream",
     "text": [
      "Clarusway\n"
     ]
    }
   ],
   "source": [
    "metin = metin.title()\n",
    "print(metin)"
   ]
  },
  {
   "cell_type": "code",
   "execution_count": 32,
   "id": "9fd8f16f-b149-41c9-bcaa-c7b46977cfb7",
   "metadata": {},
   "outputs": [
    {
     "name": "stdout",
     "output_type": "stream",
     "text": [
      "True\n",
      "False\n",
      "False\n"
     ]
    }
   ],
   "source": [
    "text = \"programming is easy\"\n",
    "result = text.startswith(('python', 'programming'))\n",
    "\n",
    "# prints True\n",
    "print(result)\n",
    "\n",
    "result = text.startswith(('is', 'easy', 'java'))\n",
    "\n",
    "# prints False\n",
    "print(result)\n",
    "\n",
    "# With start and end parameter\n",
    "# 'is easy' string is checked\n",
    "result = text.startswith(('programming', 'easy'), 12, 19)\n",
    "\n",
    "# prints False\n",
    "print(result)"
   ]
  },
  {
   "cell_type": "code",
   "execution_count": 33,
   "id": "eac81d4a-6f0b-4427-b001-1cee4941f399",
   "metadata": {},
   "outputs": [
    {
     "name": "stdout",
     "output_type": "stream",
     "text": [
      "False\n",
      "True\n",
      "True\n"
     ]
    }
   ],
   "source": [
    "text = \"programming is easy\"\n",
    "result = text.endswith(('programming', 'python'))\n",
    "\n",
    "# prints False\n",
    "print(result)\n",
    "\n",
    "result = text.endswith(('python', 'easy', 'java'))\n",
    "\n",
    "#prints True\n",
    "print(result)\n",
    "\n",
    "# With start and end parameter\n",
    "# 'programming is' string is checked\n",
    "result = text.endswith(('is', 'an'), 0, 14)\n",
    "\n",
    "# prints True\n",
    "print(result)"
   ]
  },
  {
   "cell_type": "code",
   "execution_count": 49,
   "id": "befcf0f9-c25d-463e-9ca7-deceae1ff3ec",
   "metadata": {},
   "outputs": [
    {
     "name": "stdout",
     "output_type": "stream",
     "text": [
      "***Python is awesome***\n"
     ]
    }
   ],
   "source": [
    "string = \"Python is awesome\"\n",
    "new_string = string.center(23, '*')\n",
    "print(new_string)"
   ]
  },
  {
   "cell_type": "code",
   "execution_count": 53,
   "id": "47cb6869-0140-4966-bec0-ce2ef874d563",
   "metadata": {},
   "outputs": [
    {
     "data": {
      "text/plain": [
       "'Cluruswuy'"
      ]
     },
     "execution_count": 53,
     "metadata": {},
     "output_type": "execute_result"
    }
   ],
   "source": [
    "a = \"Clarusway\"\n",
    "a.replace(\"a\", \"u\", 3)"
   ]
  },
  {
   "cell_type": "code",
   "execution_count": 77,
   "id": "f02eeac1-60e0-40b8-972c-8a9087221648",
   "metadata": {},
   "outputs": [
    {
     "name": "stdout",
     "output_type": "stream",
     "text": [
      "Sodome and Gomore\n"
     ]
    }
   ],
   "source": [
    "text = \"S0d0me and G0m0re\"\n",
    "text = text.replace(\"0\", \"o\")\n",
    "print(text)"
   ]
  },
  {
   "cell_type": "code",
   "execution_count": 80,
   "id": "8da33621-a8a2-43be-b716-a312dd4fc6df",
   "metadata": {},
   "outputs": [
    {
     "name": "stdout",
     "output_type": "stream",
     "text": [
      "Sodome and G0m0re\n"
     ]
    }
   ],
   "source": [
    "text = \"S0d0me and G0m0re\"\n",
    "text = text.replace(\"0\", \"o\", 2)\n",
    "print(text)"
   ]
  },
  {
   "cell_type": "code",
   "execution_count": 83,
   "id": "9f7664ab-bf72-4842-a6c2-32990724c862",
   "metadata": {},
   "outputs": [
    {
     "data": {
      "text/plain": [
       "'love'"
      ]
     },
     "execution_count": 83,
     "metadata": {},
     "output_type": "execute_result"
    }
   ],
   "source": [
    "a = \"  xoxoxoxoxo love xxxoosoxs\"\n",
    "a.strip(\" sox\")\n"
   ]
  },
  {
   "cell_type": "code",
   "execution_count": 82,
   "id": "e4149af1-47d5-4ef8-9631-61170bffc97c",
   "metadata": {},
   "outputs": [
    {
     "data": {
      "text/plain": [
       "'xoxoxoxoxo love xoxoxoxoxs'"
      ]
     },
     "execution_count": 82,
     "metadata": {},
     "output_type": "execute_result"
    }
   ],
   "source": [
    "a = \"  xoxoxoxoxo love xoxoxoxoxs\"\n",
    "a.strip()\n"
   ]
  },
  {
   "cell_type": "code",
   "execution_count": 86,
   "id": "66a8faf9-b5c3-4e56-90be-5415f63e688f",
   "metadata": {},
   "outputs": [
    {
     "name": "stdout",
     "output_type": "stream",
     "text": [
      "  \n",
      "\n",
      "ahmet \n",
      "mehmet     \n"
     ]
    }
   ],
   "source": [
    "a = \"  \\n\\nahmet \\nmehmet     \"\n",
    "print(a)"
   ]
  },
  {
   "cell_type": "code",
   "execution_count": 87,
   "id": "cf6bf230-0fe6-4aa8-9430-df9e19e090c7",
   "metadata": {},
   "outputs": [
    {
     "name": "stdout",
     "output_type": "stream",
     "text": [
      "ahmet \n",
      "mehmet\n"
     ]
    }
   ],
   "source": [
    "print(a.strip())"
   ]
  },
  {
   "cell_type": "code",
   "execution_count": 88,
   "id": "17ae52de-7f8d-4f6f-b893-8590a9d20e29",
   "metadata": {},
   "outputs": [
    {
     "ename": "SyntaxError",
     "evalue": "invalid syntax (<ipython-input-88-3b10dd7f989e>, line 2)",
     "output_type": "error",
     "traceback": [
      "\u001b[1;36m  File \u001b[1;32m\"<ipython-input-88-3b10dd7f989e>\"\u001b[1;36m, line \u001b[1;32m2\u001b[0m\n\u001b[1;33m    a.strip([0:4])\u001b[0m\n\u001b[1;37m              ^\u001b[0m\n\u001b[1;31mSyntaxError\u001b[0m\u001b[1;31m:\u001b[0m invalid syntax\n"
     ]
    }
   ],
   "source": [
    "a = \"  xoxoxoxoxo love xoxoxoxoxs\"\n",
    "a.strip([0:4])"
   ]
  },
  {
   "cell_type": "code",
   "execution_count": 91,
   "id": "976b26e3-f4f3-4e05-a043-95ea173dd322",
   "metadata": {},
   "outputs": [
    {
     "name": "stdout",
     "output_type": "stream",
     "text": [
      "YOU CAN LEARN ALMOST IN EVERYTHING PRE-CLASS\n"
     ]
    }
   ],
   "source": [
    "text = \"tyou can learn almost in everything pre-classz\"\n",
    "print(text.strip(\"tz\").upper())"
   ]
  },
  {
   "cell_type": "code",
   "execution_count": 92,
   "id": "71899d59-3f6e-4da8-8cae-30c3959fda2e",
   "metadata": {},
   "outputs": [
    {
     "name": "stdout",
     "output_type": "stream",
     "text": [
      "www.clarusway.com\n",
      "Www.Clarusway.Com\n",
      "WWW.CLARUSWAY.COM\n",
      "Www.clarusway.com\n",
      "WWW.CLARUSWAY.COM\n",
      "https//www.clarusway.com\n",
      "www.clarusway.com\n",
      "www.clurusway.com\n",
      "www.cluruswuy.com\n",
      "www.cluruswuy.com\n",
      "False\n",
      "True\n",
      ".clarusway.co\n",
      ".clarusway.com\n",
      "www.clarusway.co\n",
      "www.clarusway.com\n"
     ]
    }
   ],
   "source": [
    "x =\"www.clarusway.com\"\n",
    "print(x.lower()) # hepsi küçük\n",
    "print(x.title()) # her kelimenin ilk harfi büyür\n",
    "print(x.upper()) # hepsini büyük harf olur\n",
    "print(x.capitalize()) # sadece ilk kelimenin ilk\n",
    "print(x.swapcase()) # Büyükler küçük, küçükler büyük\n",
    "print(x.replace(\"www\", \"https//www\")) # tanımlanan değişiyor\n",
    "print(x.strip()) #\n",
    "print(x.replace(\"a\", \"u\", 1)) # sadece bir kere\n",
    "print(x.replace(\"a\", \"u\")) # boş bırakılınca hepsi\n",
    "print(x.replace(\"a\", \"u\", 5)) # sayı fazla olsada değişmiyor.\n",
    "# x = x.____ olarak koymazsak değişim olmaz.\n",
    "# string .dan sonra tabtab yapınca seçenekler çıkıyor\n",
    "print(x.startswith(\"http\"))\n",
    "print(x.endswith(\"com\"))\n",
    "print(x.strip(\"wm\")) # iki taraftan gördüklerini kırptı. \"w\" or \"m\" gibi\n",
    "print(x.lstrip(\"w\")) #sol taraftan kırpar\n",
    "print(x.rstrip(\"m\")) # sağ taraftan kırpar\n",
    "print(x.strip()) # space tuşlarını yok eder"
   ]
  },
  {
   "cell_type": "code",
   "execution_count": 4,
   "id": "bf0577b0-9c05-4842-bb45-101aebea731a",
   "metadata": {},
   "outputs": [
    {
     "data": {
      "text/plain": [
       "True"
      ]
     },
     "execution_count": 4,
     "metadata": {},
     "output_type": "execute_result"
    }
   ],
   "source": [
    "5!= 6"
   ]
  },
  {
   "cell_type": "code",
   "execution_count": null,
   "id": "4685295a-8d78-41e4-9583-c716150ac00f",
   "metadata": {},
   "outputs": [],
   "source": []
  }
 ],
 "metadata": {
  "kernelspec": {
   "display_name": "Python 3",
   "language": "python",
   "name": "python3"
  },
  "language_info": {
   "codemirror_mode": {
    "name": "ipython",
    "version": 3
   },
   "file_extension": ".py",
   "mimetype": "text/x-python",
   "name": "python",
   "nbconvert_exporter": "python",
   "pygments_lexer": "ipython3",
   "version": "3.8.8"
  }
 },
 "nbformat": 4,
 "nbformat_minor": 5
}
