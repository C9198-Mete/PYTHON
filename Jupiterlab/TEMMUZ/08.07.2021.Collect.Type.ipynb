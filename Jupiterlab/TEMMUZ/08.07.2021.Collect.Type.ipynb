{
 "cells": [
  {
   "source": [
    "xxxxxx     COLLECTION TYPE    xxxxxxx\n"
   ],
   "cell_type": "markdown",
   "metadata": {}
  },
  {
   "cell_type": "code",
   "execution_count": 30,
   "id": "d3a60624",
   "metadata": {},
   "outputs": [
    {
     "ename": "SyntaxError",
     "evalue": "invalid syntax (<ipython-input-30-86b4ffae4ebf>, line 1)",
     "output_type": "error",
     "traceback": [
      "\u001b[1;36m  File \u001b[1;32m\"<ipython-input-30-86b4ffae4ebf>\"\u001b[1;36m, line \u001b[1;32m1\u001b[0m\n\u001b[1;33m    dict(\"key1\": \"value1\",\u001b[0m\n\u001b[1;37m               ^\u001b[0m\n\u001b[1;31mSyntaxError\u001b[0m\u001b[1;31m:\u001b[0m invalid syntax\n"
     ]
    }
   ],
   "source": [
    "dict(\"key1\": \"value1\",\n",
    "        \"key2\": \"value2\",\n",
    "        \"key3\": \"value3\")\n",
    "        "
   ]
  },
  {
   "cell_type": "code",
   "execution_count": 6,
   "id": "49c7eb9e",
   "metadata": {},
   "outputs": [
    {
     "name": "stdout",
     "output_type": "stream",
     "text": [
      "{'fruit': 'apple', 'drink': 'water'}\n",
      "{'fruit': 'apple', 'drink': 'water'}\n"
     ]
    }
   ],
   "source": [
    "manav = {\"fruit\":\"apple\", \"drink\":\"water\"}\n",
    "grocer = dict(fruit =\"apple\", drink = \"water\")\n",
    "print(manav)\n",
    "print(grocer)"
   ]
  },
  {
   "cell_type": "code",
   "execution_count": 9,
   "id": "17de8b44",
   "metadata": {},
   "outputs": [
    {
     "name": "stdout",
     "output_type": "stream",
     "text": [
      "{1: 'one', 'two': 2, False: [1, 2, 3]}\n"
     ]
    }
   ],
   "source": [
    "first_dict = {1 : \"one\", \"two\":2, False : [1, 2, 3]}\n",
    "print(first_dict)"
   ]
  },
  {
   "cell_type": "code",
   "execution_count": 15,
   "id": "717f941b",
   "metadata": {},
   "outputs": [
    {
     "ename": "SyntaxError",
     "evalue": "expression cannot contain assignment, perhaps you meant \"==\"? (<ipython-input-15-b1b88f86c4ae>, line 1)",
     "output_type": "error",
     "traceback": [
      "\u001b[1;36m  File \u001b[1;32m\"<ipython-input-15-b1b88f86c4ae>\"\u001b[1;36m, line \u001b[1;32m1\u001b[0m\n\u001b[1;33m    second_dict = dict([1, 2, 3] = \"liste\", \"clarus\" = \"the best\")\u001b[0m\n\u001b[1;37m                       ^\u001b[0m\n\u001b[1;31mSyntaxError\u001b[0m\u001b[1;31m:\u001b[0m expression cannot contain assignment, perhaps you meant \"==\"?\n"
     ]
    }
   ],
   "source": [
    "second_dict = dict([1, 2, 3] = \"liste\", \"clarus\" = \"the best\") # key olarak liste kullanamayiz"
   ]
  },
  {
   "cell_type": "code",
   "execution_count": 14,
   "id": "60a395ae",
   "metadata": {},
   "outputs": [
    {
     "name": "stdout",
     "output_type": "stream",
     "text": [
      "{(1, 2, 3): 'liste', 'clarus': 'the best'}\n"
     ]
    }
   ],
   "source": [
    "third_dict = {(1, 2, 3) : \"liste\", \"clarus\" : \"the best\"} # key olarak tuple olur.\n",
    "print(third_dict)"
   ]
  },
  {
   "cell_type": "code",
   "execution_count": 16,
   "id": "e7618df3",
   "metadata": {},
   "outputs": [
    {
     "ename": "TypeError",
     "evalue": "unhashable type: 'dict'",
     "output_type": "error",
     "traceback": [
      "\u001b[1;31m---------------------------------------------------------------------------\u001b[0m",
      "\u001b[1;31mTypeError\u001b[0m                                 Traceback (most recent call last)",
      "\u001b[1;32m<ipython-input-16-56a89414bd72>\u001b[0m in \u001b[0;36m<module>\u001b[1;34m\u001b[0m\n\u001b[1;32m----> 1\u001b[1;33m \u001b[0mfour_dict\u001b[0m \u001b[1;33m=\u001b[0m \u001b[1;33m{\u001b[0m\u001b[1;33m{\u001b[0m\u001b[1;36m1\u001b[0m \u001b[1;33m:\u001b[0m \u001b[1;34m\"bir\"\u001b[0m\u001b[1;33m,\u001b[0m \u001b[1;36m2\u001b[0m \u001b[1;33m:\u001b[0m \u001b[1;34m\"iki\"\u001b[0m\u001b[1;33m}\u001b[0m \u001b[1;33m:\u001b[0m \u001b[1;34m\"sozluk\"\u001b[0m\u001b[1;33m}\u001b[0m\u001b[1;33m\u001b[0m\u001b[1;33m\u001b[0m\u001b[0m\n\u001b[0m",
      "\u001b[1;31mTypeError\u001b[0m: unhashable type: 'dict'"
     ]
    }
   ],
   "source": [
    "four_dict = {{1 : \"bir\", 2 : \"iki\"} : \"sozluk\"} # key olarak dict kullanamayiz"
   ]
  },
  {
   "cell_type": "code",
   "execution_count": 25,
   "id": "8f8091d0",
   "metadata": {},
   "outputs": [
    {
     "name": "stdout",
     "output_type": "stream",
     "text": [
      "{'erkekler': {'ahmet': 35, 'mehmet': 44, 'cemal': 16}, 'bayanlar': {'selvi': 26, 'ayse': 24}}\n"
     ]
    }
   ],
   "source": [
    "fifth_dict = {\"erkekler\" : {\"ahmet\" : 35, \"mehmet\" : 44, \"cemal\" : 16},\\\n",
    "                \"bayanlar\" : {\"selvi\" : 26, \"ayse\" : 24}}\n",
    "print(fifth_dict)"
   ]
  },
  {
   "cell_type": "code",
   "execution_count": 26,
   "id": "d69fdffb",
   "metadata": {},
   "outputs": [
    {
     "name": "stdout",
     "output_type": "stream",
     "text": [
      "{'name1': 'haci', 'name2': 'hacer', 'name3': 'aziz'}\n"
     ]
    }
   ],
   "source": [
    "family = {\"name1\" : \"haci\", \n",
    "            \"name2\" : \"hacer\",\n",
    "            \"name3\" : \"aziz\"\n",
    "            }\n",
    "print(family)                   "
   ]
  },
  {
   "cell_type": "code",
   "execution_count": 27,
   "id": "0564d1df",
   "metadata": {},
   "outputs": [
    {
     "name": "stdout",
     "output_type": "stream",
     "text": [
      "{'name1': 'haci', 'name2': 'hacer', 'name3': 'aziz', 'name4': 'hanife'}\n"
     ]
    }
   ],
   "source": [
    "family[\"name4\"] = \"hanife\"\n",
    "print(family)"
   ]
  },
  {
   "cell_type": "code",
   "execution_count": 31,
   "id": "2b638370",
   "metadata": {},
   "outputs": [
    {
     "data": {
      "text/plain": [
       "4"
      ]
     },
     "execution_count": 31,
     "metadata": {},
     "output_type": "execute_result"
    }
   ],
   "source": [
    "len(family)"
   ]
  },
  {
   "cell_type": "code",
   "execution_count": 32,
   "id": "c8d7b8ef",
   "metadata": {},
   "outputs": [
    {
     "name": "stdout",
     "output_type": "stream",
     "text": [
      "{'name1': 'haci', 'name2': 'hacer', 'name3': 'aziz', 'name4': 'hanife'}\n"
     ]
    }
   ],
   "source": [
    "family = dict(name1 = \"haci\", name2 = \"hacer\", name3 = \"aziz\", name4 = \"hanife\")\n",
    "print(family)"
   ]
  },
  {
   "cell_type": "code",
   "execution_count": 33,
   "id": "d0282f25",
   "metadata": {},
   "outputs": [
    {
     "data": {
      "text/plain": [
       "{5: 'bes', 15: 'on', 20: 'yirmi'}"
      ]
     },
     "execution_count": 33,
     "metadata": {},
     "output_type": "execute_result"
    }
   ],
   "source": [
    "n1, n2, n3 = 5, 15, 20\n",
    "numbers = {n1 : \"bes\", n2 : \"on\", n3 : \"yirmi\"}\n",
    "numbers"
   ]
  },
  {
   "cell_type": "code",
   "execution_count": 35,
   "id": "1c249438",
   "metadata": {},
   "outputs": [
    {
     "data": {
      "text/plain": [
       "{'tek': [1, 3, 5, 7, 9], 'cift': [0, 2, 4, 6, 8]}"
      ]
     },
     "execution_count": 35,
     "metadata": {},
     "output_type": "execute_result"
    }
   ],
   "source": [
    "sayilar = {\"tek\" : [] , \n",
    "            \"cift\" : []}\n",
    "sayilar[\"tek\"] = list(range(1,10,2))\n",
    "sayilar[\"cift\"] = list(range(0,10,2))\n",
    "sayilar\n",
    "\n",
    "\n"
   ]
  },
  {
   "cell_type": "code",
   "execution_count": 38,
   "id": "8fde4d1f",
   "metadata": {},
   "outputs": [
    {
     "data": {
      "text/plain": [
       "{'elma': 4, 'armut': 4}"
      ]
     },
     "execution_count": 38,
     "metadata": {},
     "output_type": "execute_result"
    }
   ],
   "source": [
    "meyveler = {}.fromkeys([\"elma\", \"armut\"], 4)\n",
    "meyveler"
   ]
  },
  {
   "cell_type": "code",
   "execution_count": 39,
   "id": "4741e745",
   "metadata": {},
   "outputs": [
    {
     "data": {
      "text/plain": [
       "{'elma': 5, 'armut': 4}"
      ]
     },
     "execution_count": 39,
     "metadata": {},
     "output_type": "execute_result"
    }
   ],
   "source": [
    "meyveler[\"elma\"] += 1\n",
    "meyveler"
   ]
  },
  {
   "cell_type": "code",
   "execution_count": 44,
   "id": "703f23e5",
   "metadata": {},
   "outputs": [
    {
     "data": {
      "text/plain": [
       "{'elma': 5, 'armut': 9}"
      ]
     },
     "execution_count": 44,
     "metadata": {},
     "output_type": "execute_result"
    }
   ],
   "source": [
    "meyveler[\"armut\"] += 1 # bu code 5 defa calistirdim ve her seferinde 1 ekleme yapti ve guncelledi."
   ]
  },
  {
   "cell_type": "code",
   "execution_count": 45,
   "id": "191b320f",
   "metadata": {},
   "outputs": [
    {
     "data": {
      "text/plain": [
       "{'elma': 5, 'armut': 9, 'kivi': 5}"
      ]
     },
     "execution_count": 45,
     "metadata": {},
     "output_type": "execute_result"
    }
   ],
   "source": [
    "meyveler[\"kivi\"] = 5\n",
    "meyveler"
   ]
  },
  {
   "cell_type": "code",
   "execution_count": 46,
   "id": "8be3ba4f",
   "metadata": {},
   "outputs": [
    {
     "data": {
      "text/plain": [
       "{'elma': 9, 'armut': 9, 'kivi': 5}"
      ]
     },
     "execution_count": 46,
     "metadata": {},
     "output_type": "execute_result"
    }
   ],
   "source": [
    "meyveler[\"elma\"] = 9\n",
    "meyveler"
   ]
  },
  {
   "cell_type": "code",
   "execution_count": 48,
   "id": "ab2a5b34",
   "metadata": {},
   "outputs": [
    {
     "data": {
      "text/plain": [
       "{'cisim1': 'mouse klavye', 'cisim2': 'havlu'}"
      ]
     },
     "execution_count": 48,
     "metadata": {},
     "output_type": "execute_result"
    }
   ],
   "source": [
    "cisimler = {\"cisim1\" : \"mouse\", \"cisim2\" : \"havlu\"}\n",
    "cisimler[\"cisim1\"] += \" klavye\"\n",
    "cisimler"
   ]
  },
  {
   "cell_type": "code",
   "execution_count": 52,
   "id": "d24d4b6a",
   "metadata": {},
   "outputs": [
    {
     "name": "stdout",
     "output_type": "stream",
     "text": [
      "dict_items([('animal', 'dog'), ('planet', 'neptun'), ('number', 40), ('pi', 3.14), ('is_good', True)])\n",
      "dict_keys(['animal', 'planet', 'number', 'pi', 'is_good'])\n",
      "dict_values(['dog', 'neptun', 40, 3.14, True])\n"
     ]
    }
   ],
   "source": [
    "dict_by_dict = {'animal': 'dog',\n",
    "                'planet': 'neptun',\n",
    "                'number': 40,\n",
    "                'pi': 3.14,\n",
    "                'is_good': True}\n",
    "\n",
    "print(dict_by_dict.items())\n",
    "print(dict_by_dict.keys())\n",
    "print(dict_by_dict.values())\n"
   ]
  },
  {
   "cell_type": "code",
   "execution_count": 53,
   "id": "6dc360ab",
   "metadata": {},
   "outputs": [
    {
     "data": {
      "text/plain": [
       "[('animal', 'dog'),\n",
       " ('planet', 'neptun'),\n",
       " ('number', 40),\n",
       " ('pi', 3.14),\n",
       " ('is_good', True)]"
      ]
     },
     "execution_count": 53,
     "metadata": {},
     "output_type": "execute_result"
    }
   ],
   "source": [
    "list(dict_by_dict.items())"
   ]
  },
  {
   "cell_type": "code",
   "execution_count": 55,
   "id": "f0254282",
   "metadata": {},
   "outputs": [
    {
     "name": "stdout",
     "output_type": "stream",
     "text": [
      "{'animal': 'dog', 'planet': 'neptun', 'number': 40, 'pi': 3.14, 'is_good': True, 'is_bad': False}\n"
     ]
    }
   ],
   "source": [
    "dict_by_dict = {'animal': 'dog',\n",
    "                'planet': 'neptun',\n",
    "                'number': 40,\n",
    "                'pi': 3.14,\n",
    "                'is_good': True}\n",
    "dict_by_dict.update({\"is_bad\": False})\n",
    "print(dict_by_dict)"
   ]
  },
  {
   "cell_type": "code",
   "execution_count": 56,
   "id": "b8f367b9",
   "metadata": {},
   "outputs": [
    {
     "name": "stdout",
     "output_type": "stream",
     "text": [
      "{'planet': 'neptun', 'number': 40, 'pi': 3.14, 'is_good': True}\n"
     ]
    }
   ],
   "source": [
    "dict_by_dict = {'animal': 'dog',\n",
    "                'planet': 'neptun',\n",
    "                'number': 40,\n",
    "                'pi': 3.14,\n",
    "                'is_good': True}\n",
    "del dict_by_dict[\"animal\"]\n",
    "print(dict_by_dict)"
   ]
  },
  {
   "cell_type": "code",
   "execution_count": 61,
   "id": "3b73956b",
   "metadata": {},
   "outputs": [
    {
     "name": "stdout",
     "output_type": "stream",
     "text": [
      "{'name1': 'haci', 'name3': 'aziz'}\n",
      "{'name3': 'aziz'}\n"
     ]
    }
   ],
   "source": [
    "family = dict(name1 = \"haci\", name2 = \"hacer\", name3 = \"aziz\", name4 = \"hanife\")\n",
    "del family[\"name2\"], family[\"name4\"]\n",
    "print(family)\n",
    "family.pop(\"name1\")\n",
    "print(family)"
   ]
  },
  {
   "cell_type": "code",
   "execution_count": 62,
   "id": "78227405",
   "metadata": {},
   "outputs": [
    {
     "data": {
      "text/plain": [
       "False"
      ]
     },
     "execution_count": 62,
     "metadata": {},
     "output_type": "execute_result"
    }
   ],
   "source": [
    "clarusway = [\"ali\", \"veli\", \"deli\"]\n",
    "\"zeka kupu\" in clarusway\n"
   ]
  },
  {
   "cell_type": "code",
   "execution_count": 63,
   "id": "abe612f6",
   "metadata": {},
   "outputs": [
    {
     "data": {
      "text/plain": [
       "True"
      ]
     },
     "execution_count": 63,
     "metadata": {},
     "output_type": "execute_result"
    }
   ],
   "source": [
    "\"deli\" in clarusway"
   ]
  },
  {
   "cell_type": "code",
   "execution_count": 64,
   "id": "9f651d83",
   "metadata": {},
   "outputs": [
    {
     "data": {
      "text/plain": [
       "False"
      ]
     },
     "execution_count": 64,
     "metadata": {},
     "output_type": "execute_result"
    }
   ],
   "source": [
    "dict_by_dict = {'animal': 'dog',\n",
    "                'planet': 'neptun',\n",
    "                'number': 40,\n",
    "                'pi': 3.14,\n",
    "                'is_good': True}\n",
    "\"dog\" in dict_by_dict # SADECE KEYLERE BAKAR\n"
   ]
  },
  {
   "cell_type": "code",
   "execution_count": 65,
   "id": "63243c93",
   "metadata": {},
   "outputs": [
    {
     "data": {
      "text/plain": [
       "True"
      ]
     },
     "execution_count": 65,
     "metadata": {},
     "output_type": "execute_result"
    }
   ],
   "source": [
    "\"dog\" in dict_by_dict.values() # VALUES ICINDEKILERE BAKAR"
   ]
  },
  {
   "cell_type": "code",
   "execution_count": 66,
   "id": "de2e38cf",
   "metadata": {},
   "outputs": [
    {
     "data": {
      "text/plain": [
       "True"
      ]
     },
     "execution_count": 66,
     "metadata": {},
     "output_type": "execute_result"
    }
   ],
   "source": [
    "\"pi\" in dict_by_dict"
   ]
  },
  {
   "cell_type": "code",
   "execution_count": 67,
   "id": "39fbec56",
   "metadata": {},
   "outputs": [
    {
     "data": {
      "text/plain": [
       "True"
      ]
     },
     "execution_count": 67,
     "metadata": {},
     "output_type": "execute_result"
    }
   ],
   "source": [
    "\"dog\" not in dict_by_dict"
   ]
  },
  {
   "cell_type": "code",
   "execution_count": 69,
   "id": "b8643e91",
   "metadata": {},
   "outputs": [
    {
     "data": {
      "text/plain": [
       "2"
      ]
     },
     "execution_count": 69,
     "metadata": {},
     "output_type": "execute_result"
    }
   ],
   "source": [
    "school_records={\n",
    "    \"personal_info\":\n",
    "        {\"kid\":{\"tom\": {\"class\": \"intermediate\", \"age\": 10},\n",
    "                \"sue\": {\"class\": \"elementary\", \"age\": 8}\n",
    "               },\n",
    "         \"teen\":{\"joseph\":{\"class\": \"college\", \"age\": 19},\n",
    "                 \"marry\":{\"class\": \"high school\", \"age\": 16}\n",
    "               },               \n",
    "        },\n",
    "        \n",
    "    \"grades_info\":\n",
    "        {\"kid\":{\"tom\": {\"math\": 88, \"speech\": 69},\n",
    "                \"sue\": {\"math\": 90, \"speech\": 81}\n",
    "               },\n",
    "         \"teen\":{\"joseph\":{\"coding\": 80, \"math\": 89},\n",
    "                 \"marry\":{\"coding\": 70, \"math\": 96}\n",
    "               },               \n",
    "        },        \n",
    "}\n",
    "len(school_records)"
   ]
  },
  {
   "cell_type": "code",
   "execution_count": 71,
   "id": "cbcec3c7",
   "metadata": {},
   "outputs": [
    {
     "name": "stdout",
     "output_type": "stream",
     "text": [
      "16\n"
     ]
    }
   ],
   "source": [
    "print(school_records[\"personal_info\"][\"teen\"][\"marry\"][\"age\"])"
   ]
  },
  {
   "cell_type": "code",
   "execution_count": 73,
   "id": "7fe94d5f",
   "metadata": {},
   "outputs": [
    {
     "name": "stdout",
     "output_type": "stream",
     "text": [
      "89\n"
     ]
    }
   ],
   "source": [
    "print(school_records[\"grades_info\"][\"teen\"][\"joseph\"][\"math\"])"
   ]
  },
  {
   "cell_type": "code",
   "execution_count": 76,
   "id": "b860c62d",
   "metadata": {},
   "outputs": [
    {
     "name": "stdout",
     "output_type": "stream",
     "text": [
      "[('coding', 80), ('math', 89)]\n"
     ]
    }
   ],
   "source": [
    "print(list(school_records[\"grades_info\"][\"teen\"][\"joseph\"].items()))"
   ]
  },
  {
   "cell_type": "code",
   "execution_count": 77,
   "id": "10adc6fa",
   "metadata": {},
   "outputs": [
    {
     "name": "stdout",
     "output_type": "stream",
     "text": [
      "{'coding': 80, 'math': 89}\n"
     ]
    }
   ],
   "source": [
    "print(school_records[\"grades_info\"][\"teen\"][\"joseph\"])"
   ]
  },
  {
   "cell_type": "markdown",
   "id": "3df5bc08",
   "metadata": {},
   "source": [
    "***********ASSIGMENT COZUMU************\n"
   ]
  },
  {
   "cell_type": "code",
   "execution_count": 79,
   "id": "be321987",
   "metadata": {},
   "outputs": [
    {
     "data": {
      "text/plain": [
       "1605.7814764784307"
      ]
     },
     "execution_count": 79,
     "metadata": {},
     "output_type": "execute_result"
    }
   ],
   "source": [
    "anapara *= 1.07**7\n",
    "anapara"
   ]
  },
  {
   "cell_type": "code",
   "execution_count": 81,
   "id": "9ef01893",
   "metadata": {},
   "outputs": [
    {
     "name": "stdout",
     "output_type": "stream",
     "text": [
      "igne 4 numarali indextedir.\n"
     ]
    }
   ],
   "source": [
    "samanlik = [\"yumurta\", 'saman', \"davul\", \"inek\", \"igne\", \"tavuk\", \"dirgen\", \"yaba\", \"balta\", \"esarp\", \"igne\"]\n",
    "print(f\"igne {samanlik.index('igne')} numarali indextedir.\")"
   ]
  },
  {
   "cell_type": "code",
   "execution_count": 6,
   "id": "91209902",
   "metadata": {},
   "outputs": [
    {
     "output_type": "stream",
     "name": "stdout",
     "text": [
      "{'blue', 'red', 'pink'}\n('red', 'blue', 'pink', 'red')\n{'blue', 'red', 'pink'}\n"
     ]
    }
   ],
   "source": [
    "set_1 = {'red', 'blue', 'pink', 'red'}\n",
    "colors = 'red', 'blue', 'pink', 'red' \n",
    "print(set_1)\n",
    "print(colors)\n",
    "set_2 = set(colors)\n",
    "print(set_2)"
   ]
  },
  {
   "cell_type": "code",
   "execution_count": 8,
   "metadata": {},
   "outputs": [
    {
     "output_type": "stream",
     "name": "stdout",
     "text": [
      "['a', 'b', 'c', 'd', 'e', 'f', 'g', 'h', 'i', 'j', 'k', 'l', 'm', 'n', 'o', 'p', 'q', 'r', 's', 't', 'u', 'x', 'w', 'v', 'z']\n"
     ]
    }
   ],
   "source": [
    "letter = \"a b c d e f g h i j k l m n o p q r s t u x w v z\".split()\n",
    "print(letter)"
   ]
  },
  {
   "cell_type": "code",
   "execution_count": 9,
   "metadata": {},
   "outputs": [
    {
     "output_type": "stream",
     "name": "stdout",
     "text": [
      "{'b', 'h', 'u', 'd', 'n', 'z', 'r', 'o', 'w', 'i', 's', 'q', 'a', 'g', 'x', 'm', 'v', 'c', 'e', 'f', 'p', 'l', 'j', 't', 'k'}\n"
     ]
    }
   ],
   "source": [
    "print(set(letter))"
   ]
  },
  {
   "cell_type": "code",
   "execution_count": 10,
   "metadata": {},
   "outputs": [
    {
     "output_type": "execute_result",
     "data": {
      "text/plain": [
       "2"
      ]
     },
     "metadata": {},
     "execution_count": 10
    }
   ],
   "source": [
    "test = {1, \"bir\", 1.0}\n",
    "len(test)"
   ]
  },
  {
   "cell_type": "code",
   "execution_count": 11,
   "metadata": {},
   "outputs": [
    {
     "output_type": "execute_result",
     "data": {
      "text/plain": [
       "True"
      ]
     },
     "metadata": {},
     "execution_count": 11
    }
   ],
   "source": [
    "1 == 1.0"
   ]
  },
  {
   "cell_type": "code",
   "execution_count": 13,
   "metadata": {},
   "outputs": [
    {
     "output_type": "execute_result",
     "data": {
      "text/plain": [
       "dict"
      ]
     },
     "metadata": {},
     "execution_count": 13
    }
   ],
   "source": [
    "type({})\n"
   ]
  },
  {
   "cell_type": "code",
   "execution_count": 14,
   "metadata": {},
   "outputs": [
    {
     "output_type": "execute_result",
     "data": {
      "text/plain": [
       "set"
      ]
     },
     "metadata": {},
     "execution_count": 14
    }
   ],
   "source": [
    "type(set())"
   ]
  },
  {
   "cell_type": "code",
   "execution_count": 15,
   "metadata": {},
   "outputs": [
    {
     "output_type": "execute_result",
     "data": {
      "text/plain": [
       "True"
      ]
     },
     "metadata": {},
     "execution_count": 15
    }
   ],
   "source": [
    "a = {'carnation', 'orchid', 'rose', 'violet'} \n",
    "b = {'rose', 'orchid', 'rose', 'violet', 'carnation'}\n",
    "a == b"
   ]
  },
  {
   "cell_type": "code",
   "execution_count": 16,
   "metadata": {},
   "outputs": [
    {
     "output_type": "execute_result",
     "data": {
      "text/plain": [
       "{'/', '0', '1', '2', '7'}"
      ]
     },
     "metadata": {},
     "execution_count": 16
    }
   ],
   "source": [
    "date = \"12/07/2021\"\n",
    "set(date)"
   ]
  },
  {
   "cell_type": "code",
   "execution_count": 17,
   "metadata": {},
   "outputs": [
    {
     "output_type": "error",
     "ename": "TypeError",
     "evalue": "unhashable type: 'list'",
     "traceback": [
      "\u001b[1;31m---------------------------------------------------------------------------\u001b[0m",
      "\u001b[1;31mTypeError\u001b[0m                                 Traceback (most recent call last)",
      "\u001b[1;32m<ipython-input-17-eae6441e17a9>\u001b[0m in \u001b[0;36m<module>\u001b[1;34m\u001b[0m\n\u001b[1;32m----> 1\u001b[1;33m \u001b[0mkarisik\u001b[0m \u001b[1;33m=\u001b[0m \u001b[1;33m{\u001b[0m\u001b[1;33m[\u001b[0m\u001b[1;36m1\u001b[0m\u001b[1;33m,\u001b[0m\u001b[1;36m2\u001b[0m\u001b[1;33m,\u001b[0m\u001b[1;36m3\u001b[0m\u001b[1;33m]\u001b[0m\u001b[1;33m,\u001b[0m \u001b[1;33m{\u001b[0m\u001b[1;36m1\u001b[0m\u001b[1;33m:\u001b[0m\u001b[1;34m\"bir\"\u001b[0m\u001b[1;33m}\u001b[0m\u001b[1;33m,\u001b[0m \u001b[1;33m(\u001b[0m\u001b[1;34m\"iki\"\u001b[0m\u001b[1;33m,\u001b[0m\u001b[1;34m\"uc\"\u001b[0m\u001b[1;33m)\u001b[0m\u001b[1;33m}\u001b[0m\u001b[1;33m\u001b[0m\u001b[1;33m\u001b[0m\u001b[0m\n\u001b[0m",
      "\u001b[1;31mTypeError\u001b[0m: unhashable type: 'list'"
     ]
    }
   ],
   "source": [
    "karisik = {[1,2,3], {1:\"bir\"}, (\"iki\",\"uc\")}"
   ]
  },
  {
   "cell_type": "code",
   "execution_count": 21,
   "metadata": {},
   "outputs": [
    {
     "output_type": "stream",
     "name": "stdout",
     "text": [
      "{'o', 'i', 't', 'W', 'n', 'g'}\n{'a', 'e', 'h', 'o', 'g', 'l', 'i', 't', 'W', 'n', 's'}\n{'h', 'a', 's'}\n"
     ]
    }
   ],
   "source": [
    "a = capitals_usa = set(\"Washington\")\n",
    "b = capitals_nz = set(\"Wellington\")\n",
    "print(a&b)\n",
    "print(a|b)\n",
    "print(a-b)"
   ]
  },
  {
   "cell_type": "code",
   "execution_count": null,
   "metadata": {},
   "outputs": [],
   "source": []
  }
 ],
 "metadata": {
  "interpreter": {
   "hash": "c7c795ceb90a1e9ce126740c26b69a539ac4d6b6de3227ab1efd70667c579877"
  },
  "kernelspec": {
   "name": "python3",
   "display_name": "Python 3.9.6 64-bit"
  },
  "language_info": {
   "codemirror_mode": {
    "name": "ipython",
    "version": 3
   },
   "file_extension": ".py",
   "mimetype": "text/x-python",
   "name": "python",
   "nbconvert_exporter": "python",
   "pygments_lexer": "ipython3",
   "version": "3.9.6"
  }
 },
 "nbformat": 4,
 "nbformat_minor": 5
}