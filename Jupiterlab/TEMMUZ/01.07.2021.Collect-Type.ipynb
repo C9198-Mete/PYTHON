{
 "cells": [
  {
   "source": [
    "xxxxxxx    COLLECTION TYPE   XXXXXXXX"
   ],
   "cell_type": "markdown",
   "metadata": {}
  },
  {
   "cell_type": "code",
   "execution_count": 1,
   "id": "e2cf10c3-7220-44b1-9348-f344789978c2",
   "metadata": {},
   "outputs": [
    {
     "ename": "TypeError",
     "evalue": "'<' not supported between instances of 'int' and 'str'",
     "output_type": "error",
     "traceback": [
      "\u001b[1;31m---------------------------------------------------------------------------\u001b[0m",
      "\u001b[1;31mTypeError\u001b[0m                                 Traceback (most recent call last)",
      "\u001b[1;32m<ipython-input-1-a1bdabc117a5>\u001b[0m in \u001b[0;36m<module>\u001b[1;34m\u001b[0m\n\u001b[0;32m      1\u001b[0m \u001b[0mx\u001b[0m \u001b[1;33m=\u001b[0m \u001b[1;33m[\u001b[0m\u001b[1;34m\"a\"\u001b[0m\u001b[1;33m,\u001b[0m \u001b[1;36m1\u001b[0m\u001b[1;33m,\u001b[0m \u001b[1;36m7\u001b[0m\u001b[1;33m,\u001b[0m \u001b[1;34m\"d\"\u001b[0m\u001b[1;33m]\u001b[0m\u001b[1;33m\u001b[0m\u001b[1;33m\u001b[0m\u001b[0m\n\u001b[1;32m----> 2\u001b[1;33m \u001b[0mx\u001b[0m\u001b[1;33m.\u001b[0m\u001b[0msort\u001b[0m\u001b[1;33m(\u001b[0m\u001b[1;33m)\u001b[0m\u001b[1;33m\u001b[0m\u001b[1;33m\u001b[0m\u001b[0m\n\u001b[0m\u001b[0;32m      3\u001b[0m \u001b[0mprint\u001b[0m\u001b[1;33m(\u001b[0m\u001b[0mx\u001b[0m\u001b[1;33m)\u001b[0m\u001b[1;33m\u001b[0m\u001b[1;33m\u001b[0m\u001b[0m\n",
      "\u001b[1;31mTypeError\u001b[0m: '<' not supported between instances of 'int' and 'str'"
     ]
    }
   ],
   "source": [
    "x = [\"a\", 1, 7, \"d\"]\n",
    "x.sort()\n",
    "print(x)"
   ]
  },
  {
   "cell_type": "code",
   "execution_count": 9,
   "id": "92be0663-adb3-4c23-8eed-5b5c67945b14",
   "metadata": {},
   "outputs": [],
   "source": [
    "list_1 = ['one', 'four', 'nine']\n",
    "list_2 = ['@', '*-', 'False']\n",
    "list_3 = [True, False]\n",
    "list_4 = [[3], [44], [-12]]\n",
    "list_5 = [[1, 3], [44, -40], [-12, 1]]\n"
   ]
  },
  {
   "cell_type": "code",
   "execution_count": 8,
   "id": "6bebeb29-2769-4e52-af6d-414656207800",
   "metadata": {},
   "outputs": [
    {
     "data": {
      "text/plain": [
       "['four', 'nine', 'one']"
      ]
     },
     "execution_count": 8,
     "metadata": {},
     "output_type": "execute_result"
    }
   ],
   "source": [
    "list_1.sort()  # Alfabetik siralamaya gore yapti\n",
    "list_1"
   ]
  },
  {
   "cell_type": "code",
   "execution_count": 10,
   "id": "3d9a4c34-d410-4a16-8c16-a4e1183c3ad3",
   "metadata": {},
   "outputs": [
    {
     "data": {
      "text/plain": [
       "['*-', '@', 'False']"
      ]
     },
     "execution_count": 10,
     "metadata": {},
     "output_type": "execute_result"
    }
   ],
   "source": [
    "list_2.sort()  # harflerin ascii koduna gore siraladi\n",
    "list_2"
   ]
  },
  {
   "cell_type": "code",
   "execution_count": 1,
   "id": "e00d5a89-d421-43f8-a6f4-bf5159d271ab",
   "metadata": {},
   "outputs": [
    {
     "ename": "NameError",
     "evalue": "name 'list_3' is not defined",
     "output_type": "error",
     "traceback": [
      "\u001b[1;31m---------------------------------------------------------------------------\u001b[0m",
      "\u001b[1;31mNameError\u001b[0m                                 Traceback (most recent call last)",
      "\u001b[1;32m<ipython-input-1-534ccd9c9226>\u001b[0m in \u001b[0;36m<module>\u001b[1;34m\u001b[0m\n\u001b[1;32m----> 1\u001b[1;33m \u001b[0mlist_3\u001b[0m\u001b[1;33m.\u001b[0m\u001b[0msort\u001b[0m\u001b[1;33m(\u001b[0m\u001b[1;33m)\u001b[0m\u001b[1;33m\u001b[0m\u001b[1;33m\u001b[0m\u001b[0m\n\u001b[0m\u001b[0;32m      2\u001b[0m \u001b[0mlist_3\u001b[0m\u001b[1;33m\u001b[0m\u001b[1;33m\u001b[0m\u001b[0m\n",
      "\u001b[1;31mNameError\u001b[0m: name 'list_3' is not defined"
     ]
    }
   ],
   "source": [
    "list_3.sort()\n",
    "list_3"
   ]
  },
  {
   "cell_type": "code",
   "execution_count": 12,
   "id": "e4e57aff-c753-4c84-93f0-eaf163d9b342",
   "metadata": {},
   "outputs": [
    {
     "data": {
      "text/plain": [
       "[[-12], [3], [44]]"
      ]
     },
     "execution_count": 12,
     "metadata": {},
     "output_type": "execute_result"
    }
   ],
   "source": [
    "list_4.sort()\n",
    "list_4"
   ]
  },
  {
   "cell_type": "code",
   "execution_count": 13,
   "id": "51861268-8a52-41ee-97e7-2e7aaddd7b70",
   "metadata": {},
   "outputs": [
    {
     "data": {
      "text/plain": [
       "[[-12, 1], [1, 3], [44, -40]]"
      ]
     },
     "execution_count": 13,
     "metadata": {},
     "output_type": "execute_result"
    }
   ],
   "source": [
    "list_5.sort()\n",
    "list_5"
   ]
  },
  {
   "cell_type": "code",
   "execution_count": 1,
   "id": "1d38c43c-716b-4348-ab14-ad5a107076d8",
   "metadata": {},
   "outputs": [
    {
     "data": {
      "text/plain": [
       "1"
      ]
     },
     "execution_count": 1,
     "metadata": {},
     "output_type": "execute_result"
    }
   ],
   "source": [
    "len([\"a b\"])"
   ]
  },
  {
   "cell_type": "code",
   "execution_count": 1,
   "id": "15ff5e0f",
   "metadata": {},
   "outputs": [
    {
     "data": {
      "text/plain": [
       "3"
      ]
     },
     "execution_count": 1,
     "metadata": {},
     "output_type": "execute_result"
    }
   ],
   "source": [
    "len(\"a b\")"
   ]
  },
  {
   "cell_type": "code",
   "execution_count": 2,
   "id": "63319c96",
   "metadata": {},
   "outputs": [
    {
     "data": {
      "text/plain": [
       "4"
      ]
     },
     "execution_count": 2,
     "metadata": {},
     "output_type": "execute_result"
    }
   ],
   "source": [
    "len([\"a b\", False, None, []])"
   ]
  },
  {
   "cell_type": "code",
   "execution_count": 6,
   "id": "60610d41",
   "metadata": {},
   "outputs": [
    {
     "ename": "TypeError",
     "evalue": "object of type 'int' has no len()",
     "output_type": "error",
     "traceback": [
      "\u001b[1;31m---------------------------------------------------------------------------\u001b[0m",
      "\u001b[1;31mTypeError\u001b[0m                                 Traceback (most recent call last)",
      "\u001b[1;32m<ipython-input-6-ec67a52704b7>\u001b[0m in \u001b[0;36m<module>\u001b[1;34m\u001b[0m\n\u001b[1;32m----> 1\u001b[1;33m \u001b[0mlen\u001b[0m\u001b[1;33m(\u001b[0m\u001b[1;36m1234\u001b[0m\u001b[1;33m)\u001b[0m\u001b[1;33m\u001b[0m\u001b[1;33m\u001b[0m\u001b[0m\n\u001b[0m",
      "\u001b[1;31mTypeError\u001b[0m: object of type 'int' has no len()"
     ]
    }
   ],
   "source": [
    "len(1234)"
   ]
  },
  {
   "cell_type": "code",
   "execution_count": 16,
   "id": "0561ba76",
   "metadata": {},
   "outputs": [
    {
     "data": {
      "text/plain": [
       "6"
      ]
     },
     "execution_count": 16,
     "metadata": {},
     "output_type": "execute_result"
    }
   ],
   "source": [
    "[1, 3, 6, 9][2]"
   ]
  },
  {
   "cell_type": "code",
   "execution_count": 17,
   "id": "74a7bedf-2446-41cd-9345-f5fe0cf57d88",
   "metadata": {},
   "outputs": [
    {
     "data": {
      "text/plain": [
       "6"
      ]
     },
     "execution_count": 17,
     "metadata": {},
     "output_type": "execute_result"
    }
   ],
   "source": [
    "sayilar  = [1, 3, 6, 9]\n",
    "sayilar[2]"
   ]
  },
  {
   "cell_type": "code",
   "execution_count": 19,
   "id": "bd2d60eb-3537-4a52-9b4a-92f71ddb419a",
   "metadata": {},
   "outputs": [
    {
     "data": {
      "text/plain": [
       "['p', 2]"
      ]
     },
     "execution_count": 19,
     "metadata": {},
     "output_type": "execute_result"
    }
   ],
   "source": [
    "new = [\"h\", \"a\", 1, [\"p\", 2], True]\n",
    "new[3]"
   ]
  },
  {
   "cell_type": "code",
   "execution_count": 21,
   "id": "ec70e1db-90df-4749-bb3e-8c4b90a06ba9",
   "metadata": {},
   "outputs": [
    {
     "data": {
      "text/plain": [
       "list"
      ]
     },
     "execution_count": 21,
     "metadata": {},
     "output_type": "execute_result"
    }
   ],
   "source": [
    "type(new[3])"
   ]
  },
  {
   "cell_type": "code",
   "execution_count": 2,
   "id": "5d3b9c38-932c-4123-ae10-594cb454897c",
   "metadata": {},
   "outputs": [
    {
     "ename": "NameError",
     "evalue": "name 'new' is not defined",
     "output_type": "error",
     "traceback": [
      "\u001b[1;31m---------------------------------------------------------------------------\u001b[0m",
      "\u001b[1;31mNameError\u001b[0m                                 Traceback (most recent call last)",
      "\u001b[1;32m<ipython-input-2-7f8716acf5fd>\u001b[0m in \u001b[0;36m<module>\u001b[1;34m\u001b[0m\n\u001b[1;32m----> 1\u001b[1;33m \u001b[0mtype\u001b[0m\u001b[1;33m(\u001b[0m\u001b[0mnew\u001b[0m\u001b[1;33m[\u001b[0m\u001b[1;36m2\u001b[0m\u001b[1;33m]\u001b[0m\u001b[1;33m)\u001b[0m\u001b[1;33m\u001b[0m\u001b[1;33m\u001b[0m\u001b[0m\n\u001b[0m",
      "\u001b[1;31mNameError\u001b[0m: name 'new' is not defined"
     ]
    }
   ],
   "source": [
    "type(new[2])"
   ]
  },
  {
   "cell_type": "code",
   "execution_count": 24,
   "id": "16d9760e-f9cf-44f3-b770-dfa829f5f685",
   "metadata": {},
   "outputs": [
    {
     "name": "stdout",
     "output_type": "stream",
     "text": [
      "[['h', 'a', 1, ['p', 2], True]]\n"
     ]
    },
    {
     "data": {
      "text/plain": [
       "1"
      ]
     },
     "execution_count": 24,
     "metadata": {},
     "output_type": "execute_result"
    }
   ],
   "source": [
    "new = [\"h\", \"a\", 1, [\"p\", 2], True]\n",
    "new1 = []\n",
    "new1.append(new)\n",
    "print(new1)\n",
    "len(new1)"
   ]
  },
  {
   "cell_type": "code",
   "execution_count": 27,
   "id": "7fcf8f26-dd95-4230-b3bd-fa6cfe3d31ac",
   "metadata": {},
   "outputs": [
    {
     "data": {
      "text/plain": [
       "['New York', 'London', 'Istanbul', 'Seoul', 'Sydney']"
      ]
     },
     "execution_count": 27,
     "metadata": {},
     "output_type": "execute_result"
    }
   ],
   "source": [
    "city = ['New York', 'London', 'Istanbul', 'Seoul', 'Sydney']\n",
    "city_list = []\n",
    "city_list.append(city)\n",
    "city_list[0]"
   ]
  },
  {
   "cell_type": "code",
   "execution_count": 31,
   "id": "ed557f03-8880-4442-80c2-14452e7975bc",
   "metadata": {},
   "outputs": [
    {
     "data": {
      "text/plain": [
       "'New York'"
      ]
     },
     "execution_count": 31,
     "metadata": {},
     "output_type": "execute_result"
    }
   ],
   "source": [
    "city_list[0][0]\n"
   ]
  },
  {
   "cell_type": "code",
   "execution_count": 30,
   "id": "b4cab95c-2b5d-4fd1-b6f2-16a2435ae555",
   "metadata": {},
   "outputs": [
    {
     "data": {
      "text/plain": [
       "'Y'"
      ]
     },
     "execution_count": 30,
     "metadata": {},
     "output_type": "execute_result"
    }
   ],
   "source": [
    "city_list[0][0][4]"
   ]
  },
  {
   "cell_type": "code",
   "execution_count": 32,
   "id": "726890fe-bc4a-4453-8dd1-dc01c1d27af3",
   "metadata": {},
   "outputs": [
    {
     "name": "stdout",
     "output_type": "stream",
     "text": [
      "[6, 8, 10]\n"
     ]
    }
   ],
   "source": [
    "numbers = [2, 4, 6, 8, 10, 12, 14] # Neyi slice yapiyorsak sonucun tipi odur.\n",
    "print(numbers[2:5])"
   ]
  },
  {
   "cell_type": "code",
   "execution_count": 34,
   "id": "8b4bed0f-1024-47f9-a08a-38bf74999184",
   "metadata": {},
   "outputs": [
    {
     "name": "stdout",
     "output_type": "stream",
     "text": [
      "[1, 3, 5, 7, 9]\n"
     ]
    }
   ],
   "source": [
    "x = list(range(0,10))\n",
    "print(x[1::2])"
   ]
  },
  {
   "cell_type": "code",
   "execution_count": 5,
   "id": "ea3cb190-4b48-429a-8427-5cabf4561647",
   "metadata": {},
   "outputs": [
    {
     "name": "stdout",
     "output_type": "stream",
     "text": [
      "['t', 'a', 'n']\n",
      "['s', 't', 'a', 'n']\n",
      "[]\n",
      "['l', 'u', 'b', 'n', 'a']\n"
     ]
    }
   ],
   "source": [
    "city = ['I','s','t','a','n','b','u','l']\n",
    "print(city[2:-3])\n",
    "print(city[-7:5])\n",
    "print(city[-1:-6])\n",
    "print(city[-1:-6:-1])"
   ]
  },
  {
   "cell_type": "code",
   "execution_count": 1,
   "id": "ca905c83",
   "metadata": {},
   "outputs": [
    {
     "data": {
      "text/plain": [
       "tuple"
      ]
     },
     "execution_count": 1,
     "metadata": {},
     "output_type": "execute_result"
    }
   ],
   "source": [
    "a = tuple()\n",
    "type(a)"
   ]
  },
  {
   "cell_type": "code",
   "execution_count": 2,
   "id": "5f43e1b5",
   "metadata": {},
   "outputs": [
    {
     "data": {
      "text/plain": [
       "tuple"
      ]
     },
     "execution_count": 2,
     "metadata": {},
     "output_type": "execute_result"
    }
   ],
   "source": [
    "star = (\"Solar\", 1, [22, \"22\"])\n",
    "type(star)"
   ]
  },
  {
   "cell_type": "code",
   "execution_count": 3,
   "id": "fea6aeee",
   "metadata": {},
   "outputs": [
    {
     "data": {
      "text/plain": [
       "tuple"
      ]
     },
     "execution_count": 3,
     "metadata": {},
     "output_type": "execute_result"
    }
   ],
   "source": [
    "x = 1, 2, 3\n",
    "type(x)"
   ]
  },
  {
   "cell_type": "code",
   "execution_count": 4,
   "id": "e0a22495",
   "metadata": {},
   "outputs": [
    {
     "data": {
      "text/plain": [
       "tuple"
      ]
     },
     "execution_count": 4,
     "metadata": {},
     "output_type": "execute_result"
    }
   ],
   "source": [
    "y = 1,\n",
    "type(y)"
   ]
  },
  {
   "cell_type": "code",
   "execution_count": 6,
   "id": "8211f324",
   "metadata": {},
   "outputs": [
    {
     "data": {
      "text/plain": [
       "[True, 'beyrut', 'tokyo']"
      ]
     },
     "execution_count": 6,
     "metadata": {},
     "output_type": "execute_result"
    }
   ],
   "source": [
    "city = [\"los angels\", \"beyrut\", \"tokyo\"]\n",
    "city[0] = True\n",
    "city"
   ]
  },
  {
   "cell_type": "code",
   "execution_count": 3,
   "id": "919badea",
   "metadata": {},
   "outputs": [
    {
     "ename": "NameError",
     "evalue": "name 'city' is not defined",
     "output_type": "error",
     "traceback": [
      "\u001b[1;31m---------------------------------------------------------------------------\u001b[0m",
      "\u001b[1;31mNameError\u001b[0m                                 Traceback (most recent call last)",
      "\u001b[1;32m<ipython-input-3-ae6184f2823f>\u001b[0m in \u001b[0;36m<module>\u001b[1;34m\u001b[0m\n\u001b[1;32m----> 1\u001b[1;33m \u001b[0mcity\u001b[0m\u001b[1;33m[\u001b[0m\u001b[1;36m1\u001b[0m\u001b[1;33m:\u001b[0m\u001b[1;33m]\u001b[0m \u001b[1;33m=\u001b[0m \u001b[1;34m\"istanbul\"\u001b[0m\u001b[1;33m,\u001b[0m \u001b[1;34m\"seul\"\u001b[0m\u001b[1;33m\u001b[0m\u001b[1;33m\u001b[0m\u001b[0m\n\u001b[0m\u001b[0;32m      2\u001b[0m \u001b[0mcity\u001b[0m\u001b[1;33m\u001b[0m\u001b[1;33m\u001b[0m\u001b[0m\n",
      "\u001b[1;31mNameError\u001b[0m: name 'city' is not defined"
     ]
    }
   ],
   "source": [
    "city[1:] = \"istanbul\", \"seul\"\n",
    "city"
   ]
  },
  {
   "cell_type": "code",
   "execution_count": 8,
   "id": "3c09fa1b",
   "metadata": {},
   "outputs": [
    {
     "data": {
      "text/plain": [
       "[True, '1', '2', '3', 4, False]"
      ]
     },
     "execution_count": 8,
     "metadata": {},
     "output_type": "execute_result"
    }
   ],
   "source": [
    "city[1:] = [\"1\", \"2\", \"3\", 4, False]\n",
    "city"
   ]
  },
  {
   "cell_type": "code",
   "execution_count": 9,
   "id": "c3a56c6f",
   "metadata": {},
   "outputs": [
    {
     "data": {
      "text/plain": [
       "[True, 'b', 'a', 'n', 'g', 'l', 'a', 'd', 'e', 's']"
      ]
     },
     "execution_count": 9,
     "metadata": {},
     "output_type": "execute_result"
    }
   ],
   "source": [
    "city[1:] = \"banglades\"\n",
    "city"
   ]
  },
  {
   "cell_type": "code",
   "execution_count": 10,
   "id": "33b3859a",
   "metadata": {},
   "outputs": [
    {
     "data": {
      "text/plain": [
       "[True, 'banglades']"
      ]
     },
     "execution_count": 10,
     "metadata": {},
     "output_type": "execute_result"
    }
   ],
   "source": [
    "city[1:] = \"banglades\",\n",
    "city"
   ]
  },
  {
   "cell_type": "code",
   "execution_count": 11,
   "id": "8e6a0e36",
   "metadata": {},
   "outputs": [
    {
     "name": "stdout",
     "output_type": "stream",
     "text": [
      "<class 'list'> [1, 2, 3, 4, 5, 6, 7, 8]\n"
     ]
    }
   ],
   "source": [
    "my_tuple = 1,2,3,4,5,6,7,8\n",
    "my_list = list(my_tuple)\n",
    "print(type(my_list), my_list)"
   ]
  },
  {
   "cell_type": "code",
   "execution_count": 13,
   "id": "83af12ca",
   "metadata": {},
   "outputs": [
    {
     "name": "stdout",
     "output_type": "stream",
     "text": [
      "(1, 2, 3, 4, 5, 6, 7, 8, 9)\n"
     ]
    }
   ],
   "source": [
    "print(tuple(range(1,10)))\n"
   ]
  },
  {
   "cell_type": "code",
   "execution_count": 18,
   "id": "3ea961bc",
   "metadata": {},
   "outputs": [
    {
     "name": "stdout",
     "output_type": "stream",
     "text": [
      "<class 'str'>\n",
      "six\n"
     ]
    }
   ],
   "source": [
    "mix_tuple =('11', 11, [2, 'two', ['six', 4], (4, 'fair')])\n",
    "print(type(mix_tuple[2][2][0]), mix_tuple[2][2][0], sep = '\\n')"
   ]
  },
  {
   "cell_type": "code",
   "execution_count": 19,
   "id": "afada9c1",
   "metadata": {},
   "outputs": [
    {
     "data": {
      "text/plain": [
       "('11', 11, [2, 'two', ['six', 4], (4, 'fair'), 'Caktirmayin'])"
      ]
     },
     "execution_count": 19,
     "metadata": {},
     "output_type": "execute_result"
    }
   ],
   "source": [
    "mix_tuple[2].append(\"Caktirmayin\")\n",
    "mix_tuple"
   ]
  },
  {
   "cell_type": "code",
   "execution_count": 4,
   "id": "f6e67a50",
   "metadata": {},
   "outputs": [
    {
     "name": "stdout",
     "output_type": "stream",
     "text": [
      "clarusway@yahoo.com\n"
     ]
    }
   ],
   "source": [
    "mail = \"clarusway@gmail.com\"\n",
    "new_domain = \"yahoo.com\"\n",
    "print(mail[:mail.index(\"@\")+1]+new_domain)"
   ]
  },
  {
   "cell_type": "code",
   "execution_count": 5,
   "id": "61351028",
   "metadata": {},
   "outputs": [
    {
     "name": "stdout",
     "output_type": "stream",
     "text": [
      "[4, 8, 12, 16, 20]\n"
     ]
    }
   ],
   "source": [
    "print([ x*2 for x in range(1,11) if x %2 ==0])\n"
   ]
  },
  {
   "cell_type": "code",
   "execution_count": 6,
   "id": "94ad8d2f",
   "metadata": {},
   "outputs": [
    {
     "ename": "SyntaxError",
     "evalue": "unexpected EOF while parsing (<ipython-input-6-e9132d8f98de>, line 1)",
     "output_type": "error",
     "traceback": [
      "\u001b[1;36m  File \u001b[1;32m\"<ipython-input-6-e9132d8f98de>\"\u001b[1;36m, line \u001b[1;32m1\u001b[0m\n\u001b[1;33m    print(type(\"x\")\u001b[0m\n\u001b[1;37m                   ^\u001b[0m\n\u001b[1;31mSyntaxError\u001b[0m\u001b[1;31m:\u001b[0m unexpected EOF while parsing\n"
     ]
    }
   ],
   "source": [
    "print(type(\"x\")"
   ]
  },
  {
   "cell_type": "code",
   "execution_count": 4,
   "id": "0f600576",
   "metadata": {},
   "outputs": [
    {
     "name": "stdout",
     "output_type": "stream",
     "text": [
      "hello\n"
     ]
    }
   ],
   "source": [
    "print(\"hello\")"
   ]
  },
  {
   "cell_type": "code",
   "execution_count": 25,
   "id": "a7ebd57a",
   "metadata": {},
   "outputs": [
    {
     "name": "stdout",
     "output_type": "stream",
     "text": [
      "the most frequent number is 3 and it was 4 times repeated\n"
     ]
    }
   ],
   "source": [
    "numbers = [1, 3, 7, 4, 3, 0, 3, 6, 3]\n",
    "a = max(numbers, key=numbers.count)\n",
    "b = numbers.count(a)\n",
    "print(\"the most frequent number is\", a, \"and it was\", b, \"times repeated\")\n"
   ]
  },
  {
   "cell_type": "code",
   "execution_count": null,
   "id": "19f095a2",
   "metadata": {},
   "outputs": [],
   "source": []
  },
  {
   "cell_type": "code",
   "execution_count": null,
   "id": "b8ffcda7",
   "metadata": {},
   "outputs": [],
   "source": []
  }
 ],
 "metadata": {
  "interpreter": {
   "hash": "c7c795ceb90a1e9ce126740c26b69a539ac4d6b6de3227ab1efd70667c579877"
  },
  "kernelspec": {
   "display_name": "Python 3",
   "language": "python",
   "name": "python3"
  },
  "language_info": {
   "codemirror_mode": {
    "name": "ipython",
    "version": 3
   },
   "file_extension": ".py",
   "mimetype": "text/x-python",
   "name": "python",
   "nbconvert_exporter": "python",
   "pygments_lexer": "ipython3",
   "version": "3.8.8"
  }
 },
 "nbformat": 4,
 "nbformat_minor": 5
}