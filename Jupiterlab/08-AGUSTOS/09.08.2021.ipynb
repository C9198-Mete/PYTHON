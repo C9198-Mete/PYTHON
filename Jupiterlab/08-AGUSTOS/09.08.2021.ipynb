{
 "cells": [
  {
   "cell_type": "code",
   "execution_count": 1,
   "source": [
    "def brothers(bro1,bro2,bro3):\r\n",
    "    print(\"Here are the names of family:\")\r\n",
    "    print(bro1,bro2,bro3, sep=\"\\n\")\r\n",
    "\r\n",
    "bros = [\"tom\", \"sue\", \"Bill\"]\r\n",
    "brothers(*bros)"
   ],
   "outputs": [
    {
     "output_type": "stream",
     "name": "stdout",
     "text": [
      "Here are the names of family:\n",
      "tom\n",
      "sue\n",
      "Bill\n"
     ]
    }
   ],
   "metadata": {}
  },
  {
   "cell_type": "code",
   "execution_count": 4,
   "source": [
    "cumle = \"bazen ODUN olmak istemisimdir.\"\r\n",
    "filter(,cumle)"
   ],
   "outputs": [
    {
     "output_type": "error",
     "ename": "SyntaxError",
     "evalue": "invalid syntax (<ipython-input-4-1ee5bd3d578d>, line 2)",
     "traceback": [
      "\u001b[1;36m  File \u001b[1;32m\"<ipython-input-4-1ee5bd3d578d>\"\u001b[1;36m, line \u001b[1;32m2\u001b[0m\n\u001b[1;33m    filter(,cumle)\u001b[0m\n\u001b[1;37m           ^\u001b[0m\n\u001b[1;31mSyntaxError\u001b[0m\u001b[1;31m:\u001b[0m invalid syntax\n"
     ]
    }
   ],
   "metadata": {}
  },
  {
   "cell_type": "code",
   "execution_count": 5,
   "source": [
    "def vowel():\r\n",
    "    vowel=[\"a\",\"e\",\"i\",\"u\",\"o\"]\r\n",
    "    if letter.lower() in vowel:\r\n",
    "        return True\r\n",
    "    else:\r\n",
    "        return False"
   ],
   "outputs": [],
   "metadata": {}
  },
  {
   "cell_type": "code",
   "execution_count": 6,
   "source": [
    "x = filter(vowel, cumle)\r\n",
    "list(x)"
   ],
   "outputs": [
    {
     "output_type": "error",
     "ename": "NameError",
     "evalue": "name 'cumle' is not defined",
     "traceback": [
      "\u001b[1;31m---------------------------------------------------------------------------\u001b[0m",
      "\u001b[1;31mNameError\u001b[0m                                 Traceback (most recent call last)",
      "\u001b[1;32m<ipython-input-6-62661ff916d6>\u001b[0m in \u001b[0;36m<module>\u001b[1;34m\u001b[0m\n\u001b[1;32m----> 1\u001b[1;33m \u001b[0mx\u001b[0m \u001b[1;33m=\u001b[0m \u001b[0mfilter\u001b[0m\u001b[1;33m(\u001b[0m\u001b[0mvowel\u001b[0m\u001b[1;33m,\u001b[0m \u001b[0mcumle\u001b[0m\u001b[1;33m)\u001b[0m\u001b[1;33m\u001b[0m\u001b[1;33m\u001b[0m\u001b[0m\n\u001b[0m\u001b[0;32m      2\u001b[0m \u001b[0mlist\u001b[0m\u001b[1;33m(\u001b[0m\u001b[0mx\u001b[0m\u001b[1;33m)\u001b[0m\u001b[1;33m\u001b[0m\u001b[1;33m\u001b[0m\u001b[0m\n",
      "\u001b[1;31mNameError\u001b[0m: name 'cumle' is not defined"
     ]
    }
   ],
   "metadata": {}
  },
  {
   "cell_type": "code",
   "execution_count": 7,
   "source": [
    "def merger(n1,n2,n3,n4):\r\n",
    "    print(f\"For me, {n1} {n4} and {n3} {n2} are genius.\")\r\n",
    "genius =('Bill', 'Rossum', 'Guido van', 'Gates')\r\n",
    "merger(*genius)"
   ],
   "outputs": [
    {
     "output_type": "stream",
     "name": "stdout",
     "text": [
      "For me, Bill Gates and Guido van Rossum are genius.\n"
     ]
    }
   ],
   "metadata": {}
  },
  {
   "cell_type": "code",
   "execution_count": 8,
   "source": [
    "def gene(x,y):\r\n",
    "    print(x, \"belongs to Generation X\")\r\n",
    "    print(y, \"belongs to Generation Y\")\r\n",
    "dict_gene = {\"y\" : \"Marry\", \"x\" : \"Fred\"}\r\n",
    "gene(**dict_gene)"
   ],
   "outputs": [
    {
     "output_type": "stream",
     "name": "stdout",
     "text": [
      "Fred belongs to Generation X\n",
      "Marry belongs to Generation Y\n"
     ]
    }
   ],
   "metadata": {}
  },
  {
   "cell_type": "code",
   "execution_count": 9,
   "source": [
    "dict_couple = {\"bride\" : [\"marry\",\"bella\",\"linda\",\"emma\"], \r\n",
    "               \"groom\" : [\"jack\",\"robert\",\"eric\",\"adam\"]}\r\n",
    "\r\n",
    "def muruvvet(bride, groom):\r\n",
    "    couple_list = []\r\n",
    "    for x in zip(bride, groom):\r\n",
    "        couple_list.append(x)\r\n",
    "    return couple_list\r\n",
    "\r\n",
    "muruvvet(**dict_couple)\r\n"
   ],
   "outputs": [
    {
     "output_type": "execute_result",
     "data": {
      "text/plain": [
       "[('marry', 'jack'), ('bella', 'robert'), ('linda', 'eric'), ('emma', 'adam')]"
      ]
     },
     "metadata": {},
     "execution_count": 9
    }
   ],
   "metadata": {}
  },
  {
   "cell_type": "code",
   "execution_count": 10,
   "source": [
    "def muruvvet_2(bride,groom):\r\n",
    "    return [ x for x in zip(bride,groom)]\r\n",
    "muruvvet_2(**dict_couple)"
   ],
   "outputs": [
    {
     "output_type": "execute_result",
     "data": {
      "text/plain": [
       "[('marry', 'jack'), ('bella', 'robert'), ('linda', 'eric'), ('emma', 'adam')]"
      ]
     },
     "metadata": {},
     "execution_count": 10
    }
   ],
   "metadata": {}
  },
  {
   "cell_type": "code",
   "execution_count": 11,
   "source": [
    "friends = {\"ahmet\" : 44, \"mehmet\" : 34, \"selim\" : 67}\r\n",
    "def meaner(ahmet,mehmet,selim):\r\n",
    "    avg = (ahmet + mehmet + selim) / 3\r\n",
    "    print(\"the avarege of people:\", avg)\r\n",
    "meaner(**friends)"
   ],
   "outputs": [
    {
     "output_type": "stream",
     "name": "stdout",
     "text": [
      "the avarege of people: 48.333333333333336\n"
     ]
    }
   ],
   "metadata": {}
  },
  {
   "cell_type": "code",
   "execution_count": 12,
   "source": [
    "x = \"[({}})[]\"\r\n",
    "def isValid(s) :\r\n",
    "    while \"()\" in s or \"{}\" in s or \"[]\" in s :\r\n",
    "        s = s.replace(\"()\",\"\").replace(\"{}\",\"\").replace(\"[]\", \"\")\r\n",
    "        return s == \"\"\r\n",
    "isValid(x)"
   ],
   "outputs": [
    {
     "output_type": "execute_result",
     "data": {
      "text/plain": [
       "False"
      ]
     },
     "metadata": {},
     "execution_count": 12
    }
   ],
   "metadata": {}
  },
  {
   "cell_type": "code",
   "execution_count": null,
   "source": [],
   "outputs": [],
   "metadata": {}
  }
 ],
 "metadata": {
  "orig_nbformat": 4,
  "language_info": {
   "name": "python",
   "version": "3.9.6",
   "mimetype": "text/x-python",
   "codemirror_mode": {
    "name": "ipython",
    "version": 3
   },
   "pygments_lexer": "ipython3",
   "nbconvert_exporter": "python",
   "file_extension": ".py"
  },
  "kernelspec": {
   "name": "python3",
   "display_name": "Python 3.9.6 64-bit"
  },
  "interpreter": {
   "hash": "c7c795ceb90a1e9ce126740c26b69a539ac4d6b6de3227ab1efd70667c579877"
  }
 },
 "nbformat": 4,
 "nbformat_minor": 2
}